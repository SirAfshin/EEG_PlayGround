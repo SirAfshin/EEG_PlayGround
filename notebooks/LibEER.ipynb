{
 "cells": [
  {
   "cell_type": "markdown",
   "metadata": {},
   "source": [
    "# Imports"
   ]
  },
  {
   "cell_type": "code",
   "execution_count": 1,
   "metadata": {},
   "outputs": [],
   "source": [
    "import sys\n",
    "import os\n",
    "\n",
    "# Dynamically add the root directory to sys.path\n",
    "# Assumes that 'models' and 'utils' are in the same project root directory\n",
    "project_root = os.path.abspath(os.path.join(os.path.dirname('.'), '..'))\n",
    "sys.path.insert(0, project_root)"
   ]
  },
  {
   "cell_type": "code",
   "execution_count": 2,
   "metadata": {},
   "outputs": [],
   "source": [
    "\n",
    "import math\n",
    "from sklearn.metrics import accuracy_score\n",
    "import torch \n",
    "import torch.nn as nn\n",
    "import torch.optim as optim\n",
    "import torch.nn.functional as F\n",
    "from torcheeg import transforms\n",
    "from torch.utils.data import DataLoader\n",
    "from torcheeg.datasets.constants import DREAMER_CHANNEL_LOCATION_DICT\n",
    "from torcheeg.datasets.constants import DREAMER_ADJACENCY_MATRIX\n",
    "from torcheeg.datasets import DREAMERDataset, DEAPDataset\n",
    "from torcheeg.model_selection import KFoldGroupbyTrial\n",
    "from torcheeg.model_selection import train_test_split_groupby_trial\n",
    "\n",
    "from tqdm import tqdm\n",
    "import matplotlib.pyplot as plt\n",
    "\n",
    "import warnings\n",
    "warnings.filterwarnings('ignore')"
   ]
  },
  {
   "cell_type": "code",
   "execution_count": 3,
   "metadata": {},
   "outputs": [],
   "source": [
    "import torch\n",
    "import torch.nn as nn\n",
    "import torch.optim as optim\n",
    "from torch.utils.data import TensorDataset, DataLoader, random_split\n",
    "import matplotlib.pyplot as plt\n",
    "import torch.nn.functional as F\n",
    "import pandas as pd\n",
    "from sklearn.metrics import r2_score\n",
    "from torchmetrics import Accuracy\n",
    "from torchmetrics.classification import BinaryAccuracy\n",
    "from tqdm import tqdm\n",
    "import re\n",
    "from sklearn.metrics import confusion_matrix, accuracy_score, f1_score\n",
    "\n"
   ]
  },
  {
   "cell_type": "code",
   "execution_count": 4,
   "metadata": {},
   "outputs": [],
   "source": [
    "# Local Imports\n",
    "from utils.checkpoint import train_and_save,  train_validate_and_save, train_validate_test_and_save, tvt_save_acc_loss_f1\n",
    "from utils.log import get_logger\n",
    "from utils.utils import print_var, train_one_epoch, train_one_epoch_lstm, get_num_params, train_one_step_tqdm\n",
    "from utils.transforms import STFTSpectrogram\n",
    "\n",
    "from models.cnn import Two_Layer_CNN, Two_Layer_CNN_Pro, Simplified_CNN\n",
    "from models.rnns import LSTM\n",
    "from models.cnn_lstm import LSTM_CNN_Model\n",
    "from models.Tsception import TSCEPTIONModel\n",
    "from models.YoloV9 import YOLO9_Backbone_Classifier\n",
    "from models.eegnet import EEGNet_Normal_data\n",
    "from models.Transformer import VanillaTransformer_time\n",
    "from models.tcn_based import EEGTCNet , TCNet_Fusion , ATCNet\n",
    "from models.gnn_based import DGCNN\n",
    "\n",
    "from models.dgcnn_test import DGCNN"
   ]
  },
  {
   "cell_type": "markdown",
   "metadata": {},
   "source": [
    "# Utils"
   ]
  },
  {
   "cell_type": "code",
   "execution_count": 5,
   "metadata": {},
   "outputs": [],
   "source": [
    "class AverageMeter(object):\n",
    "    \"\"\"Computes and stores the average and current value\"\"\"\n",
    "    def __init__(self):\n",
    "        self.reset()\n",
    "\n",
    "    def reset(self):\n",
    "        self.val = 0\n",
    "        self.avg = 0\n",
    "        self.sum = 0\n",
    "        self.count = 0\n",
    "\n",
    "    def update(self, val, n=1):\n",
    "        self.val = val\n",
    "        self.sum += val * n\n",
    "        self.count += n\n",
    "        self.avg = self.sum / self.count"
   ]
  },
  {
   "cell_type": "markdown",
   "metadata": {},
   "source": [
    "# Functions"
   ]
  },
  {
   "cell_type": "code",
   "execution_count": 6,
   "metadata": {},
   "outputs": [],
   "source": [
    "def train_one_step_tqdm_withF1(model, train_loader, loss_fn, optimizer, device, epoch=None, is_binary=True ,num_classes=None):\n",
    "    model.train()\n",
    "    loss_train = AverageMeter()\n",
    "    f1_train = AverageMeter()\n",
    "\n",
    "    if is_binary:\n",
    "        acc_train = BinaryAccuracy().to(device)\n",
    "    else:\n",
    "        acc_train = Accuracy(task='multiclass', num_classes= num_classes).to(device)\n",
    "    \n",
    "    with tqdm(train_loader, unit='batch') as tepoch:\n",
    "        for inputs, targets in tepoch:\n",
    "            if epoch != None:\n",
    "                tepoch.set_description(f\"Epoch: {epoch}\")\n",
    "            inputs = inputs.to(device)\n",
    "            targets = targets.to(device)\n",
    "\n",
    "            # remove nan data \n",
    "            inputs = torch.stack([data for data in inputs if ~torch.isnan(data).any()])\n",
    "            targets = torch.stack([targets[i] for (i,data) in enumerate(inputs) if ~torch.isnan(data).any()])\n",
    "\n",
    "            if is_binary:\n",
    "                targets = targets.float()\n",
    "            else:\n",
    "                targets = targets.squeeze().long()\n",
    "\n",
    "            outputs = model(inputs) + 1e-8  \n",
    "            loss = loss_fn(outputs, targets) + 1e-8 \n",
    "\n",
    "            predictions = torch.argmax(F.softmax(outputs,dim=1),dim=1).squeeze().detach().cpu()\n",
    "            f1 = f1_score(targets.cpu(), predictions)\n",
    "\n",
    "            loss.backward()\n",
    "            \n",
    "            # Weight Clipping\n",
    "            torch.nn.utils.clip_grad_norm_(model.parameters(), max_norm=0.5) ## 0.5 NEW ADDITION\n",
    "\n",
    "            optimizer.step()\n",
    "            optimizer.zero_grad()\n",
    "            \n",
    "            f1_train.update(f1)\n",
    "            loss_train.update(loss.item())\n",
    "            acc_train(outputs.squeeze(), targets.int())\n",
    "            \n",
    "            tepoch.set_postfix(loss= loss_train.avg,\n",
    "                                accuracy= 100.0 * acc_train.compute().item(),\n",
    "                                F1= f1_train.avg)\n",
    "\n",
    "    return model, loss_train.avg, acc_train.compute().item(), f1_train.avg"
   ]
  },
  {
   "cell_type": "code",
   "execution_count": 92,
   "metadata": {},
   "outputs": [],
   "source": [
    "def validation_with_tqdm_withF1(model, test_loader, loss_fn, device='cpu', is_binary=True, num_classes=None):\n",
    "    model.eval()\n",
    "    with torch.no_grad():\n",
    "        loss_valid = AverageMeter()\n",
    "        f1_valid = AverageMeter()\n",
    "        \n",
    "        if is_binary:\n",
    "            acc_valid = BinaryAccuracy().to(device)\n",
    "        else:\n",
    "            acc_valid = Accuracy(task='multiclass', num_classes= num_classes).to(device)\n",
    "\n",
    "    with tqdm(test_loader, unit='batch') as tepoch:\n",
    "        for inputs, targets in tepoch:\n",
    "            tepoch.set_description(f\"Validation - \")\n",
    "\n",
    "            inputs = inputs.to(device)\n",
    "            targets = targets.to(device)\n",
    "\n",
    "            # remove nan data \n",
    "            inputs = torch.stack([data for data in inputs if ~torch.isnan(data).any()])\n",
    "            targets = torch.stack([targets[i] for (i,data) in enumerate(inputs) if ~torch.isnan(data).any()])\n",
    "\n",
    "            if is_binary:\n",
    "                targets = targets.float()\n",
    "            else:\n",
    "                targets = targets.squeeze().long()\n",
    "\n",
    "            outputs = model(inputs)\n",
    "            loss = loss_fn(outputs, targets)\n",
    "\n",
    "            predictions = torch.argmax(F.softmax(outputs,dim=1),dim=1).squeeze().detach().cpu()\n",
    "            f1 = f1_score(targets.cpu(), predictions)\n",
    "\n",
    "            f1_valid.update(f1)\n",
    "            loss_valid.update(loss.item())\n",
    "            acc_valid(outputs.squeeze(), targets.int())\n",
    "            tepoch.set_postfix(loss= loss_valid.avg,\n",
    "                                accuracy= 100.0 * acc_valid.compute().item(),\n",
    "                                F1= f1_valid.avg)\n",
    "\n",
    "    return loss_valid.avg, acc_valid.compute().item(), f1_valid.avg"
   ]
  },
  {
   "cell_type": "markdown",
   "metadata": {},
   "source": [
    "# Get Dataset"
   ]
  },
  {
   "cell_type": "code",
   "execution_count": 103,
   "metadata": {},
   "outputs": [],
   "source": [
    "try:\n",
    "    del dataset\n",
    "except:\n",
    "    pass"
   ]
  },
  {
   "cell_type": "code",
   "execution_count": 104,
   "metadata": {},
   "outputs": [],
   "source": [
    "dataset = None\n",
    "dataset_name = ''\n",
    "emotion_dim = 'valence'  # valence, dominance, or arousal\n",
    "# nb == No Baseline Removal\n",
    "DATA_SET = 'DREAMER_t0' # 'DREAMER_t1' , 'DEAP' , 'DEAP_o32' , 'DREAMER_t1_b' , 'DEAP_t1_b' , 'DEAP_DE', 'DREAMER_t0'"
   ]
  },
  {
   "cell_type": "code",
   "execution_count": 105,
   "metadata": {},
   "outputs": [
    {
     "name": "stderr",
     "output_type": "stream",
     "text": [
      "[2025-01-01 17:49:09] INFO (torcheeg/MainThread) 🔍 | Detected cached processing results, reading cache from ../saves/datasets/Dreamer_time_01.\n"
     ]
    }
   ],
   "source": [
    "if DATA_SET == 'DREAMER_t1':\n",
    "    dataset_name= 'Dreamer_time_01'\n",
    "    \n",
    "    io_path = f'../saves/datasets/{dataset_name}'  # IO path to store the dataset \n",
    "    mat_path= '../raw_data/DREAMER.mat'\n",
    "    dataset = DREAMERDataset(io_path=f\"{io_path}\",\n",
    "                            mat_path=mat_path,\n",
    "                            offline_transform=transforms.Compose([\n",
    "                                # normalize along the second dimension (temproal dimension)\n",
    "                                transforms.MeanStdNormalize(axis=1, apply_to_baseline=True),# MeanStdNormalize() , MinMaxNormalize()\n",
    "                            ]),\n",
    "                            online_transform=transforms.Compose([\n",
    "                                # transforms.BaselineRemoval(),\n",
    "                                transforms.To2d(apply_to_baseline=True),\n",
    "                                transforms.ToTensor(),\n",
    "                            ]),\n",
    "                            label_transform=transforms.Compose([\n",
    "                                transforms.Select(emotion_dim),\n",
    "                                transforms.Binary(threshold=2.5),   \n",
    "                            ]),\n",
    "                            chunk_size=128, # -1 would be all the data of each trial for a chunk\n",
    "                            overlap = 0, \n",
    "                            io_mode = 'lmdb',\n",
    "                            baseline_chunk_size=128,\n",
    "                            num_baseline=61,\n",
    "                            num_worker=4)\n",
    "\n",
    "elif DATA_SET == 'DREAMER_t0':\n",
    "    dataset_name= 'Dreamer_time_01'\n",
    "    \n",
    "    io_path = f'../saves/datasets/{dataset_name}'  # IO path to store the dataset \n",
    "    mat_path= '../raw_data/DREAMER.mat'\n",
    "    dataset = DREAMERDataset(io_path=f\"{io_path}\",\n",
    "                            mat_path=mat_path,\n",
    "                            offline_transform=transforms.Compose([\n",
    "                                # normalize along the second dimension (temproal dimension)\n",
    "                                transforms.MeanStdNormalize(axis=1, apply_to_baseline=True),# MeanStdNormalize() , MinMaxNormalize()\n",
    "                            ]),\n",
    "                            online_transform=transforms.Compose([\n",
    "                                # transforms.BaselineRemoval(),\n",
    "                                # transforms.To2d(apply_to_baseline=True),\n",
    "                                transforms.ToTensor(),\n",
    "                            ]),\n",
    "                            label_transform=transforms.Compose([\n",
    "                                transforms.Select(emotion_dim),\n",
    "                                transforms.Binary(threshold=2.5),   \n",
    "                            ]),\n",
    "                            chunk_size=128, # -1 would be all the data of each trial for a chunk\n",
    "                            overlap = 0, \n",
    "                            io_mode = 'lmdb',\n",
    "                            baseline_chunk_size=128,\n",
    "                            num_baseline=61,\n",
    "                            num_worker=4)\n",
    "\n",
    "elif DATA_SET == 'DREAMER_t1_b':\n",
    "    dataset_name= 'Dreamer_time_01'\n",
    "    \n",
    "    io_path = f'../saves/datasets/{dataset_name}'  # IO path to store the dataset \n",
    "    mat_path= '../raw_data/DREAMER.mat'\n",
    "    dataset = DREAMERDataset(io_path=f\"{io_path}\",\n",
    "                            mat_path=mat_path,\n",
    "                            offline_transform=transforms.Compose([\n",
    "                                # normalize along the second dimension (temproal dimension)\n",
    "                                transforms.MeanStdNormalize(axis=1, apply_to_baseline=True),# MeanStdNormalize() , MinMaxNormalize()\n",
    "                            ]),\n",
    "                            online_transform=transforms.Compose([\n",
    "                                # transforms.BaselineRemoval(),\n",
    "                                transforms.To2d(apply_to_baseline=True),\n",
    "                                transforms.BaselineRemoval(),\n",
    "                                transforms.ToTensor(),\n",
    "                            ]),\n",
    "                            label_transform=transforms.Compose([\n",
    "                                transforms.Select(emotion_dim),\n",
    "                                transforms.Binary(threshold=2.5),   \n",
    "                            ]),\n",
    "                            chunk_size=128, # -1 would be all the data of each trial for a chunk\n",
    "                            overlap = 0, \n",
    "                            io_mode = 'lmdb',\n",
    "                            baseline_chunk_size=128,\n",
    "                            num_baseline=61,\n",
    "                            num_worker=4)\n",
    "elif DATA_SET == 'DEAP':\n",
    "    \n",
    "    dataset_name = 'DEAP_time_01_no' # Time data which is stored in memory\n",
    "    root_path = '../raw_data/DEAP'\n",
    "    io_path = f'../saves/datasets/{dataset_name}'  # IO path to store the dataset\n",
    "    dataset = DEAPDataset( root_path=root_path,\n",
    "                            io_path=io_path,\n",
    "                            offline_transform=transforms.Compose([\n",
    "                                transforms.MeanStdNormalize(axis=1, apply_to_baseline=True),# MeanStdNormalize() , MinMaxNormalize()\n",
    "                            ]),\n",
    "                            online_transform=transforms.Compose([\n",
    "                                transforms.To2d(apply_to_baseline=True),\n",
    "                                transforms.ToTensor(),\n",
    "                            ]),\n",
    "                            label_transform=transforms.Compose([\n",
    "                                transforms.Select(emotion_dim),\n",
    "                                transforms.Binary(5.0),\n",
    "                            ]),\n",
    "                            overlap = 0, # \n",
    "                            io_mode='lmdb',\n",
    "                            num_worker=4,\n",
    "                        )\n",
    "\n",
    "elif DATA_SET == 'DEAP_t1_b':\n",
    "    \n",
    "    dataset_name = 'DEAP_time_01_no' # Time data which is stored in memory\n",
    "    root_path = '../raw_data/DEAP'\n",
    "    io_path = f'../saves/datasets/{dataset_name}'  # IO path to store the dataset\n",
    "    dataset = DEAPDataset( root_path=root_path,\n",
    "                            io_path=io_path,\n",
    "                            offline_transform=transforms.Compose([\n",
    "                                transforms.MeanStdNormalize(axis=1, apply_to_baseline=True),# MeanStdNormalize() , MinMaxNormalize()\n",
    "                            ]),\n",
    "                            online_transform=transforms.Compose([\n",
    "                                transforms.To2d(apply_to_baseline=True),\n",
    "                                transforms.BaselineRemoval(),\n",
    "                                transforms.ToTensor(),\n",
    "                            ]),\n",
    "                            label_transform=transforms.Compose([\n",
    "                                transforms.Select(emotion_dim),\n",
    "                                transforms.Binary(5.0),\n",
    "                            ]),\n",
    "                            overlap = 0, # \n",
    "                            io_mode='lmdb',\n",
    "                            num_worker=4,\n",
    "                        )\n",
    "\n",
    "elif DATA_SET == \"DEAP_o32\":\n",
    "    \n",
    "    dataset_name = 'DEAP_time_o32_nb' # Time data which is stored in memory\n",
    "    root_path = '../raw_data/DEAP'\n",
    "    io_path = f'../saves/datasets/{dataset_name}'  # IO path to store the dataset\n",
    "    dataset = DEAPDataset( root_path=root_path,\n",
    "                            io_path=io_path,\n",
    "                            offline_transform=transforms.Compose([\n",
    "                                transforms.MeanStdNormalize(axis=1, apply_to_baseline=True),# MeanStdNormalize() , MinMaxNormalize()\n",
    "                            ]),\n",
    "                            online_transform=transforms.Compose([\n",
    "                                transforms.To2d(apply_to_baseline=True),\n",
    "                                transforms.ToTensor(),\n",
    "                                ]),\n",
    "                            label_transform=transforms.Compose([\n",
    "                                transforms.Select(emotion_dim),\n",
    "                                transforms.Binary(5.0),\n",
    "                            ]),\n",
    "                            overlap = 96, # 128 - 32\n",
    "                            io_mode='lmdb',\n",
    "                            num_worker=4,\n",
    "                        )\n",
    "\n",
    "elif DATA_SET == \"DEAP_DE\":\n",
    "    dataset_name = 'DEAP_DE' # Time data which is stored in memory\n",
    "    root_path = '../raw_data/DEAP'\n",
    "    io_path = f'../saves/datasets/{dataset_name}'  # IO path to store the dataset\n",
    "    dataset = DEAPDataset( root_path=root_path,\n",
    "                            io_path=io_path,\n",
    "                            offline_transform=transforms.Compose([\n",
    "                                transforms.BandDifferentialEntropy(band_dict={\"delta\": [1, 4],\"theta\": [4, 8],\\\n",
    "                                                                   \"alpha\": [8, 14],\"beta\": [14, 31],\"gamma\": [31, 49]}, \\\n",
    "                                                                    apply_to_baseline=True),\n",
    "                                # transforms.MeanStdNormalize(axis=1, apply_to_baseline=True),# MeanStdNormalize() , MinMaxNormalize()\n",
    "                            ]),\n",
    "                            online_transform=transforms.Compose([\n",
    "                                # transforms.To2d(apply_to_baseline=True),\n",
    "                                transforms.ToTensor(),\n",
    "                            ]),\n",
    "                            label_transform=transforms.Compose([\n",
    "                                transforms.Select(emotion_dim),\n",
    "                                transforms.Binary(5.0),\n",
    "                            ]),\n",
    "                            overlap = 0, # \n",
    "                            io_mode='lmdb',\n",
    "                            num_worker=4,\n",
    "                        )"
   ]
  },
  {
   "cell_type": "code",
   "execution_count": 106,
   "metadata": {},
   "outputs": [
    {
     "data": {
      "text/plain": [
       "DREAMERDataset(\n",
       "    io_path='../saves/datasets/Dreamer_time_01',\n",
       "    io_size=1048576,\n",
       "    io_mode='lmdb',\n",
       "    mat_path='../raw_data/DREAMER.mat',\n",
       "    chunk_size=128,\n",
       "    overlap=0,\n",
       "    num_channel=14,\n",
       "    num_baseline=61,\n",
       "    baseline_chunk_size=128,\n",
       "    online_transform=Compose(\n",
       "    ToTensor(apply_to_baseline=False)\n",
       "),\n",
       "    offline_transform=Compose(\n",
       "    MeanStdNormalize(apply_to_baseline=True, mean=None, std=None, axis=1)\n",
       "),\n",
       "    label_transform=Compose(\n",
       "    Select(key='valence'),\n",
       "    Binary(threshold=2.5)\n",
       "),\n",
       "    before_trial=None,\n",
       "    after_trial=None,\n",
       "    num_worker=4,\n",
       "    verbose=True\n",
       ")\n",
       "length=85744"
      ]
     },
     "execution_count": 106,
     "metadata": {},
     "output_type": "execute_result"
    }
   ],
   "source": [
    "dataset"
   ]
  },
  {
   "cell_type": "code",
   "execution_count": 107,
   "metadata": {},
   "outputs": [
    {
     "data": {
      "text/plain": [
       "torch.Size([14, 128])"
      ]
     },
     "execution_count": 107,
     "metadata": {},
     "output_type": "execute_result"
    }
   ],
   "source": [
    "dataset[0][0].shape"
   ]
  },
  {
   "cell_type": "code",
   "execution_count": 108,
   "metadata": {},
   "outputs": [
    {
     "data": {
      "text/plain": [
       "1"
      ]
     },
     "execution_count": 108,
     "metadata": {},
     "output_type": "execute_result"
    }
   ],
   "source": [
    "dataset[0][1]"
   ]
  },
  {
   "cell_type": "markdown",
   "metadata": {},
   "source": [
    "# Train Test Validation Split"
   ]
  },
  {
   "cell_type": "code",
   "execution_count": 109,
   "metadata": {},
   "outputs": [
    {
     "name": "stderr",
     "output_type": "stream",
     "text": [
      "[2025-01-01 17:49:16] INFO (torcheeg/MainThread) 📊 | Create the split of train and test set.\n",
      "[2025-01-01 17:49:16] INFO (torcheeg/MainThread) 😊 | Please set \u001b[92msplit_path\u001b[0m to \u001b[92m.torcheeg\\model_selection_1735741156336_GkDnP\u001b[0m for the next run, if you want to use the same setting for the experiment.\n",
      "[2025-01-01 17:49:18] INFO (torcheeg/MainThread) 📊 | Create the split of train and test set.\n",
      "[2025-01-01 17:49:18] INFO (torcheeg/MainThread) 😊 | Please set \u001b[92msplit_path\u001b[0m to \u001b[92m.torcheeg\\model_selection_1735741158067_a7nAo\u001b[0m for the next run, if you want to use the same setting for the experiment.\n"
     ]
    }
   ],
   "source": [
    "# Split train val test \n",
    "train_dataset, test_dataset = train_test_split_groupby_trial(dataset= dataset, test_size = 0.2, shuffle= True) #, random_state= rng_num)\n",
    "train_dataset, val_dataset = train_test_split_groupby_trial(dataset= train_dataset, test_size = 0.1, shuffle=True) #, random_state= rng_num)"
   ]
  },
  {
   "cell_type": "markdown",
   "metadata": {},
   "source": [
    "# DataLoader"
   ]
  },
  {
   "cell_type": "code",
   "execution_count": 110,
   "metadata": {},
   "outputs": [],
   "source": [
    "batch_size = 512"
   ]
  },
  {
   "cell_type": "code",
   "execution_count": 111,
   "metadata": {},
   "outputs": [],
   "source": [
    "# Create train/val/test dataloaders\n",
    "train_loader = DataLoader(train_dataset, batch_size= batch_size, shuffle=True)\n",
    "val_loader = DataLoader(val_dataset, batch_size= batch_size, shuffle=True)\n",
    "test_loader = DataLoader(test_dataset, batch_size= batch_size, shuffle=False)"
   ]
  },
  {
   "cell_type": "markdown",
   "metadata": {},
   "source": [
    "# Check dataset size and so on "
   ]
  },
  {
   "cell_type": "code",
   "execution_count": 112,
   "metadata": {},
   "outputs": [
    {
     "name": "stdout",
     "output_type": "stream",
     "text": [
      "Dataset is ready!\n",
      "Dataset size: 85744\n",
      "Train Size: 61364, Validation Size: 7038 , Test Size: 17342\n",
      "Input data shape: torch.Size([14, 128])\n",
      "Output data (one sample): 1\n",
      "******************************\n",
      "Number of batches inside train dataloader : 120\n",
      "Number of batches inside validation dataloader : 14\n",
      "Number of batches inside test dataloader : 34\n",
      "******************************\n"
     ]
    }
   ],
   "source": [
    "print(\"Dataset is ready!\")\n",
    "print(f\"Dataset size: {len(dataset)}\")\n",
    "print(f\"Train Size: {len(train_dataset)}, Validation Size: {len(val_dataset)} , Test Size: {len(test_dataset)}\")\n",
    "print(f\"Input data shape: {dataset[0][0].shape}\")\n",
    "print(f\"Output data (one sample): {dataset[0][1]}\")\n",
    "\n",
    "print('*' * 30)\n",
    "\n",
    "print_var(\"Number of batches inside train dataloader\",len(train_loader))\n",
    "print_var(\"Number of batches inside validation dataloader\",len(val_loader))\n",
    "print_var(\"Number of batches inside test dataloader\",len(test_loader))\n",
    "\n",
    "print('*' * 30)"
   ]
  },
  {
   "cell_type": "markdown",
   "metadata": {},
   "source": [
    "# Choose Device"
   ]
  },
  {
   "cell_type": "code",
   "execution_count": 113,
   "metadata": {},
   "outputs": [
    {
     "name": "stdout",
     "output_type": "stream",
     "text": [
      "Using device: cuda\n"
     ]
    }
   ],
   "source": [
    "device = torch.device(\"cuda\" if torch.cuda.is_available() else \"cpu\")\n",
    "print(f\"Using device: {device}\")"
   ]
  },
  {
   "cell_type": "markdown",
   "metadata": {},
   "source": [
    "# Choose model"
   ]
  },
  {
   "cell_type": "code",
   "execution_count": 114,
   "metadata": {},
   "outputs": [],
   "source": [
    "# ****************** Choose your Model ******************************\n",
    "# model = Two_Layer_CNN()\n",
    "# model = EEGTCNet(n_classes=2)\n",
    "# model = TCNet_Fusion(input_size= dataset[0][0].shape, n_classes= 2, channels= dataset[0][0].shape[1], sampling_rate= 128)\n",
    "\n",
    "# model = ATCNet(dataset[0][0].shape, dataset[0][0].shape[1] , n_classes=2, n_windows=8,\n",
    "#                    eegn_F1=24, eegn_D=2, eegn_kernelSize=50, eegn_poolSize=1, eegn_dropout=0.3, num_heads=2,\n",
    "#                    tcn_depth=2, tcn_kernelSize=4, tcn_filters=32, tcn_dropout=0.3, fuse='average',activation='elu')\n",
    "\n",
    "model = DGCNN(in_channels= 5,\n",
    "              num_electrodes= 32,\n",
    "              num_layers= 2,\n",
    "              hid_channels= 32,\n",
    "              num_classes= 2)"
   ]
  },
  {
   "cell_type": "code",
   "execution_count": 115,
   "metadata": {},
   "outputs": [
    {
     "name": "stdout",
     "output_type": "stream",
     "text": [
      "Selected model name : DGCNN\n",
      "Model is  : DGCNN(\n",
      "  (layer1): Chebynet(\n",
      "    (gc1): ModuleList(\n",
      "      (0-1): 2 x GraphConvolution()\n",
      "    )\n",
      "  )\n",
      "  (BN1): BatchNorm1d(5, eps=1e-05, momentum=0.1, affine=True, track_running_stats=True)\n",
      "  (fc1): Linear(\n",
      "    (linear): Linear(in_features=1024, out_features=64, bias=True)\n",
      "  )\n",
      "  (fc2): Linear(\n",
      "    (linear): Linear(in_features=64, out_features=2, bias=True)\n",
      "  )\n",
      ")\n",
      "******************************\n"
     ]
    }
   ],
   "source": [
    "print(f\"Selected model name : {model.__class__.__name__}\")\n",
    "# print(f\"Model parameter count: {get_num_params(model,1)}\")\n",
    "print_var(\"Model is \", model)\n",
    "print('*' * 30)"
   ]
  },
  {
   "cell_type": "markdown",
   "metadata": {},
   "source": [
    "#  Choose Loss Function"
   ]
  },
  {
   "cell_type": "code",
   "execution_count": 116,
   "metadata": {},
   "outputs": [],
   "source": [
    "loss_fn = nn.CrossEntropyLoss()\n",
    "# loss_fn = nn.BCEWithLogitsLoss()\n",
    "# loss_fn = nn.MSELoss()\n"
   ]
  },
  {
   "cell_type": "markdown",
   "metadata": {},
   "source": [
    "# Choose Optimizer"
   ]
  },
  {
   "cell_type": "code",
   "execution_count": 117,
   "metadata": {},
   "outputs": [],
   "source": [
    "optimizer = optim.Adam(model.parameters(), lr=0.001) # lr = 0.0001  0.001\n",
    "# optimizer = optim.Adam(model.parameters(), lr=0.01) # lr = 0.0001  0.001\n",
    "# optimizer = optim.SGD(model.parameters(), lr=0.001, momentum=0.937)"
   ]
  },
  {
   "cell_type": "markdown",
   "metadata": {},
   "source": [
    "# Start train"
   ]
  },
  {
   "cell_type": "code",
   "execution_count": 55,
   "metadata": {},
   "outputs": [
    {
     "name": "stdout",
     "output_type": "stream",
     "text": [
      "Start training for 20 epoch\n"
     ]
    }
   ],
   "source": [
    "num_epochs = 20 # 300 500 600\n",
    "model_name = DATA_SET + '_' + model.__class__.__name__ + \"_LibEER\" \n",
    "\n",
    "print(f\"Start training for {num_epochs} epoch\")\n",
    "\n",
    "model = model.to(device)"
   ]
  },
  {
   "cell_type": "code",
   "execution_count": 56,
   "metadata": {},
   "outputs": [
    {
     "name": "stdout",
     "output_type": "stream",
     "text": [
      "..\\saves\\models\\Dreamer_time_01\\DREAMER_t1_ATCNet_LibEER\\logs\\valence\n"
     ]
    },
    {
     "name": "stderr",
     "output_type": "stream",
     "text": [
      "  0%|          | 0/120 [00:00<?, ?batch/s]"
     ]
    },
    {
     "name": "stderr",
     "output_type": "stream",
     "text": [
      "Epoch: 0: 100%|██████████| 120/120 [04:26<00:00,  2.22s/batch, F1=0.744, accuracy=60.8, loss=0.666]\n",
      "Validation - : 100%|██████████| 14/14 [00:23<00:00,  1.70s/batch, F1=0.755, accuracy=62.1, loss=0.661]\n"
     ]
    },
    {
     "name": "stdout",
     "output_type": "stream",
     "text": [
      "Model saved to ..\\saves\\models\\Dreamer_time_01\\DREAMER_t1_ATCNet_LibEER\\valence\\1\\best_model_checkpoint_loss.pth\n",
      "New best model saved with loss 0.6660 at epoch 0\n",
      "Model saved to ..\\saves\\models\\Dreamer_time_01\\DREAMER_t1_ATCNet_LibEER\\valence\\1\\best_model_checkpoint_acc.pth\n",
      "New best model saved with Acc 0.6210 at epoch 0\n"
     ]
    },
    {
     "name": "stderr",
     "output_type": "stream",
     "text": [
      "Epoch: 1: 100%|██████████| 120/120 [04:04<00:00,  2.03s/batch, F1=0.75, accuracy=62.4, loss=0.654] \n",
      "Validation - : 100%|██████████| 14/14 [00:23<00:00,  1.66s/batch, F1=0.765, accuracy=63, loss=0.656]  \n"
     ]
    },
    {
     "name": "stdout",
     "output_type": "stream",
     "text": [
      "Model saved to ..\\saves\\models\\Dreamer_time_01\\DREAMER_t1_ATCNet_LibEER\\valence\\1\\best_model_checkpoint_loss.pth\n",
      "New best model saved with loss 0.6537 at epoch 1\n",
      "Model saved to ..\\saves\\models\\Dreamer_time_01\\DREAMER_t1_ATCNet_LibEER\\valence\\1\\best_model_checkpoint_acc.pth\n",
      "New best model saved with Acc 0.6297 at epoch 1\n"
     ]
    },
    {
     "name": "stderr",
     "output_type": "stream",
     "text": [
      "Epoch: 2: 100%|██████████| 120/120 [04:02<00:00,  2.02s/batch, F1=0.753, accuracy=63.3, loss=0.648]\n",
      "Validation - : 100%|██████████| 14/14 [00:23<00:00,  1.67s/batch, F1=0.758, accuracy=63.5, loss=0.644]\n"
     ]
    },
    {
     "name": "stdout",
     "output_type": "stream",
     "text": [
      "Model saved to ..\\saves\\models\\Dreamer_time_01\\DREAMER_t1_ATCNet_LibEER\\valence\\1\\best_model_checkpoint_loss.pth\n",
      "New best model saved with loss 0.6480 at epoch 2\n",
      "Model saved to ..\\saves\\models\\Dreamer_time_01\\DREAMER_t1_ATCNet_LibEER\\valence\\1\\best_model_checkpoint_acc.pth\n",
      "New best model saved with Acc 0.6352 at epoch 2\n"
     ]
    },
    {
     "name": "stderr",
     "output_type": "stream",
     "text": [
      "Epoch: 3: 100%|██████████| 120/120 [04:02<00:00,  2.02s/batch, F1=0.755, accuracy=64.1, loss=0.641]\n",
      "Validation - : 100%|██████████| 14/14 [00:23<00:00,  1.69s/batch, F1=0.763, accuracy=63.7, loss=0.642]\n"
     ]
    },
    {
     "name": "stdout",
     "output_type": "stream",
     "text": [
      "Model saved to ..\\saves\\models\\Dreamer_time_01\\DREAMER_t1_ATCNet_LibEER\\valence\\1\\best_model_checkpoint_loss.pth\n",
      "New best model saved with loss 0.6412 at epoch 3\n",
      "Model saved to ..\\saves\\models\\Dreamer_time_01\\DREAMER_t1_ATCNet_LibEER\\valence\\1\\best_model_checkpoint_acc.pth\n",
      "New best model saved with Acc 0.6369 at epoch 3\n"
     ]
    },
    {
     "name": "stderr",
     "output_type": "stream",
     "text": [
      "Epoch: 4: 100%|██████████| 120/120 [04:01<00:00,  2.02s/batch, F1=0.756, accuracy=64.3, loss=0.638]\n",
      "Validation - : 100%|██████████| 14/14 [00:23<00:00,  1.67s/batch, F1=0.76, accuracy=64.3, loss=0.644] \n"
     ]
    },
    {
     "name": "stdout",
     "output_type": "stream",
     "text": [
      "Model saved to ..\\saves\\models\\Dreamer_time_01\\DREAMER_t1_ATCNet_LibEER\\valence\\1\\best_model_checkpoint_loss.pth\n",
      "New best model saved with loss 0.6384 at epoch 4\n",
      "Model saved to ..\\saves\\models\\Dreamer_time_01\\DREAMER_t1_ATCNet_LibEER\\valence\\1\\best_model_checkpoint_acc.pth\n",
      "New best model saved with Acc 0.6426 at epoch 4\n"
     ]
    },
    {
     "name": "stderr",
     "output_type": "stream",
     "text": [
      "Epoch: 5: 100%|██████████| 120/120 [04:02<00:00,  2.02s/batch, F1=0.757, accuracy=64.6, loss=0.636]\n",
      "Validation - : 100%|██████████| 14/14 [00:21<00:00,  1.55s/batch, F1=0.756, accuracy=64.8, loss=0.64] \n"
     ]
    },
    {
     "name": "stdout",
     "output_type": "stream",
     "text": [
      "Model saved to ..\\saves\\models\\Dreamer_time_01\\DREAMER_t1_ATCNet_LibEER\\valence\\1\\best_model_checkpoint_loss.pth\n",
      "New best model saved with loss 0.6358 at epoch 5\n",
      "Model saved to ..\\saves\\models\\Dreamer_time_01\\DREAMER_t1_ATCNet_LibEER\\valence\\1\\best_model_checkpoint_acc.pth\n",
      "New best model saved with Acc 0.6483 at epoch 5\n"
     ]
    },
    {
     "name": "stderr",
     "output_type": "stream",
     "text": [
      "Epoch: 6: 100%|██████████| 120/120 [03:51<00:00,  1.93s/batch, F1=0.76, accuracy=65.3, loss=0.631]\n",
      "Validation - : 100%|██████████| 14/14 [00:23<00:00,  1.70s/batch, F1=0.763, accuracy=64.5, loss=0.635]\n"
     ]
    },
    {
     "name": "stdout",
     "output_type": "stream",
     "text": [
      "Model saved to ..\\saves\\models\\Dreamer_time_01\\DREAMER_t1_ATCNet_LibEER\\valence\\1\\best_model_checkpoint_loss.pth\n",
      "New best model saved with loss 0.6310 at epoch 6\n"
     ]
    },
    {
     "name": "stderr",
     "output_type": "stream",
     "text": [
      "Epoch: 7: 100%|██████████| 120/120 [03:54<00:00,  1.96s/batch, F1=0.76, accuracy=65.7, loss=0.627] \n",
      "Validation - : 100%|██████████| 14/14 [00:22<00:00,  1.58s/batch, F1=0.761, accuracy=64.8, loss=0.633]\n"
     ]
    },
    {
     "name": "stdout",
     "output_type": "stream",
     "text": [
      "Model saved to ..\\saves\\models\\Dreamer_time_01\\DREAMER_t1_ATCNet_LibEER\\valence\\1\\best_model_checkpoint_loss.pth\n",
      "New best model saved with loss 0.6273 at epoch 7\n",
      "Model saved to ..\\saves\\models\\Dreamer_time_01\\DREAMER_t1_ATCNet_LibEER\\valence\\1\\best_model_checkpoint_acc.pth\n",
      "New best model saved with Acc 0.6485 at epoch 7\n"
     ]
    },
    {
     "name": "stderr",
     "output_type": "stream",
     "text": [
      "Epoch: 8: 100%|██████████| 120/120 [03:50<00:00,  1.92s/batch, F1=0.762, accuracy=66.1, loss=0.623]\n",
      "Validation - : 100%|██████████| 14/14 [00:21<00:00,  1.57s/batch, F1=0.747, accuracy=65.2, loss=0.627]\n"
     ]
    },
    {
     "name": "stdout",
     "output_type": "stream",
     "text": [
      "Model saved to ..\\saves\\models\\Dreamer_time_01\\DREAMER_t1_ATCNet_LibEER\\valence\\1\\best_model_checkpoint_loss.pth\n",
      "New best model saved with loss 0.6227 at epoch 8\n",
      "Model saved to ..\\saves\\models\\Dreamer_time_01\\DREAMER_t1_ATCNet_LibEER\\valence\\1\\best_model_checkpoint_acc.pth\n",
      "New best model saved with Acc 0.6523 at epoch 8\n"
     ]
    },
    {
     "name": "stderr",
     "output_type": "stream",
     "text": [
      "Epoch: 9: 100%|██████████| 120/120 [03:43<00:00,  1.86s/batch, F1=0.76, accuracy=65.8, loss=0.625] \n",
      "Validation - : 100%|██████████| 14/14 [00:20<00:00,  1.49s/batch, F1=0.749, accuracy=66.1, loss=0.621]\n"
     ]
    },
    {
     "name": "stdout",
     "output_type": "stream",
     "text": [
      "Model saved to ..\\saves\\models\\Dreamer_time_01\\DREAMER_t1_ATCNet_LibEER\\valence\\1\\best_model_checkpoint_acc.pth\n",
      "New best model saved with Acc 0.6611 at epoch 9\n"
     ]
    },
    {
     "name": "stderr",
     "output_type": "stream",
     "text": [
      "Epoch: 10: 100%|██████████| 120/120 [03:41<00:00,  1.84s/batch, F1=0.761, accuracy=66.2, loss=0.622]\n",
      "Validation - : 100%|██████████| 14/14 [00:21<00:00,  1.53s/batch, F1=0.755, accuracy=65.2, loss=0.627]\n"
     ]
    },
    {
     "name": "stdout",
     "output_type": "stream",
     "text": [
      "Model saved to ..\\saves\\models\\Dreamer_time_01\\DREAMER_t1_ATCNet_LibEER\\valence\\1\\best_model_checkpoint_loss.pth\n",
      "New best model saved with loss 0.6224 at epoch 10\n",
      "Loss plot saved to ..\\saves\\models\\Dreamer_time_01\\DREAMER_t1_ATCNet_LibEER\\valence\\1\\training_loss.png\n",
      "Accuracy plot saved to ..\\saves\\models\\Dreamer_time_01\\DREAMER_t1_ATCNet_LibEER\\valence\\1\\training_accuracy.png\n",
      "Loss plot saved to ..\\saves\\models\\Dreamer_time_01\\DREAMER_t1_ATCNet_LibEER\\valence\\1\\validation_loss.png\n",
      "Accuracy plot saved to ..\\saves\\models\\Dreamer_time_01\\DREAMER_t1_ATCNet_LibEER\\valence\\1\\validation_accuracy.png\n",
      "Loss plot saved to ..\\saves\\models\\Dreamer_time_01\\DREAMER_t1_ATCNet_LibEER\\valence\\1\\F1_Only_loss.png\n",
      "Accuracy plot saved to ..\\saves\\models\\Dreamer_time_01\\DREAMER_t1_ATCNet_LibEER\\valence\\1\\F1_Only_accuracy.png\n"
     ]
    },
    {
     "name": "stderr",
     "output_type": "stream",
     "text": [
      "Epoch: 11: 100%|██████████| 120/120 [03:52<00:00,  1.94s/batch, F1=0.759, accuracy=66.2, loss=0.621]\n",
      "Validation - : 100%|██████████| 14/14 [00:22<00:00,  1.63s/batch, F1=0.76, accuracy=64.8, loss=0.631] \n"
     ]
    },
    {
     "name": "stdout",
     "output_type": "stream",
     "text": [
      "Model saved to ..\\saves\\models\\Dreamer_time_01\\DREAMER_t1_ATCNet_LibEER\\valence\\1\\best_model_checkpoint_loss.pth\n",
      "New best model saved with loss 0.6210 at epoch 11\n"
     ]
    },
    {
     "name": "stderr",
     "output_type": "stream",
     "text": [
      "Epoch: 12: 100%|██████████| 120/120 [03:46<00:00,  1.89s/batch, F1=0.762, accuracy=66.6, loss=0.619]\n",
      "Validation - : 100%|██████████| 14/14 [00:20<00:00,  1.49s/batch, F1=0.755, accuracy=65.2, loss=0.627]\n"
     ]
    },
    {
     "name": "stdout",
     "output_type": "stream",
     "text": [
      "Model saved to ..\\saves\\models\\Dreamer_time_01\\DREAMER_t1_ATCNet_LibEER\\valence\\1\\best_model_checkpoint_loss.pth\n",
      "New best model saved with loss 0.6188 at epoch 12\n"
     ]
    },
    {
     "name": "stderr",
     "output_type": "stream",
     "text": [
      "Epoch: 13: 100%|██████████| 120/120 [03:43<00:00,  1.86s/batch, F1=0.763, accuracy=66.9, loss=0.617]\n",
      "Validation - : 100%|██████████| 14/14 [00:22<00:00,  1.59s/batch, F1=0.762, accuracy=66.4, loss=0.618]\n"
     ]
    },
    {
     "name": "stdout",
     "output_type": "stream",
     "text": [
      "Model saved to ..\\saves\\models\\Dreamer_time_01\\DREAMER_t1_ATCNet_LibEER\\valence\\1\\best_model_checkpoint_loss.pth\n",
      "New best model saved with loss 0.6168 at epoch 13\n",
      "Model saved to ..\\saves\\models\\Dreamer_time_01\\DREAMER_t1_ATCNet_LibEER\\valence\\1\\best_model_checkpoint_acc.pth\n",
      "New best model saved with Acc 0.6637 at epoch 13\n"
     ]
    },
    {
     "name": "stderr",
     "output_type": "stream",
     "text": [
      "Epoch: 14: 100%|██████████| 120/120 [03:57<00:00,  1.98s/batch, F1=0.763, accuracy=66.8, loss=0.617]\n",
      "Validation - : 100%|██████████| 14/14 [00:21<00:00,  1.56s/batch, F1=0.75, accuracy=65.1, loss=0.63]  \n",
      "Epoch: 15: 100%|██████████| 120/120 [03:52<00:00,  1.93s/batch, F1=0.763, accuracy=67.1, loss=0.615]\n",
      "Validation - : 100%|██████████| 14/14 [00:20<00:00,  1.50s/batch, F1=0.761, accuracy=65.8, loss=0.622]\n"
     ]
    },
    {
     "name": "stdout",
     "output_type": "stream",
     "text": [
      "Model saved to ..\\saves\\models\\Dreamer_time_01\\DREAMER_t1_ATCNet_LibEER\\valence\\1\\best_model_checkpoint_loss.pth\n",
      "New best model saved with loss 0.6145 at epoch 15\n"
     ]
    },
    {
     "name": "stderr",
     "output_type": "stream",
     "text": [
      "Epoch: 16:  40%|████      | 48/120 [01:34<02:22,  1.98s/batch, F1=0.761, accuracy=66.6, loss=0.618]\n"
     ]
    },
    {
     "ename": "KeyboardInterrupt",
     "evalue": "",
     "output_type": "error",
     "traceback": [
      "\u001b[1;31m---------------------------------------------------------------------------\u001b[0m",
      "\u001b[1;31mKeyboardInterrupt\u001b[0m                         Traceback (most recent call last)",
      "Cell \u001b[1;32mIn[56], line 3\u001b[0m\n\u001b[0;32m      1\u001b[0m loss_hist, acc_hist , loss_val_hist , \\\n\u001b[0;32m      2\u001b[0m acc_val_hist, loss_test, acc_test ,\\\n\u001b[1;32m----> 3\u001b[0m (f1_hist, f1_val_hist, f1_test) \u001b[38;5;241m=\u001b[39m \u001b[43mtvt_save_acc_loss_f1\u001b[49m\u001b[43m(\u001b[49m\u001b[43mmodel\u001b[49m\u001b[43m,\u001b[49m\u001b[43m \u001b[49m\n\u001b[0;32m      4\u001b[0m \u001b[43m                                                        \u001b[49m\u001b[43mdataset_name\u001b[49m\u001b[43m,\u001b[49m\u001b[43m \u001b[49m\n\u001b[0;32m      5\u001b[0m \u001b[43m                                                        \u001b[49m\u001b[43mmodel_name\u001b[49m\u001b[43m,\u001b[49m\u001b[43m \u001b[49m\n\u001b[0;32m      6\u001b[0m \u001b[43m                                                        \u001b[49m\u001b[43memotion_dim\u001b[49m\u001b[43m,\u001b[49m\u001b[43m \u001b[49m\n\u001b[0;32m      7\u001b[0m \u001b[43m                                                        \u001b[49m\u001b[43mtrain_loader\u001b[49m\u001b[43m,\u001b[49m\u001b[43m \u001b[49m\n\u001b[0;32m      8\u001b[0m \u001b[43m                                                        \u001b[49m\u001b[43mval_loader\u001b[49m\u001b[43m,\u001b[49m\n\u001b[0;32m      9\u001b[0m \u001b[43m                                                        \u001b[49m\u001b[43mtest_loader\u001b[49m\u001b[43m,\u001b[49m\u001b[43m  \u001b[49m\n\u001b[0;32m     10\u001b[0m \u001b[43m                                                        \u001b[49m\u001b[43moptimizer\u001b[49m\u001b[43m,\u001b[49m\u001b[43m \u001b[49m\n\u001b[0;32m     11\u001b[0m \u001b[43m                                                        \u001b[49m\u001b[43mloss_fn\u001b[49m\u001b[43m,\u001b[49m\u001b[43m \u001b[49m\n\u001b[0;32m     12\u001b[0m \u001b[43m                                                        \u001b[49m\u001b[43mdevice\u001b[49m\u001b[43m,\u001b[49m\u001b[43m \u001b[49m\n\u001b[0;32m     13\u001b[0m \u001b[43m                                                        \u001b[49m\u001b[43mnum_epochs\u001b[49m\u001b[38;5;241;43m=\u001b[39;49m\u001b[43mnum_epochs\u001b[49m\u001b[43m,\u001b[49m\n\u001b[0;32m     14\u001b[0m \u001b[43m                                                        \u001b[49m\u001b[43mis_binary\u001b[49m\u001b[38;5;241;43m=\u001b[39;49m\u001b[43m \u001b[49m\u001b[38;5;28;43;01mFalse\u001b[39;49;00m\u001b[43m,\u001b[49m\n\u001b[0;32m     15\u001b[0m \u001b[43m                                                        \u001b[49m\u001b[43mnum_classes\u001b[49m\u001b[38;5;241;43m=\u001b[39;49m\u001b[43m \u001b[49m\u001b[38;5;241;43m2\u001b[39;49m\u001b[43m,\u001b[49m\n\u001b[0;32m     16\u001b[0m \u001b[43m                                                        \u001b[49m\u001b[43mpre_path\u001b[49m\u001b[43m \u001b[49m\u001b[38;5;241;43m=\u001b[39;49m\u001b[43m \u001b[49m\u001b[38;5;124;43m'\u001b[39;49m\u001b[38;5;124;43m..\u001b[39;49m\u001b[38;5;124;43m'\u001b[39;49m\u001b[43m)\u001b[49m\n\u001b[0;32m     19\u001b[0m \u001b[38;5;28mprint\u001b[39m(\u001b[38;5;124m\"\u001b[39m\u001b[38;5;124mTraining process is done!\u001b[39m\u001b[38;5;124m\"\u001b[39m)\n\u001b[0;32m     20\u001b[0m \u001b[38;5;28mprint\u001b[39m(\u001b[38;5;124mf\u001b[39m\u001b[38;5;124m\"\u001b[39m\u001b[38;5;124mTest: LOSS: \u001b[39m\u001b[38;5;132;01m{\u001b[39;00mloss_test\u001b[38;5;132;01m}\u001b[39;00m\u001b[38;5;124m, ACC: \u001b[39m\u001b[38;5;132;01m{\u001b[39;00macc_test\u001b[38;5;132;01m}\u001b[39;00m\u001b[38;5;124m\"\u001b[39m)\n",
      "File \u001b[1;32md:\\Tutorial\\Amir Kair University\\Article_Masters\\1_SelfCode\\Python\\Masters_TestGround\\utils\\checkpoint.py:461\u001b[0m, in \u001b[0;36mtvt_save_acc_loss_f1\u001b[1;34m(model, dataset_name, model_name, emotion_dim, train_loader, val_loader, test_loader, optimizer, loss_fn, device, num_epochs, is_binary, num_classes, pre_path)\u001b[0m\n\u001b[0;32m    458\u001b[0m log_handle\u001b[38;5;241m.\u001b[39minfo(\u001b[38;5;124m\"\u001b[39m\u001b[38;5;124mStart Training\u001b[39m\u001b[38;5;124m\"\u001b[39m)\n\u001b[0;32m    459\u001b[0m \u001b[38;5;28;01mfor\u001b[39;00m epoch \u001b[38;5;129;01min\u001b[39;00m \u001b[38;5;28mrange\u001b[39m(num_epochs):\n\u001b[0;32m    460\u001b[0m     \u001b[38;5;66;03m# Model training (assuming train_one_step_tqdm is implemented)\u001b[39;00m\n\u001b[1;32m--> 461\u001b[0m     model, loss, acc, f1 \u001b[38;5;241m=\u001b[39m \u001b[43mtrain_one_step_tqdm_withF1\u001b[49m\u001b[43m(\u001b[49m\u001b[43mmodel\u001b[49m\u001b[43m,\u001b[49m\u001b[43m \u001b[49m\u001b[43mtrain_loader\u001b[49m\u001b[43m,\u001b[49m\u001b[43m \u001b[49m\u001b[43mloss_fn\u001b[49m\u001b[43m,\u001b[49m\u001b[43m \u001b[49m\u001b[43moptimizer\u001b[49m\u001b[43m,\u001b[49m\u001b[43m \u001b[49m\u001b[43mdevice\u001b[49m\u001b[43m,\u001b[49m\u001b[43m \u001b[49m\u001b[43mepoch\u001b[49m\u001b[43m,\u001b[49m\u001b[43m \u001b[49m\u001b[43mis_binary\u001b[49m\u001b[38;5;241;43m=\u001b[39;49m\u001b[43mis_binary\u001b[49m\u001b[43m,\u001b[49m\u001b[43m \u001b[49m\u001b[43mnum_classes\u001b[49m\u001b[38;5;241;43m=\u001b[39;49m\u001b[43mnum_classes\u001b[49m\u001b[43m)\u001b[49m\n\u001b[0;32m    462\u001b[0m     \u001b[38;5;66;03m# Model validating (using validation loader)\u001b[39;00m\n\u001b[0;32m    463\u001b[0m     loss_val, acc_val, f1_val \u001b[38;5;241m=\u001b[39m validation_with_tqdm_withF1(model,val_loader, loss_fn, device, is_binary, num_classes)\n",
      "File \u001b[1;32md:\\Tutorial\\Amir Kair University\\Article_Masters\\1_SelfCode\\Python\\Masters_TestGround\\utils\\utils.py:227\u001b[0m, in \u001b[0;36mtrain_one_step_tqdm_withF1\u001b[1;34m(model, train_loader, loss_fn, optimizer, device, epoch, is_binary, num_classes)\u001b[0m\n\u001b[0;32m    224\u001b[0m \u001b[38;5;28;01mif\u001b[39;00m is_binary:\n\u001b[0;32m    225\u001b[0m     targets \u001b[38;5;241m=\u001b[39m targets\u001b[38;5;241m.\u001b[39mfloat()\n\u001b[1;32m--> 227\u001b[0m outputs \u001b[38;5;241m=\u001b[39m \u001b[43mmodel\u001b[49m\u001b[43m(\u001b[49m\u001b[43minputs\u001b[49m\u001b[43m)\u001b[49m \u001b[38;5;241m+\u001b[39m \u001b[38;5;241m1e-8\u001b[39m  \n\u001b[0;32m    228\u001b[0m loss \u001b[38;5;241m=\u001b[39m loss_fn(outputs\u001b[38;5;241m.\u001b[39msqueeze(), targets) \u001b[38;5;241m+\u001b[39m \u001b[38;5;241m1e-8\u001b[39m \n\u001b[0;32m    230\u001b[0m predictions \u001b[38;5;241m=\u001b[39m torch\u001b[38;5;241m.\u001b[39margmax(F\u001b[38;5;241m.\u001b[39msoftmax(outputs,dim\u001b[38;5;241m=\u001b[39m\u001b[38;5;241m1\u001b[39m),dim\u001b[38;5;241m=\u001b[39m\u001b[38;5;241m1\u001b[39m)\u001b[38;5;241m.\u001b[39msqueeze()\u001b[38;5;241m.\u001b[39mdetach()\u001b[38;5;241m.\u001b[39mcpu()\n",
      "File \u001b[1;32md:\\anaconda3\\envs\\Pytorch_EEG\\lib\\site-packages\\torch\\nn\\modules\\module.py:1501\u001b[0m, in \u001b[0;36mModule._call_impl\u001b[1;34m(self, *args, **kwargs)\u001b[0m\n\u001b[0;32m   1496\u001b[0m \u001b[38;5;66;03m# If we don't have any hooks, we want to skip the rest of the logic in\u001b[39;00m\n\u001b[0;32m   1497\u001b[0m \u001b[38;5;66;03m# this function, and just call forward.\u001b[39;00m\n\u001b[0;32m   1498\u001b[0m \u001b[38;5;28;01mif\u001b[39;00m \u001b[38;5;129;01mnot\u001b[39;00m (\u001b[38;5;28mself\u001b[39m\u001b[38;5;241m.\u001b[39m_backward_hooks \u001b[38;5;129;01mor\u001b[39;00m \u001b[38;5;28mself\u001b[39m\u001b[38;5;241m.\u001b[39m_backward_pre_hooks \u001b[38;5;129;01mor\u001b[39;00m \u001b[38;5;28mself\u001b[39m\u001b[38;5;241m.\u001b[39m_forward_hooks \u001b[38;5;129;01mor\u001b[39;00m \u001b[38;5;28mself\u001b[39m\u001b[38;5;241m.\u001b[39m_forward_pre_hooks\n\u001b[0;32m   1499\u001b[0m         \u001b[38;5;129;01mor\u001b[39;00m _global_backward_pre_hooks \u001b[38;5;129;01mor\u001b[39;00m _global_backward_hooks\n\u001b[0;32m   1500\u001b[0m         \u001b[38;5;129;01mor\u001b[39;00m _global_forward_hooks \u001b[38;5;129;01mor\u001b[39;00m _global_forward_pre_hooks):\n\u001b[1;32m-> 1501\u001b[0m     \u001b[38;5;28;01mreturn\u001b[39;00m forward_call(\u001b[38;5;241m*\u001b[39margs, \u001b[38;5;241m*\u001b[39m\u001b[38;5;241m*\u001b[39mkwargs)\n\u001b[0;32m   1502\u001b[0m \u001b[38;5;66;03m# Do not call functions when jit is used\u001b[39;00m\n\u001b[0;32m   1503\u001b[0m full_backward_hooks, non_full_backward_hooks \u001b[38;5;241m=\u001b[39m [], []\n",
      "File \u001b[1;32md:\\Tutorial\\Amir Kair University\\Article_Masters\\1_SelfCode\\Python\\Masters_TestGround\\models\\tcn_based.py:398\u001b[0m, in \u001b[0;36mATCNet.forward\u001b[1;34m(self, x)\u001b[0m\n\u001b[0;32m    393\u001b[0m windows_data \u001b[38;5;241m=\u001b[39m x[:, :, i:x\u001b[38;5;241m.\u001b[39mshape[\u001b[38;5;241m2\u001b[39m] \u001b[38;5;241m-\u001b[39m \u001b[38;5;28mself\u001b[39m\u001b[38;5;241m.\u001b[39mn_windows \u001b[38;5;241m+\u001b[39m i \u001b[38;5;241m+\u001b[39m \u001b[38;5;241m1\u001b[39m]  \u001b[38;5;66;03m# Sliding window\u001b[39;00m\n\u001b[0;32m    395\u001b[0m \u001b[38;5;66;03m# print(f\"WINDOWS DATA: {windows_data.shape}\") #########################\u001b[39;00m\n\u001b[0;32m    396\u001b[0m \n\u001b[0;32m    397\u001b[0m \u001b[38;5;66;03m# Attention block\u001b[39;00m\n\u001b[1;32m--> 398\u001b[0m tcn_input \u001b[38;5;241m=\u001b[39m \u001b[38;5;28;43mself\u001b[39;49m\u001b[38;5;241;43m.\u001b[39;49m\u001b[43mattention_block\u001b[49m\u001b[43m(\u001b[49m\u001b[43mwindows_data\u001b[49m\u001b[43m)\u001b[49m  \u001b[38;5;66;03m# (batch_size, channels, T_w)\u001b[39;00m\n\u001b[0;32m    400\u001b[0m \u001b[38;5;66;03m# print(f\"TCN INPUT: {tcn_input.shape}\") ########################\u001b[39;00m\n\u001b[0;32m    402\u001b[0m \u001b[38;5;28;01mfor\u001b[39;00m blk \u001b[38;5;129;01min\u001b[39;00m \u001b[38;5;28mself\u001b[39m\u001b[38;5;241m.\u001b[39mtcn_blocks:\n",
      "File \u001b[1;32md:\\anaconda3\\envs\\Pytorch_EEG\\lib\\site-packages\\torch\\nn\\modules\\module.py:1501\u001b[0m, in \u001b[0;36mModule._call_impl\u001b[1;34m(self, *args, **kwargs)\u001b[0m\n\u001b[0;32m   1496\u001b[0m \u001b[38;5;66;03m# If we don't have any hooks, we want to skip the rest of the logic in\u001b[39;00m\n\u001b[0;32m   1497\u001b[0m \u001b[38;5;66;03m# this function, and just call forward.\u001b[39;00m\n\u001b[0;32m   1498\u001b[0m \u001b[38;5;28;01mif\u001b[39;00m \u001b[38;5;129;01mnot\u001b[39;00m (\u001b[38;5;28mself\u001b[39m\u001b[38;5;241m.\u001b[39m_backward_hooks \u001b[38;5;129;01mor\u001b[39;00m \u001b[38;5;28mself\u001b[39m\u001b[38;5;241m.\u001b[39m_backward_pre_hooks \u001b[38;5;129;01mor\u001b[39;00m \u001b[38;5;28mself\u001b[39m\u001b[38;5;241m.\u001b[39m_forward_hooks \u001b[38;5;129;01mor\u001b[39;00m \u001b[38;5;28mself\u001b[39m\u001b[38;5;241m.\u001b[39m_forward_pre_hooks\n\u001b[0;32m   1499\u001b[0m         \u001b[38;5;129;01mor\u001b[39;00m _global_backward_pre_hooks \u001b[38;5;129;01mor\u001b[39;00m _global_backward_hooks\n\u001b[0;32m   1500\u001b[0m         \u001b[38;5;129;01mor\u001b[39;00m _global_forward_hooks \u001b[38;5;129;01mor\u001b[39;00m _global_forward_pre_hooks):\n\u001b[1;32m-> 1501\u001b[0m     \u001b[38;5;28;01mreturn\u001b[39;00m forward_call(\u001b[38;5;241m*\u001b[39margs, \u001b[38;5;241m*\u001b[39m\u001b[38;5;241m*\u001b[39mkwargs)\n\u001b[0;32m   1502\u001b[0m \u001b[38;5;66;03m# Do not call functions when jit is used\u001b[39;00m\n\u001b[0;32m   1503\u001b[0m full_backward_hooks, non_full_backward_hooks \u001b[38;5;241m=\u001b[39m [], []\n",
      "File \u001b[1;32md:\\Tutorial\\Amir Kair University\\Article_Masters\\1_SelfCode\\Python\\Masters_TestGround\\models\\tcn_based.py:267\u001b[0m, in \u001b[0;36mMultiHeadSelfAttention.forward\u001b[1;34m(self, x)\u001b[0m\n\u001b[0;32m    265\u001b[0m \u001b[38;5;66;03m# Linear transformations\u001b[39;00m\n\u001b[0;32m    266\u001b[0m Q \u001b[38;5;241m=\u001b[39m \u001b[38;5;28mself\u001b[39m\u001b[38;5;241m.\u001b[39mquery_linear(x)  \u001b[38;5;66;03m# (batch_size, T_w, d_model)\u001b[39;00m\n\u001b[1;32m--> 267\u001b[0m K \u001b[38;5;241m=\u001b[39m \u001b[38;5;28;43mself\u001b[39;49m\u001b[38;5;241;43m.\u001b[39;49m\u001b[43mkey_linear\u001b[49m\u001b[43m(\u001b[49m\u001b[43mx\u001b[49m\u001b[43m)\u001b[49m  \u001b[38;5;66;03m# (batch_size, T_w, d_model)\u001b[39;00m\n\u001b[0;32m    268\u001b[0m V \u001b[38;5;241m=\u001b[39m \u001b[38;5;28mself\u001b[39m\u001b[38;5;241m.\u001b[39mvalue_linear(x)  \u001b[38;5;66;03m# (batch_size, T_w, d_model)\u001b[39;00m\n\u001b[0;32m    270\u001b[0m \u001b[38;5;66;03m# Reshape for multi-head attention\u001b[39;00m\n",
      "File \u001b[1;32md:\\anaconda3\\envs\\Pytorch_EEG\\lib\\site-packages\\torch\\nn\\modules\\module.py:1501\u001b[0m, in \u001b[0;36mModule._call_impl\u001b[1;34m(self, *args, **kwargs)\u001b[0m\n\u001b[0;32m   1496\u001b[0m \u001b[38;5;66;03m# If we don't have any hooks, we want to skip the rest of the logic in\u001b[39;00m\n\u001b[0;32m   1497\u001b[0m \u001b[38;5;66;03m# this function, and just call forward.\u001b[39;00m\n\u001b[0;32m   1498\u001b[0m \u001b[38;5;28;01mif\u001b[39;00m \u001b[38;5;129;01mnot\u001b[39;00m (\u001b[38;5;28mself\u001b[39m\u001b[38;5;241m.\u001b[39m_backward_hooks \u001b[38;5;129;01mor\u001b[39;00m \u001b[38;5;28mself\u001b[39m\u001b[38;5;241m.\u001b[39m_backward_pre_hooks \u001b[38;5;129;01mor\u001b[39;00m \u001b[38;5;28mself\u001b[39m\u001b[38;5;241m.\u001b[39m_forward_hooks \u001b[38;5;129;01mor\u001b[39;00m \u001b[38;5;28mself\u001b[39m\u001b[38;5;241m.\u001b[39m_forward_pre_hooks\n\u001b[0;32m   1499\u001b[0m         \u001b[38;5;129;01mor\u001b[39;00m _global_backward_pre_hooks \u001b[38;5;129;01mor\u001b[39;00m _global_backward_hooks\n\u001b[0;32m   1500\u001b[0m         \u001b[38;5;129;01mor\u001b[39;00m _global_forward_hooks \u001b[38;5;129;01mor\u001b[39;00m _global_forward_pre_hooks):\n\u001b[1;32m-> 1501\u001b[0m     \u001b[38;5;28;01mreturn\u001b[39;00m forward_call(\u001b[38;5;241m*\u001b[39margs, \u001b[38;5;241m*\u001b[39m\u001b[38;5;241m*\u001b[39mkwargs)\n\u001b[0;32m   1502\u001b[0m \u001b[38;5;66;03m# Do not call functions when jit is used\u001b[39;00m\n\u001b[0;32m   1503\u001b[0m full_backward_hooks, non_full_backward_hooks \u001b[38;5;241m=\u001b[39m [], []\n",
      "File \u001b[1;32md:\\anaconda3\\envs\\Pytorch_EEG\\lib\\site-packages\\torch\\nn\\modules\\linear.py:114\u001b[0m, in \u001b[0;36mLinear.forward\u001b[1;34m(self, input)\u001b[0m\n\u001b[0;32m    113\u001b[0m \u001b[38;5;28;01mdef\u001b[39;00m \u001b[38;5;21mforward\u001b[39m(\u001b[38;5;28mself\u001b[39m, \u001b[38;5;28minput\u001b[39m: Tensor) \u001b[38;5;241m-\u001b[39m\u001b[38;5;241m>\u001b[39m Tensor:\n\u001b[1;32m--> 114\u001b[0m     \u001b[38;5;28;01mreturn\u001b[39;00m \u001b[43mF\u001b[49m\u001b[38;5;241;43m.\u001b[39;49m\u001b[43mlinear\u001b[49m\u001b[43m(\u001b[49m\u001b[38;5;28;43minput\u001b[39;49m\u001b[43m,\u001b[49m\u001b[43m \u001b[49m\u001b[38;5;28;43mself\u001b[39;49m\u001b[38;5;241;43m.\u001b[39;49m\u001b[43mweight\u001b[49m\u001b[43m,\u001b[49m\u001b[43m \u001b[49m\u001b[38;5;28;43mself\u001b[39;49m\u001b[38;5;241;43m.\u001b[39;49m\u001b[43mbias\u001b[49m\u001b[43m)\u001b[49m\n",
      "File \u001b[1;32md:\\anaconda3\\envs\\Pytorch_EEG\\lib\\site-packages\\torch\\fx\\traceback.py:41\u001b[0m, in \u001b[0;36mformat_stack\u001b[1;34m()\u001b[0m\n\u001b[0;32m     38\u001b[0m     \u001b[38;5;28;01mreturn\u001b[39;00m [current_meta\u001b[38;5;241m.\u001b[39mget(\u001b[38;5;124m\"\u001b[39m\u001b[38;5;124mstack_trace\u001b[39m\u001b[38;5;124m\"\u001b[39m, \u001b[38;5;124m\"\u001b[39m\u001b[38;5;124m\"\u001b[39m)]\n\u001b[0;32m     39\u001b[0m \u001b[38;5;28;01melse\u001b[39;00m:\n\u001b[0;32m     40\u001b[0m     \u001b[38;5;66;03m# fallback to traceback.format_stack()\u001b[39;00m\n\u001b[1;32m---> 41\u001b[0m     \u001b[38;5;28;01mreturn\u001b[39;00m traceback\u001b[38;5;241m.\u001b[39mformat_list(\u001b[43mtraceback\u001b[49m\u001b[38;5;241;43m.\u001b[39;49m\u001b[43mextract_stack\u001b[49m\u001b[43m(\u001b[49m\u001b[43m)\u001b[49m[:\u001b[38;5;241m-\u001b[39m\u001b[38;5;241m1\u001b[39m])\n",
      "File \u001b[1;32md:\\anaconda3\\envs\\Pytorch_EEG\\lib\\traceback.py:211\u001b[0m, in \u001b[0;36mextract_stack\u001b[1;34m(f, limit)\u001b[0m\n\u001b[0;32m    209\u001b[0m \u001b[38;5;28;01mif\u001b[39;00m f \u001b[38;5;129;01mis\u001b[39;00m \u001b[38;5;28;01mNone\u001b[39;00m:\n\u001b[0;32m    210\u001b[0m     f \u001b[38;5;241m=\u001b[39m sys\u001b[38;5;241m.\u001b[39m_getframe()\u001b[38;5;241m.\u001b[39mf_back\n\u001b[1;32m--> 211\u001b[0m stack \u001b[38;5;241m=\u001b[39m \u001b[43mStackSummary\u001b[49m\u001b[38;5;241;43m.\u001b[39;49m\u001b[43mextract\u001b[49m\u001b[43m(\u001b[49m\u001b[43mwalk_stack\u001b[49m\u001b[43m(\u001b[49m\u001b[43mf\u001b[49m\u001b[43m)\u001b[49m\u001b[43m,\u001b[49m\u001b[43m \u001b[49m\u001b[43mlimit\u001b[49m\u001b[38;5;241;43m=\u001b[39;49m\u001b[43mlimit\u001b[49m\u001b[43m)\u001b[49m\n\u001b[0;32m    212\u001b[0m stack\u001b[38;5;241m.\u001b[39mreverse()\n\u001b[0;32m    213\u001b[0m \u001b[38;5;28;01mreturn\u001b[39;00m stack\n",
      "File \u001b[1;32md:\\anaconda3\\envs\\Pytorch_EEG\\lib\\traceback.py:362\u001b[0m, in \u001b[0;36mStackSummary.extract\u001b[1;34m(klass, frame_gen, limit, lookup_lines, capture_locals)\u001b[0m\n\u001b[0;32m    359\u001b[0m     result\u001b[38;5;241m.\u001b[39mappend(FrameSummary(\n\u001b[0;32m    360\u001b[0m         filename, lineno, name, lookup_line\u001b[38;5;241m=\u001b[39m\u001b[38;5;28;01mFalse\u001b[39;00m, \u001b[38;5;28mlocals\u001b[39m\u001b[38;5;241m=\u001b[39mf_locals))\n\u001b[0;32m    361\u001b[0m \u001b[38;5;28;01mfor\u001b[39;00m filename \u001b[38;5;129;01min\u001b[39;00m fnames:\n\u001b[1;32m--> 362\u001b[0m     \u001b[43mlinecache\u001b[49m\u001b[38;5;241;43m.\u001b[39;49m\u001b[43mcheckcache\u001b[49m\u001b[43m(\u001b[49m\u001b[43mfilename\u001b[49m\u001b[43m)\u001b[49m\n\u001b[0;32m    363\u001b[0m \u001b[38;5;66;03m# If immediate lookup was desired, trigger lookups now.\u001b[39;00m\n\u001b[0;32m    364\u001b[0m \u001b[38;5;28;01mif\u001b[39;00m lookup_lines:\n",
      "File \u001b[1;32md:\\anaconda3\\envs\\Pytorch_EEG\\lib\\linecache.py:72\u001b[0m, in \u001b[0;36mcheckcache\u001b[1;34m(filename)\u001b[0m\n\u001b[0;32m     70\u001b[0m     \u001b[38;5;28;01mcontinue\u001b[39;00m   \u001b[38;5;66;03m# no-op for files loaded via a __loader__\u001b[39;00m\n\u001b[0;32m     71\u001b[0m \u001b[38;5;28;01mtry\u001b[39;00m:\n\u001b[1;32m---> 72\u001b[0m     stat \u001b[38;5;241m=\u001b[39m \u001b[43mos\u001b[49m\u001b[38;5;241;43m.\u001b[39;49m\u001b[43mstat\u001b[49m\u001b[43m(\u001b[49m\u001b[43mfullname\u001b[49m\u001b[43m)\u001b[49m\n\u001b[0;32m     73\u001b[0m \u001b[38;5;28;01mexcept\u001b[39;00m \u001b[38;5;167;01mOSError\u001b[39;00m:\n\u001b[0;32m     74\u001b[0m     cache\u001b[38;5;241m.\u001b[39mpop(filename, \u001b[38;5;28;01mNone\u001b[39;00m)\n",
      "\u001b[1;31mKeyboardInterrupt\u001b[0m: "
     ]
    },
    {
     "data": {
      "image/png": "[encoded data removed]",
      "text/plain": [
       "<Figure size 640x480 with 1 Axes>"
      ]
     },
     "metadata": {},
     "output_type": "display_data"
    },
    {
     "data": {
      "image/png": "[encoded data removed]",
      "text/plain": [
       "<Figure size 640x480 with 1 Axes>"
      ]
     },
     "metadata": {},
     "output_type": "display_data"
    },
    {
     "data": {
      "image/png": "[encoded data removed]",
      "text/plain": [
       "<Figure size 640x480 with 1 Axes>"
      ]
     },
     "metadata": {},
     "output_type": "display_data"
    },
    {
     "data": {
      "image/png": "[encoded data removed]",
      "text/plain": [
       "<Figure size 640x480 with 1 Axes>"
      ]
     },
     "metadata": {},
     "output_type": "display_data"
    },
    {
     "data": {
      "image/png": "[encoded data removed]",
      "text/plain": [
       "<Figure size 640x480 with 1 Axes>"
      ]
     },
     "metadata": {},
     "output_type": "display_data"
    },
    {
     "data": {
      "image/png": "[encoded data removed]",
      "text/plain": [
       "<Figure size 640x480 with 1 Axes>"
      ]
     },
     "metadata": {},
     "output_type": "display_data"
    }
   ],
   "source": [
    "loss_hist, acc_hist , loss_val_hist , \\\n",
    "acc_val_hist, loss_test, acc_test ,\\\n",
    "(f1_hist, f1_val_hist, f1_test) = tvt_save_acc_loss_f1(model, \n",
    "                                                        dataset_name, \n",
    "                                                        model_name, \n",
    "                                                        emotion_dim, \n",
    "                                                        train_loader, \n",
    "                                                        val_loader,\n",
    "                                                        test_loader,  \n",
    "                                                        optimizer, \n",
    "                                                        loss_fn, \n",
    "                                                        device, \n",
    "                                                        num_epochs=num_epochs,\n",
    "                                                        is_binary= False,\n",
    "                                                        num_classes= 2,\n",
    "                                                        pre_path = '..')\n",
    "\n",
    "\n",
    "print(\"Training process is done!\")\n",
    "print(f\"Test: LOSS: {loss_test}, ACC: {acc_test}\")\n",
    "print(f\"Model parameter count: {get_num_params(model,1)}\")\n"
   ]
  },
  {
   "cell_type": "code",
   "execution_count": null,
   "metadata": {},
   "outputs": [],
   "source": []
  },
  {
   "cell_type": "markdown",
   "metadata": {},
   "source": [
    "# **Efficient way for set hyperparams 🔨**"
   ]
  },
  {
   "cell_type": "markdown",
   "metadata": {},
   "source": [
    "## Step 1: check forward path\n",
    "\n",
    "Calculate loss for one batch"
   ]
  },
  {
   "cell_type": "code",
   "execution_count": null,
   "metadata": {},
   "outputs": [],
   "source": [
    "model = TCNet_Fusion(input_size= dataset[0][0].shape\\\n",
    "                    , n_classes= 2, channels= dataset[0][0].shape[1],\\\n",
    "                            sampling_rate= 128).to(device)"
   ]
  },
  {
   "cell_type": "code",
   "execution_count": 52,
   "metadata": {},
   "outputs": [],
   "source": [
    "model = ATCNet(dataset[0][0].shape, dataset[0][0].shape[1] , n_classes=2, n_windows=8,\n",
    "                   eegn_F1=24, eegn_D=2, eegn_kernelSize=50, eegn_poolSize=1, eegn_dropout=0.3, num_heads=2,\n",
    "                   tcn_depth=2, tcn_kernelSize=4, tcn_filters=32, tcn_dropout=0.3, fuse='average',activation='elu').to(device)"
   ]
  },
  {
   "cell_type": "code",
   "execution_count": 90,
   "metadata": {},
   "outputs": [],
   "source": [
    "model = nn.Sequential(nn.Conv2d(1,32,(1,3)),\n",
    "                      nn.Conv2d(32,32,(32,1)),\n",
    "                      nn.BatchNorm2d(32),\n",
    "                      nn.ReLU(),\n",
    "                      nn.AdaptiveAvgPool2d((1,1)),\n",
    "                      nn.Flatten(),  # Flatten the tensor to a 2D tensor: [batch_size, 32]\n",
    "                      nn.Linear(32,2),\n",
    "                      nn.Softmax(dim=1)).to(device)"
   ]
  },
  {
   "cell_type": "code",
   "execution_count": 42,
   "metadata": {},
   "outputs": [],
   "source": [
    "model = DGCNN(in_channels= 5,\n",
    "              num_electrodes= 32,\n",
    "              num_layers= 2,\n",
    "              hid_channels= 32,\n",
    "              num_classes= 2).to(device)"
   ]
  },
  {
   "cell_type": "code",
   "execution_count": 43,
   "metadata": {},
   "outputs": [],
   "source": [
    "# model(x_batch.to(device)).shape"
   ]
  },
  {
   "cell_type": "code",
   "execution_count": 44,
   "metadata": {},
   "outputs": [
    {
     "name": "stdout",
     "output_type": "stream",
     "text": [
      "tensor(0.7347, device='cuda:0', grad_fn=<NllLossBackward0>)\n"
     ]
    }
   ],
   "source": [
    "loss_fn = nn.CrossEntropyLoss()\n",
    "\n",
    "x_batch, y_batch = next(iter(train_loader))\n",
    "outputs = model(x_batch.to(device))\n",
    "loss = loss_fn(outputs, y_batch.to(device))\n",
    "print(loss)"
   ]
  },
  {
   "cell_type": "markdown",
   "metadata": {},
   "source": [
    "## Step 2: check backward path\n",
    "\n",
    "Select 5 random batches and train the model"
   ]
  },
  {
   "cell_type": "code",
   "execution_count": 45,
   "metadata": {},
   "outputs": [],
   "source": [
    "from torch.utils.data import random_split"
   ]
  },
  {
   "cell_type": "code",
   "execution_count": 46,
   "metadata": {},
   "outputs": [],
   "source": [
    "_, mini_train_dataset = random_split(train_dataset, (len(train_dataset)-500, 500))\n",
    "mini_train_loader = DataLoader(mini_train_dataset, 20)"
   ]
  },
  {
   "cell_type": "code",
   "execution_count": 47,
   "metadata": {},
   "outputs": [],
   "source": [
    "# model = TCNet_Fusion(input_size= dataset[0][0].shape\\\n",
    "#                     , n_classes= 2, channels= dataset[0][0].shape[1],\\\n",
    "#                             sampling_rate= 128).to(device)\n",
    "\n",
    "# model = ATCNet(dataset[0][0].shape, dataset[0][0].shape[1] , n_classes=2, n_windows=8,\n",
    "#                    eegn_F1=24, eegn_D=2, eegn_kernelSize=50, eegn_poolSize=1, eegn_dropout=0.3, num_heads=2,\n",
    "#                    tcn_depth=2, tcn_kernelSize=4, tcn_filters=32, tcn_dropout=0.3, fuse='average',activation='elu').to(device)\n",
    "\n",
    "model = DGCNN(in_channels= 5,\n",
    "              num_electrodes= 32,\n",
    "              num_layers= 2,\n",
    "              hid_channels= 32,\n",
    "              num_classes= 2).to(device)"
   ]
  },
  {
   "cell_type": "code",
   "execution_count": 48,
   "metadata": {},
   "outputs": [],
   "source": [
    "loss_fn = nn.CrossEntropyLoss()"
   ]
  },
  {
   "cell_type": "code",
   "execution_count": 49,
   "metadata": {},
   "outputs": [],
   "source": [
    "optimizer = optim.SGD(model.parameters(), lr=0.1 , weight_decay=1e-4, momentum=0.9) # 0.1 , 0.01 , 0.001 \n",
    "# optimizer = optim.Adam(model.parameters(), lr=0.001) # lr = 0.0001  0.001"
   ]
  },
  {
   "cell_type": "code",
   "execution_count": 50,
   "metadata": {},
   "outputs": [
    {
     "data": {
      "text/plain": [
       "<torch.autograd.anomaly_mode.set_detect_anomaly at 0x225adbccb50>"
      ]
     },
     "execution_count": 50,
     "metadata": {},
     "output_type": "execute_result"
    }
   ],
   "source": [
    "torch.autograd.set_detect_anomaly(True)"
   ]
  },
  {
   "cell_type": "code",
   "execution_count": 51,
   "metadata": {},
   "outputs": [
    {
     "name": "stderr",
     "output_type": "stream",
     "text": [
      "Epoch: 0: 100%|██████████| 25/25 [00:03<00:00,  7.56batch/s, F1=0.539, accuracy=49, loss=0.749]  \n",
      "Epoch: 1: 100%|██████████| 25/25 [00:02<00:00,  8.62batch/s, F1=0.622, accuracy=54.6, loss=0.693]\n",
      "Epoch: 2: 100%|██████████| 25/25 [00:02<00:00,  8.65batch/s, F1=0.667, accuracy=59, loss=0.661]  \n",
      "Epoch: 3: 100%|██████████| 25/25 [00:02<00:00,  8.65batch/s, F1=0.718, accuracy=67.4, loss=0.621]\n",
      "Epoch: 4: 100%|██████████| 25/25 [00:03<00:00,  7.98batch/s, F1=0.744, accuracy=70.8, loss=0.588]\n",
      "Epoch: 5: 100%|██████████| 25/25 [00:03<00:00,  7.96batch/s, F1=0.759, accuracy=73.4, loss=0.521]\n",
      "Epoch: 6: 100%|██████████| 25/25 [00:03<00:00,  8.30batch/s, F1=0.796, accuracy=77.6, loss=0.49] \n",
      "Epoch: 7: 100%|██████████| 25/25 [00:02<00:00,  8.35batch/s, F1=0.823, accuracy=80.6, loss=0.453]\n",
      "Epoch: 8: 100%|██████████| 25/25 [00:03<00:00,  8.29batch/s, F1=0.796, accuracy=78.8, loss=0.444]\n",
      "Epoch: 9: 100%|██████████| 25/25 [00:02<00:00,  8.33batch/s, F1=0.824, accuracy=80.6, loss=0.432]\n",
      "Epoch: 10: 100%|██████████| 25/25 [00:03<00:00,  8.30batch/s, F1=0.844, accuracy=83, loss=0.389]  \n",
      "Epoch: 11: 100%|██████████| 25/25 [00:03<00:00,  8.32batch/s, F1=0.87, accuracy=86.4, loss=0.375] \n",
      "Epoch: 12: 100%|██████████| 25/25 [00:03<00:00,  8.20batch/s, F1=0.878, accuracy=86.6, loss=0.326]\n",
      "Epoch: 13: 100%|██████████| 25/25 [00:03<00:00,  8.33batch/s, F1=0.895, accuracy=88.6, loss=0.285]\n",
      "Epoch: 14: 100%|██████████| 25/25 [00:02<00:00,  8.51batch/s, F1=0.924, accuracy=91.6, loss=0.218]\n",
      "Epoch: 15: 100%|██████████| 25/25 [00:03<00:00,  8.26batch/s, F1=0.915, accuracy=91.2, loss=0.239]\n",
      "Epoch: 16: 100%|██████████| 25/25 [00:03<00:00,  8.28batch/s, F1=0.904, accuracy=90, loss=0.238]  \n",
      "Epoch: 17: 100%|██████████| 25/25 [00:03<00:00,  8.30batch/s, F1=0.948, accuracy=94.2, loss=0.176]\n",
      "Epoch: 18: 100%|██████████| 25/25 [00:02<00:00,  8.41batch/s, F1=0.94, accuracy=93.6, loss=0.195] \n",
      "Epoch: 19: 100%|██████████| 25/25 [00:03<00:00,  8.27batch/s, F1=0.965, accuracy=96.2, loss=0.121] \n",
      "Epoch: 20: 100%|██████████| 25/25 [00:03<00:00,  8.31batch/s, F1=0.936, accuracy=93, loss=0.212]  \n",
      "Epoch: 21: 100%|██████████| 25/25 [00:02<00:00,  8.36batch/s, F1=0.952, accuracy=95, loss=0.13]   \n",
      "Epoch: 22: 100%|██████████| 25/25 [00:03<00:00,  8.17batch/s, F1=0.948, accuracy=94.4, loss=0.195]\n",
      "Epoch: 23: 100%|██████████| 25/25 [00:02<00:00,  8.50batch/s, F1=0.943, accuracy=94, loss=0.191]  \n",
      "Epoch: 24: 100%|██████████| 25/25 [00:02<00:00,  8.47batch/s, F1=0.919, accuracy=91, loss=0.302]  \n",
      "Epoch: 25: 100%|██████████| 25/25 [00:02<00:00,  8.41batch/s, F1=0.938, accuracy=93, loss=0.217]  \n",
      "Epoch: 26: 100%|██████████| 25/25 [00:03<00:00,  8.33batch/s, F1=0.938, accuracy=93, loss=0.2]    \n",
      "Epoch: 27: 100%|██████████| 25/25 [00:02<00:00,  8.34batch/s, F1=0.954, accuracy=95, loss=0.173]  \n",
      "Epoch: 28: 100%|██████████| 25/25 [00:02<00:00,  8.44batch/s, F1=0.967, accuracy=96.2, loss=0.0941]\n",
      "Epoch: 29: 100%|██████████| 25/25 [00:03<00:00,  8.26batch/s, F1=0.973, accuracy=97, loss=0.101]   \n",
      "Epoch: 30: 100%|██████████| 25/25 [00:03<00:00,  8.30batch/s, F1=0.946, accuracy=94.4, loss=0.124]\n",
      "Epoch: 31: 100%|██████████| 25/25 [00:02<00:00,  8.45batch/s, F1=0.957, accuracy=95.6, loss=0.122]\n",
      "Epoch: 32: 100%|██████████| 25/25 [00:02<00:00,  8.44batch/s, F1=0.978, accuracy=97.4, loss=0.0999]\n",
      "Epoch: 33: 100%|██████████| 25/25 [00:02<00:00,  8.34batch/s, F1=0.966, accuracy=96.4, loss=0.112] \n",
      "Epoch: 34: 100%|██████████| 25/25 [00:02<00:00,  8.37batch/s, F1=0.982, accuracy=98, loss=0.0715]  \n",
      "Epoch: 35: 100%|██████████| 25/25 [00:02<00:00,  8.49batch/s, F1=0.969, accuracy=96.8, loss=0.135] \n",
      "Epoch: 36: 100%|██████████| 25/25 [00:02<00:00,  8.49batch/s, F1=0.976, accuracy=97.4, loss=0.0825]\n",
      "Epoch: 37: 100%|██████████| 25/25 [00:02<00:00,  8.38batch/s, F1=0.984, accuracy=98.2, loss=0.0734]\n",
      "Epoch: 38: 100%|██████████| 25/25 [00:03<00:00,  7.85batch/s, F1=0.969, accuracy=96.8, loss=0.103] \n",
      "Epoch: 39: 100%|██████████| 25/25 [00:03<00:00,  8.11batch/s, F1=0.983, accuracy=98.2, loss=0.0896]\n",
      "Epoch: 40: 100%|██████████| 25/25 [00:02<00:00,  8.39batch/s, F1=0.982, accuracy=98.2, loss=0.0545]\n",
      "Epoch: 41: 100%|██████████| 25/25 [00:02<00:00,  8.58batch/s, F1=0.975, accuracy=97.4, loss=0.115]\n",
      "Epoch: 42: 100%|██████████| 25/25 [00:02<00:00,  8.50batch/s, F1=0.984, accuracy=98.2, loss=0.0598]\n",
      "Epoch: 43: 100%|██████████| 25/25 [00:02<00:00,  8.52batch/s, F1=0.966, accuracy=96.4, loss=0.156]\n",
      "Epoch: 44: 100%|██████████| 25/25 [00:02<00:00,  8.51batch/s, F1=0.986, accuracy=98.4, loss=0.043] \n",
      "Epoch: 45: 100%|██████████| 25/25 [00:03<00:00,  8.05batch/s, F1=0.981, accuracy=97.8, loss=0.0486]\n",
      "Epoch: 46: 100%|██████████| 25/25 [00:02<00:00,  8.68batch/s, F1=0.98, accuracy=97.6, loss=0.0619] \n",
      "Epoch: 47: 100%|██████████| 25/25 [00:02<00:00,  8.60batch/s, F1=0.973, accuracy=97, loss=0.118]   \n",
      "Epoch: 48: 100%|██████████| 25/25 [00:03<00:00,  8.30batch/s, F1=0.99, accuracy=98.8, loss=0.0577] \n",
      "Epoch: 49: 100%|██████████| 25/25 [00:02<00:00,  8.52batch/s, F1=0.994, accuracy=99.2, loss=0.0348]\n",
      "Epoch: 50: 100%|██████████| 25/25 [00:02<00:00,  8.48batch/s, F1=0.987, accuracy=98.6, loss=0.0511]\n",
      "Epoch: 51: 100%|██████████| 25/25 [00:02<00:00,  8.34batch/s, F1=0.992, accuracy=99.2, loss=0.0203] \n",
      "Epoch: 52: 100%|██████████| 25/25 [00:02<00:00,  8.44batch/s, F1=0.992, accuracy=99.2, loss=0.0225]\n",
      "Epoch: 53: 100%|██████████| 25/25 [00:02<00:00,  8.39batch/s, F1=0.995, accuracy=99.4, loss=0.023]  \n",
      "Epoch: 54: 100%|██████████| 25/25 [00:02<00:00,  8.50batch/s, F1=0.996, accuracy=99.6, loss=0.013]  \n",
      "Epoch: 55: 100%|██████████| 25/25 [00:03<00:00,  8.30batch/s, F1=0.998, accuracy=99.8, loss=0.00713]\n",
      "Epoch: 56: 100%|██████████| 25/25 [00:02<00:00,  8.38batch/s, F1=0.993, accuracy=99.2, loss=0.015]  \n",
      "Epoch: 57: 100%|██████████| 25/25 [00:02<00:00,  8.39batch/s, F1=0.993, accuracy=99.2, loss=0.0186] \n",
      "Epoch: 58: 100%|██████████| 25/25 [00:02<00:00,  8.64batch/s, F1=0.997, accuracy=99.6, loss=0.0266] \n",
      "Epoch: 59: 100%|██████████| 25/25 [00:02<00:00,  8.60batch/s, F1=0.997, accuracy=99.6, loss=0.0107] \n",
      "Epoch: 60: 100%|██████████| 25/25 [00:02<00:00,  8.64batch/s, F1=0.997, accuracy=99.6, loss=0.028]  \n",
      "Epoch: 61: 100%|██████████| 25/25 [00:02<00:00,  8.66batch/s, F1=1, accuracy=100, loss=0.00176]\n",
      "Epoch: 62: 100%|██████████| 25/25 [00:02<00:00,  8.44batch/s, F1=0.998, accuracy=99.8, loss=0.00375]\n",
      "Epoch: 63: 100%|██████████| 25/25 [00:03<00:00,  8.19batch/s, F1=1, accuracy=100, loss=0.00124] \n",
      "Epoch: 64: 100%|██████████| 25/25 [00:03<00:00,  8.09batch/s, F1=0.998, accuracy=99.8, loss=0.00293]\n",
      "Epoch: 65: 100%|██████████| 25/25 [00:03<00:00,  8.20batch/s, F1=0.998, accuracy=99.8, loss=0.00457]\n",
      "Epoch: 66: 100%|██████████| 25/25 [00:03<00:00,  8.17batch/s, F1=1, accuracy=100, loss=0.000637]\n",
      "Epoch: 67: 100%|██████████| 25/25 [00:02<00:00,  8.49batch/s, F1=1, accuracy=100, loss=0.000378]\n",
      "Epoch: 68: 100%|██████████| 25/25 [00:02<00:00,  8.72batch/s, F1=1, accuracy=100, loss=0.00011] \n",
      "Epoch: 69: 100%|██████████| 25/25 [00:02<00:00,  8.48batch/s, F1=1, accuracy=100, loss=8.88e-5]\n",
      "Epoch: 70: 100%|██████████| 25/25 [00:02<00:00,  8.62batch/s, F1=1, accuracy=100, loss=8.42e-5]\n",
      "Epoch: 71: 100%|██████████| 25/25 [00:02<00:00,  8.50batch/s, F1=1, accuracy=100, loss=8.04e-5]\n",
      "Epoch: 72: 100%|██████████| 25/25 [00:02<00:00,  8.41batch/s, F1=1, accuracy=100, loss=7.79e-5]\n",
      "Epoch: 73: 100%|██████████| 25/25 [00:02<00:00,  8.50batch/s, F1=1, accuracy=100, loss=7.6e-5] \n",
      "Epoch: 74: 100%|██████████| 25/25 [00:02<00:00,  8.44batch/s, F1=1, accuracy=100, loss=7.4e-5] \n",
      "Epoch: 75: 100%|██████████| 25/25 [00:02<00:00,  8.47batch/s, F1=1, accuracy=100, loss=7.28e-5]\n",
      "Epoch: 76: 100%|██████████| 25/25 [00:02<00:00,  8.33batch/s, F1=1, accuracy=100, loss=7.21e-5]\n",
      "Epoch: 77: 100%|██████████| 25/25 [00:03<00:00,  8.11batch/s, F1=1, accuracy=100, loss=7.14e-5]\n",
      "Epoch: 78: 100%|██████████| 25/25 [00:03<00:00,  8.30batch/s, F1=1, accuracy=100, loss=7.12e-5]\n",
      "Epoch: 79: 100%|██████████| 25/25 [00:03<00:00,  8.23batch/s, F1=1, accuracy=100, loss=7.14e-5]\n",
      "Epoch: 80: 100%|██████████| 25/25 [00:03<00:00,  7.81batch/s, F1=1, accuracy=100, loss=7.14e-5]\n",
      "Epoch: 81: 100%|██████████| 25/25 [00:03<00:00,  7.87batch/s, F1=1, accuracy=100, loss=7.18e-5]\n",
      "Epoch: 82: 100%|██████████| 25/25 [00:03<00:00,  8.05batch/s, F1=1, accuracy=100, loss=7.2e-5] \n",
      "Epoch: 83: 100%|██████████| 25/25 [00:03<00:00,  8.19batch/s, F1=1, accuracy=100, loss=7.22e-5]\n",
      "Epoch: 84: 100%|██████████| 25/25 [00:03<00:00,  8.27batch/s, F1=1, accuracy=100, loss=7.28e-5]\n",
      "Epoch: 85: 100%|██████████| 25/25 [00:03<00:00,  8.31batch/s, F1=1, accuracy=100, loss=7.32e-5]\n",
      "Epoch: 86: 100%|██████████| 25/25 [00:03<00:00,  8.04batch/s, F1=1, accuracy=100, loss=7.37e-5]\n",
      "Epoch: 87: 100%|██████████| 25/25 [00:02<00:00,  8.63batch/s, F1=1, accuracy=100, loss=7.44e-5]\n",
      "Epoch: 88: 100%|██████████| 25/25 [00:02<00:00,  8.84batch/s, F1=1, accuracy=100, loss=7.5e-5] \n",
      "Epoch: 89: 100%|██████████| 25/25 [00:02<00:00,  8.59batch/s, F1=1, accuracy=100, loss=7.56e-5]\n",
      "Epoch: 90: 100%|██████████| 25/25 [00:02<00:00,  8.81batch/s, F1=1, accuracy=100, loss=7.66e-5]\n",
      "Epoch: 91: 100%|██████████| 25/25 [00:02<00:00,  8.71batch/s, F1=1, accuracy=100, loss=7.74e-5]\n",
      "Epoch: 92: 100%|██████████| 25/25 [00:02<00:00,  8.79batch/s, F1=1, accuracy=100, loss=7.82e-5]\n",
      "Epoch: 93: 100%|██████████| 25/25 [00:02<00:00,  8.77batch/s, F1=1, accuracy=100, loss=7.94e-5]\n",
      "Epoch: 94: 100%|██████████| 25/25 [00:02<00:00,  8.85batch/s, F1=1, accuracy=100, loss=8.05e-5]\n",
      "Epoch: 95: 100%|██████████| 25/25 [00:02<00:00,  8.74batch/s, F1=1, accuracy=100, loss=8.15e-5]\n",
      "Epoch: 96: 100%|██████████| 25/25 [00:02<00:00,  8.78batch/s, F1=1, accuracy=100, loss=8.29e-5]\n",
      "Epoch: 97: 100%|██████████| 25/25 [00:02<00:00,  9.22batch/s, F1=1, accuracy=100, loss=8.42e-5]\n",
      "Epoch: 98: 100%|██████████| 25/25 [00:02<00:00,  9.01batch/s, F1=1, accuracy=100, loss=8.53e-5]\n",
      "Epoch: 99: 100%|██████████| 25/25 [00:02<00:00,  8.97batch/s, F1=1, accuracy=100, loss=8.69e-5]\n"
     ]
    }
   ],
   "source": [
    "num_epochs = 100\n",
    "for epoch in range(num_epochs):\n",
    "  model, _, _,_ = train_one_step_tqdm_withF1(model, mini_train_loader, loss_fn, optimizer,device, epoch, is_binary=False, num_classes=2)"
   ]
  },
  {
   "cell_type": "markdown",
   "metadata": {},
   "source": [
    "## Step 3: select best lr\n",
    "\n",
    "Train all data for one epoch"
   ]
  },
  {
   "cell_type": "code",
   "execution_count": 118,
   "metadata": {},
   "outputs": [
    {
     "name": "stdout",
     "output_type": "stream",
     "text": [
      "LR=0.9\n"
     ]
    },
    {
     "name": "stderr",
     "output_type": "stream",
     "text": [
      "Epoch: 0: 100%|██████████| 120/120 [00:59<00:00,  2.00batch/s, F1=0.743, accuracy=60.5, loss=0.691]\n",
      "Epoch: 1: 100%|██████████| 120/120 [00:58<00:00,  2.06batch/s, F1=0.757, accuracy=60.9, loss=0.672]\n",
      "Epoch: 2: 100%|██████████| 120/120 [00:55<00:00,  2.17batch/s, F1=0.757, accuracy=60.9, loss=0.671]\n",
      "Epoch: 3: 100%|██████████| 120/120 [00:55<00:00,  2.18batch/s, F1=0.757, accuracy=60.9, loss=0.672]\n",
      "Epoch: 4: 100%|██████████| 120/120 [00:55<00:00,  2.18batch/s, F1=0.757, accuracy=60.9, loss=0.671]\n"
     ]
    },
    {
     "name": "stdout",
     "output_type": "stream",
     "text": [
      "\n",
      "LR=0.5\n"
     ]
    },
    {
     "name": "stderr",
     "output_type": "stream",
     "text": [
      "Epoch: 0: 100%|██████████| 120/120 [00:55<00:00,  2.14batch/s, F1=0.745, accuracy=60.3, loss=0.691]\n",
      "Epoch: 1: 100%|██████████| 120/120 [00:55<00:00,  2.16batch/s, F1=0.756, accuracy=60.9, loss=0.671]\n",
      "Epoch: 2: 100%|██████████| 120/120 [00:55<00:00,  2.17batch/s, F1=0.757, accuracy=60.9, loss=0.67] \n",
      "Epoch: 3: 100%|██████████| 120/120 [00:55<00:00,  2.17batch/s, F1=0.757, accuracy=60.9, loss=0.67]\n",
      "Epoch: 4: 100%|██████████| 120/120 [00:54<00:00,  2.19batch/s, F1=0.757, accuracy=60.9, loss=0.67]\n"
     ]
    },
    {
     "name": "stdout",
     "output_type": "stream",
     "text": [
      "\n",
      "LR=0.2\n"
     ]
    },
    {
     "name": "stderr",
     "output_type": "stream",
     "text": [
      "Epoch: 0: 100%|██████████| 120/120 [00:54<00:00,  2.22batch/s, F1=0.747, accuracy=60.3, loss=0.679]\n",
      "Epoch: 1: 100%|██████████| 120/120 [00:55<00:00,  2.17batch/s, F1=0.756, accuracy=61, loss=0.667]  \n",
      "Epoch: 2: 100%|██████████| 120/120 [00:54<00:00,  2.19batch/s, F1=0.756, accuracy=61.2, loss=0.664]\n",
      "Epoch: 3: 100%|██████████| 120/120 [00:44<00:00,  2.70batch/s, F1=0.756, accuracy=61.5, loss=0.661]\n",
      "Epoch: 4: 100%|██████████| 120/120 [00:46<00:00,  2.56batch/s, F1=0.756, accuracy=61.8, loss=0.656]\n"
     ]
    },
    {
     "name": "stdout",
     "output_type": "stream",
     "text": [
      "\n",
      "LR=0.1\n"
     ]
    },
    {
     "name": "stderr",
     "output_type": "stream",
     "text": [
      "Epoch: 0: 100%|██████████| 120/120 [00:45<00:00,  2.66batch/s, F1=0.739, accuracy=59.9, loss=0.685]\n",
      "Epoch: 1: 100%|██████████| 120/120 [00:43<00:00,  2.75batch/s, F1=0.756, accuracy=60.9, loss=0.666]\n",
      "Epoch: 2: 100%|██████████| 120/120 [00:43<00:00,  2.74batch/s, F1=0.753, accuracy=61.4, loss=0.66]\n",
      "Epoch: 3: 100%|██████████| 120/120 [00:43<00:00,  2.78batch/s, F1=0.754, accuracy=61.9, loss=0.656]\n",
      "Epoch: 4: 100%|██████████| 120/120 [00:43<00:00,  2.75batch/s, F1=0.753, accuracy=62.6, loss=0.651]\n"
     ]
    },
    {
     "name": "stdout",
     "output_type": "stream",
     "text": [
      "\n",
      "LR=0.01\n"
     ]
    },
    {
     "name": "stderr",
     "output_type": "stream",
     "text": [
      "Epoch: 0: 100%|██████████| 120/120 [00:43<00:00,  2.77batch/s, F1=0.677, accuracy=56.8, loss=0.752]\n",
      "Epoch: 1: 100%|██████████| 120/120 [00:43<00:00,  2.77batch/s, F1=0.752, accuracy=60.6, loss=0.67] \n",
      "Epoch: 2: 100%|██████████| 120/120 [00:43<00:00,  2.75batch/s, F1=0.754, accuracy=60.9, loss=0.667]\n",
      "Epoch: 3: 100%|██████████| 120/120 [00:43<00:00,  2.74batch/s, F1=0.754, accuracy=61, loss=0.665] \n",
      "Epoch: 4: 100%|██████████| 120/120 [00:43<00:00,  2.77batch/s, F1=0.754, accuracy=61, loss=0.663]  \n"
     ]
    },
    {
     "name": "stdout",
     "output_type": "stream",
     "text": [
      "\n",
      "LR=0.001\n"
     ]
    },
    {
     "name": "stderr",
     "output_type": "stream",
     "text": [
      "Epoch: 0: 100%|██████████| 120/120 [00:43<00:00,  2.76batch/s, F1=0.649, accuracy=54.3, loss=0.827]\n",
      "Epoch: 1: 100%|██████████| 120/120 [00:43<00:00,  2.75batch/s, F1=0.668, accuracy=55.5, loss=0.739]\n",
      "Epoch: 2: 100%|██████████| 120/120 [00:43<00:00,  2.77batch/s, F1=0.689, accuracy=56.7, loss=0.709]\n",
      "Epoch: 3: 100%|██████████| 120/120 [00:43<00:00,  2.75batch/s, F1=0.705, accuracy=57.8, loss=0.694]\n",
      "Epoch: 4: 100%|██████████| 120/120 [00:43<00:00,  2.78batch/s, F1=0.718, accuracy=58.7, loss=0.684]\n"
     ]
    },
    {
     "name": "stdout",
     "output_type": "stream",
     "text": [
      "\n",
      "LR=0.0001\n"
     ]
    },
    {
     "name": "stderr",
     "output_type": "stream",
     "text": [
      "Epoch: 0: 100%|██████████| 120/120 [00:43<00:00,  2.76batch/s, F1=0.0976, accuracy=40.3, loss=1.56]\n",
      "Epoch: 1: 100%|██████████| 120/120 [00:43<00:00,  2.75batch/s, F1=0.258, accuracy=42.7, loss=1.19]\n",
      "Epoch: 2: 100%|██████████| 120/120 [00:43<00:00,  2.76batch/s, F1=0.456, accuracy=47, loss=0.942]  \n",
      "Epoch: 3: 100%|██████████| 120/120 [00:43<00:00,  2.76batch/s, F1=0.599, accuracy=52, loss=0.83]   \n",
      "Epoch: 4: 100%|██████████| 120/120 [00:43<00:00,  2.75batch/s, F1=0.646, accuracy=54.2, loss=0.794]"
     ]
    },
    {
     "name": "stdout",
     "output_type": "stream",
     "text": [
      "\n"
     ]
    },
    {
     "name": "stderr",
     "output_type": "stream",
     "text": [
      "\n"
     ]
    }
   ],
   "source": [
    "num_epochs = 5\n",
    "for lr in [0.9, 0.5, 0.2, 0.1, 0.01 , 0.001 , 0.0001]:\n",
    "  print(f'LR={lr}')\n",
    "  \n",
    "  ###################################################################################\n",
    "  # Choose model here\n",
    "\n",
    "  # model = TCNet_Fusion(input_size= dataset[0][0].shape , \\\n",
    "  #                     n_classes= 2, channels= dataset[0][0].shape[1],\\\n",
    "  #                     sampling_rate= 128).to(device)\n",
    "  \n",
    "  # model = ATCNet(dataset[0][0].shape, dataset[0][0].shape[1] , n_classes=2, n_windows=8,\n",
    "  #                   eegn_F1=24, eegn_D=2, eegn_kernelSize=50, eegn_poolSize=1, eegn_dropout=0.3, num_heads=2,\n",
    "  #                   tcn_depth=2, tcn_kernelSize=4, tcn_filters=32, tcn_dropout=0.3, fuse='average',activation='elu').to(device)\n",
    "\n",
    "  model = DGCNN(in_channels= 128, # 5 : DE-Feature, 128: Time Feature\n",
    "              num_electrodes= 14, # 32 , 14\n",
    "              num_layers= 2,\n",
    "              hid_channels= 32,\n",
    "              num_classes= 2).to(device)\n",
    "\n",
    "              \n",
    "  ##################################################################################\n",
    "\n",
    "  optimizer = optim.SGD(model.parameters(), lr=lr, weight_decay=1e-4, momentum=0.9)\n",
    "  for epoch in range(num_epochs):\n",
    "    model, _, _,_ = train_one_step_tqdm_withF1(model, train_loader, loss_fn, optimizer,device, epoch, is_binary=False, num_classes=2)\n",
    "  print()"
   ]
  },
  {
   "cell_type": "markdown",
   "metadata": {},
   "source": [
    "## Step 4: small grid (optional)\n",
    "\n",
    "Create a small grid based on the WD and the best LR\n",
    "\n"
   ]
  },
  {
   "cell_type": "code",
   "execution_count": 59,
   "metadata": {},
   "outputs": [
    {
     "name": "stdout",
     "output_type": "stream",
     "text": [
      "LR=0.08, WD=0.0001\n"
     ]
    },
    {
     "name": "stderr",
     "output_type": "stream",
     "text": [
      "Epoch: 0: 100%|██████████| 120/120 [00:39<00:00,  3.01batch/s, F1=0.746, accuracy=60.7, loss=0.669]\n",
      "Epoch: 1: 100%|██████████| 120/120 [00:37<00:00,  3.17batch/s, F1=0.748, accuracy=62.5, loss=0.655]\n",
      "Epoch: 2: 100%|██████████| 120/120 [00:37<00:00,  3.16batch/s, F1=0.751, accuracy=64, loss=0.643] \n",
      "Epoch: 3: 100%|██████████| 120/120 [00:38<00:00,  3.16batch/s, F1=0.752, accuracy=64.7, loss=0.636]\n",
      "Epoch: 4: 100%|██████████| 120/120 [00:38<00:00,  3.14batch/s, F1=0.755, accuracy=65.3, loss=0.633]\n"
     ]
    },
    {
     "name": "stdout",
     "output_type": "stream",
     "text": [
      "\n",
      "LR=0.08, WD=1e-05\n"
     ]
    },
    {
     "name": "stderr",
     "output_type": "stream",
     "text": [
      "Epoch: 0: 100%|██████████| 120/120 [00:37<00:00,  3.16batch/s, F1=0.746, accuracy=60.5, loss=0.671]\n",
      "Epoch: 1: 100%|██████████| 120/120 [00:37<00:00,  3.20batch/s, F1=0.746, accuracy=62.1, loss=0.657]\n",
      "Epoch: 2: 100%|██████████| 120/120 [00:38<00:00,  3.16batch/s, F1=0.749, accuracy=63.7, loss=0.644]\n",
      "Epoch: 3: 100%|██████████| 120/120 [00:37<00:00,  3.18batch/s, F1=0.753, accuracy=64.7, loss=0.638]\n",
      "Epoch: 4: 100%|██████████| 120/120 [00:37<00:00,  3.19batch/s, F1=0.754, accuracy=65.3, loss=0.63] \n"
     ]
    },
    {
     "name": "stdout",
     "output_type": "stream",
     "text": [
      "\n",
      "LR=0.08, WD=0.0\n"
     ]
    },
    {
     "name": "stderr",
     "output_type": "stream",
     "text": [
      "Epoch: 0: 100%|██████████| 120/120 [00:37<00:00,  3.17batch/s, F1=0.746, accuracy=60.6, loss=0.67] \n",
      "Epoch: 1: 100%|██████████| 120/120 [00:38<00:00,  3.13batch/s, F1=0.748, accuracy=62.5, loss=0.655]\n",
      "Epoch: 2: 100%|██████████| 120/120 [00:38<00:00,  3.13batch/s, F1=0.75, accuracy=63.9, loss=0.643] \n",
      "Epoch: 3: 100%|██████████| 120/120 [00:38<00:00,  3.09batch/s, F1=0.752, accuracy=64.6, loss=0.638]\n",
      "Epoch: 4: 100%|██████████| 120/120 [00:37<00:00,  3.17batch/s, F1=0.753, accuracy=64.9, loss=0.635]\n"
     ]
    },
    {
     "name": "stdout",
     "output_type": "stream",
     "text": [
      "\n",
      "LR=0.09, WD=0.0001\n"
     ]
    },
    {
     "name": "stderr",
     "output_type": "stream",
     "text": [
      "Epoch: 0: 100%|██████████| 120/120 [00:38<00:00,  3.10batch/s, F1=0.745, accuracy=60.6, loss=0.67] \n",
      "Epoch: 1: 100%|██████████| 120/120 [00:37<00:00,  3.16batch/s, F1=0.747, accuracy=62.4, loss=0.655]\n",
      "Epoch: 2: 100%|██████████| 120/120 [00:43<00:00,  2.74batch/s, F1=0.749, accuracy=63.7, loss=0.645]\n",
      "Epoch: 3: 100%|██████████| 120/120 [00:41<00:00,  2.91batch/s, F1=0.752, accuracy=64.5, loss=0.639]\n",
      "Epoch: 4: 100%|██████████| 120/120 [00:44<00:00,  2.67batch/s, F1=0.752, accuracy=65, loss=0.632]  \n"
     ]
    },
    {
     "name": "stdout",
     "output_type": "stream",
     "text": [
      "\n",
      "LR=0.09, WD=1e-05\n"
     ]
    },
    {
     "name": "stderr",
     "output_type": "stream",
     "text": [
      "Epoch: 0: 100%|██████████| 120/120 [00:42<00:00,  2.81batch/s, F1=0.743, accuracy=60.6, loss=0.667]\n",
      "Epoch: 1: 100%|██████████| 120/120 [00:41<00:00,  2.91batch/s, F1=0.746, accuracy=62.8, loss=0.652]\n",
      "Epoch: 2: 100%|██████████| 120/120 [00:38<00:00,  3.11batch/s, F1=0.75, accuracy=64.1, loss=0.641] \n",
      "Epoch: 3: 100%|██████████| 120/120 [00:38<00:00,  3.15batch/s, F1=0.753, accuracy=64.7, loss=0.637]\n",
      "Epoch: 4: 100%|██████████| 120/120 [00:38<00:00,  3.13batch/s, F1=0.751, accuracy=65, loss=0.632]  \n"
     ]
    },
    {
     "name": "stdout",
     "output_type": "stream",
     "text": [
      "\n",
      "LR=0.09, WD=0.0\n"
     ]
    },
    {
     "name": "stderr",
     "output_type": "stream",
     "text": [
      "Epoch: 0: 100%|██████████| 120/120 [00:38<00:00,  3.11batch/s, F1=0.744, accuracy=60.7, loss=0.67] \n",
      "Epoch: 1: 100%|██████████| 120/120 [00:39<00:00,  3.01batch/s, F1=0.747, accuracy=62.1, loss=0.659]\n",
      "Epoch: 2: 100%|██████████| 120/120 [00:41<00:00,  2.90batch/s, F1=0.748, accuracy=63.6, loss=0.645]\n",
      "Epoch: 3: 100%|██████████| 120/120 [00:42<00:00,  2.80batch/s, F1=0.752, accuracy=64.7, loss=0.636]\n",
      "Epoch: 4: 100%|██████████| 120/120 [00:46<00:00,  2.56batch/s, F1=0.753, accuracy=65.2, loss=0.631]\n"
     ]
    },
    {
     "name": "stdout",
     "output_type": "stream",
     "text": [
      "\n",
      "LR=0.1, WD=0.0001\n"
     ]
    },
    {
     "name": "stderr",
     "output_type": "stream",
     "text": [
      "Epoch: 0: 100%|██████████| 120/120 [00:45<00:00,  2.66batch/s, F1=0.744, accuracy=60.5, loss=0.671]\n",
      "Epoch: 1: 100%|██████████| 120/120 [00:43<00:00,  2.77batch/s, F1=0.745, accuracy=62.2, loss=0.656]\n",
      "Epoch: 2: 100%|██████████| 120/120 [00:42<00:00,  2.84batch/s, F1=0.75, accuracy=63.6, loss=0.645] \n",
      "Epoch: 3: 100%|██████████| 120/120 [00:42<00:00,  2.83batch/s, F1=0.751, accuracy=64.3, loss=0.64] \n",
      "Epoch: 4: 100%|██████████| 120/120 [00:44<00:00,  2.70batch/s, F1=0.752, accuracy=64.9, loss=0.635]\n"
     ]
    },
    {
     "name": "stdout",
     "output_type": "stream",
     "text": [
      "\n",
      "LR=0.1, WD=1e-05\n"
     ]
    },
    {
     "name": "stderr",
     "output_type": "stream",
     "text": [
      "Epoch: 0: 100%|██████████| 120/120 [00:47<00:00,  2.55batch/s, F1=0.743, accuracy=60.5, loss=0.669]\n",
      "Epoch: 1: 100%|██████████| 120/120 [00:43<00:00,  2.78batch/s, F1=0.747, accuracy=63, loss=0.652]  \n",
      "Epoch: 2: 100%|██████████| 120/120 [00:43<00:00,  2.75batch/s, F1=0.751, accuracy=64.3, loss=0.641]\n",
      "Epoch: 3: 100%|██████████| 120/120 [00:44<00:00,  2.71batch/s, F1=0.753, accuracy=64.8, loss=0.636]\n",
      "Epoch: 4: 100%|██████████| 120/120 [00:44<00:00,  2.73batch/s, F1=0.755, accuracy=65.3, loss=0.632]\n"
     ]
    },
    {
     "name": "stdout",
     "output_type": "stream",
     "text": [
      "\n",
      "LR=0.1, WD=0.0\n"
     ]
    },
    {
     "name": "stderr",
     "output_type": "stream",
     "text": [
      "Epoch: 0: 100%|██████████| 120/120 [00:43<00:00,  2.75batch/s, F1=0.742, accuracy=60.7, loss=0.668]\n",
      "Epoch: 1: 100%|██████████| 120/120 [00:43<00:00,  2.79batch/s, F1=0.743, accuracy=62.4, loss=0.654]\n",
      "Epoch: 2: 100%|██████████| 120/120 [00:38<00:00,  3.14batch/s, F1=0.749, accuracy=64, loss=0.643]  \n",
      "Epoch: 3: 100%|██████████| 120/120 [00:43<00:00,  2.77batch/s, F1=0.75, accuracy=64.6, loss=0.637] \n",
      "Epoch: 4: 100%|██████████| 120/120 [00:42<00:00,  2.85batch/s, F1=0.751, accuracy=64.7, loss=0.636]\n"
     ]
    },
    {
     "name": "stdout",
     "output_type": "stream",
     "text": [
      "\n",
      "LR=0.15, WD=0.0001\n"
     ]
    },
    {
     "name": "stderr",
     "output_type": "stream",
     "text": [
      "Epoch: 0: 100%|██████████| 120/120 [00:44<00:00,  2.68batch/s, F1=0.738, accuracy=60.6, loss=0.67] \n",
      "Epoch: 1: 100%|██████████| 120/120 [00:45<00:00,  2.65batch/s, F1=0.744, accuracy=62.8, loss=0.653]\n",
      "Epoch: 2: 100%|██████████| 120/120 [00:43<00:00,  2.74batch/s, F1=0.748, accuracy=63.8, loss=0.644]\n",
      "Epoch: 3: 100%|██████████| 120/120 [00:42<00:00,  2.85batch/s, F1=0.753, accuracy=64.9, loss=0.634]\n",
      "Epoch: 4: 100%|██████████| 120/120 [00:42<00:00,  2.83batch/s, F1=0.752, accuracy=64.9, loss=0.635]\n"
     ]
    },
    {
     "name": "stdout",
     "output_type": "stream",
     "text": [
      "\n",
      "LR=0.15, WD=1e-05\n"
     ]
    },
    {
     "name": "stderr",
     "output_type": "stream",
     "text": [
      "Epoch: 0: 100%|██████████| 120/120 [00:44<00:00,  2.72batch/s, F1=0.744, accuracy=60.7, loss=0.67] \n",
      "Epoch: 1: 100%|██████████| 120/120 [00:42<00:00,  2.84batch/s, F1=0.744, accuracy=62.3, loss=0.656]\n",
      "Epoch: 2: 100%|██████████| 120/120 [00:42<00:00,  2.84batch/s, F1=0.749, accuracy=64, loss=0.643]  \n",
      "Epoch: 3: 100%|██████████| 120/120 [00:43<00:00,  2.77batch/s, F1=0.752, accuracy=64.8, loss=0.635]\n",
      "Epoch: 4: 100%|██████████| 120/120 [00:41<00:00,  2.92batch/s, F1=0.754, accuracy=65.3, loss=0.632]\n"
     ]
    },
    {
     "name": "stdout",
     "output_type": "stream",
     "text": [
      "\n",
      "LR=0.15, WD=0.0\n"
     ]
    },
    {
     "name": "stderr",
     "output_type": "stream",
     "text": [
      "Epoch: 0: 100%|██████████| 120/120 [00:42<00:00,  2.79batch/s, F1=0.739, accuracy=60.4, loss=0.674]\n",
      "Epoch: 1: 100%|██████████| 120/120 [00:50<00:00,  2.40batch/s, F1=0.746, accuracy=62.5, loss=0.656]\n",
      "Epoch: 2: 100%|██████████| 120/120 [00:40<00:00,  2.94batch/s, F1=0.747, accuracy=63.9, loss=0.643]\n",
      "Epoch: 3: 100%|██████████| 120/120 [00:38<00:00,  3.10batch/s, F1=0.752, accuracy=64.7, loss=0.637]\n",
      "Epoch: 4: 100%|██████████| 120/120 [00:38<00:00,  3.10batch/s, F1=0.752, accuracy=65, loss=0.634]  \n"
     ]
    },
    {
     "name": "stdout",
     "output_type": "stream",
     "text": [
      "\n",
      "LR=0.2, WD=0.0001\n"
     ]
    },
    {
     "name": "stderr",
     "output_type": "stream",
     "text": [
      "Epoch: 0: 100%|██████████| 120/120 [00:38<00:00,  3.12batch/s, F1=0.739, accuracy=60.4, loss=0.673]\n",
      "Epoch: 1: 100%|██████████| 120/120 [00:38<00:00,  3.14batch/s, F1=0.743, accuracy=62.6, loss=0.653]\n",
      "Epoch: 2: 100%|██████████| 120/120 [00:38<00:00,  3.11batch/s, F1=0.749, accuracy=64, loss=0.643]  \n",
      "Epoch: 3: 100%|██████████| 120/120 [00:38<00:00,  3.10batch/s, F1=0.75, accuracy=64.5, loss=0.638] \n",
      "Epoch: 4: 100%|██████████| 120/120 [00:39<00:00,  3.05batch/s, F1=0.753, accuracy=65.1, loss=0.634]\n"
     ]
    },
    {
     "name": "stdout",
     "output_type": "stream",
     "text": [
      "\n",
      "LR=0.2, WD=1e-05\n"
     ]
    },
    {
     "name": "stderr",
     "output_type": "stream",
     "text": [
      "Epoch: 0: 100%|██████████| 120/120 [00:44<00:00,  2.69batch/s, F1=0.741, accuracy=60.5, loss=0.674]\n",
      "Epoch: 1: 100%|██████████| 120/120 [00:47<00:00,  2.55batch/s, F1=0.744, accuracy=62, loss=0.659]  \n",
      "Epoch: 2: 100%|██████████| 120/120 [00:38<00:00,  3.16batch/s, F1=0.747, accuracy=63.4, loss=0.646]\n",
      "Epoch: 3: 100%|██████████| 120/120 [00:40<00:00,  2.99batch/s, F1=0.749, accuracy=64.4, loss=0.637]\n",
      "Epoch: 4: 100%|██████████| 120/120 [00:37<00:00,  3.22batch/s, F1=0.751, accuracy=64.7, loss=0.636]\n"
     ]
    },
    {
     "name": "stdout",
     "output_type": "stream",
     "text": [
      "\n",
      "LR=0.2, WD=0.0\n"
     ]
    },
    {
     "name": "stderr",
     "output_type": "stream",
     "text": [
      "Epoch: 0: 100%|██████████| 120/120 [00:36<00:00,  3.25batch/s, F1=0.736, accuracy=60.3, loss=0.676]\n",
      "Epoch: 1: 100%|██████████| 120/120 [00:37<00:00,  3.20batch/s, F1=0.742, accuracy=62.1, loss=0.659]\n",
      "Epoch: 2: 100%|██████████| 120/120 [00:36<00:00,  3.25batch/s, F1=0.745, accuracy=63.6, loss=0.646]\n",
      "Epoch: 3: 100%|██████████| 120/120 [00:37<00:00,  3.23batch/s, F1=0.747, accuracy=64.2, loss=0.64] \n",
      "Epoch: 4: 100%|██████████| 120/120 [00:37<00:00,  3.24batch/s, F1=0.752, accuracy=65.1, loss=0.632]\n"
     ]
    },
    {
     "name": "stdout",
     "output_type": "stream",
     "text": [
      "\n",
      "LR=0.25, WD=0.0001\n"
     ]
    },
    {
     "name": "stderr",
     "output_type": "stream",
     "text": [
      "Epoch: 0: 100%|██████████| 120/120 [00:40<00:00,  2.98batch/s, F1=0.737, accuracy=60.5, loss=0.676]\n",
      "Epoch: 1: 100%|██████████| 120/120 [00:41<00:00,  2.91batch/s, F1=0.746, accuracy=63, loss=0.651]  \n",
      "Epoch: 2: 100%|██████████| 120/120 [00:46<00:00,  2.60batch/s, F1=0.75, accuracy=64.3, loss=0.64]  \n",
      "Epoch: 3: 100%|██████████| 120/120 [00:44<00:00,  2.70batch/s, F1=0.753, accuracy=65.1, loss=0.634]\n",
      "Epoch: 4: 100%|██████████| 120/120 [00:43<00:00,  2.79batch/s, F1=0.752, accuracy=65, loss=0.632]  \n"
     ]
    },
    {
     "name": "stdout",
     "output_type": "stream",
     "text": [
      "\n",
      "LR=0.25, WD=1e-05\n"
     ]
    },
    {
     "name": "stderr",
     "output_type": "stream",
     "text": [
      "Epoch: 0: 100%|██████████| 120/120 [00:44<00:00,  2.68batch/s, F1=0.738, accuracy=60.5, loss=0.674]\n",
      "Epoch: 1: 100%|██████████| 120/120 [00:44<00:00,  2.68batch/s, F1=0.744, accuracy=62.5, loss=0.655]\n",
      "Epoch: 2: 100%|██████████| 120/120 [00:42<00:00,  2.85batch/s, F1=0.747, accuracy=63.9, loss=0.643]\n",
      "Epoch: 3: 100%|██████████| 120/120 [00:42<00:00,  2.82batch/s, F1=0.752, accuracy=64.9, loss=0.635]\n",
      "Epoch: 4: 100%|██████████| 120/120 [00:44<00:00,  2.67batch/s, F1=0.751, accuracy=65, loss=0.633]  \n"
     ]
    },
    {
     "name": "stdout",
     "output_type": "stream",
     "text": [
      "\n",
      "LR=0.25, WD=0.0\n"
     ]
    },
    {
     "name": "stderr",
     "output_type": "stream",
     "text": [
      "Epoch: 0: 100%|██████████| 120/120 [00:43<00:00,  2.76batch/s, F1=0.74, accuracy=60.9, loss=0.671] \n",
      "Epoch: 1: 100%|██████████| 120/120 [00:42<00:00,  2.82batch/s, F1=0.743, accuracy=62.7, loss=0.655]\n",
      "Epoch: 2: 100%|██████████| 120/120 [00:43<00:00,  2.73batch/s, F1=0.749, accuracy=64.1, loss=0.642]\n",
      "Epoch: 3: 100%|██████████| 120/120 [00:44<00:00,  2.72batch/s, F1=0.749, accuracy=64.3, loss=0.639]\n",
      "Epoch: 4: 100%|██████████| 120/120 [00:43<00:00,  2.77batch/s, F1=0.751, accuracy=64.9, loss=0.634]"
     ]
    },
    {
     "name": "stdout",
     "output_type": "stream",
     "text": [
      "\n"
     ]
    },
    {
     "name": "stderr",
     "output_type": "stream",
     "text": [
      "\n"
     ]
    }
   ],
   "source": [
    "num_epochs = 5\n",
    "\n",
    "for lr in [0.08, 0.09, 0.1, 0.15, 0.2 , 0.25]:\n",
    "  for wd in [1e-4, 1e-5, 0.]:\n",
    "\n",
    "    # Choose model here\n",
    "    model = TCNet_Fusion(input_size= dataset[0][0].shape , \\\n",
    "                      n_classes= 2, channels= dataset[0][0].shape[1],\\\n",
    "                      sampling_rate= 128).to(device)\n",
    "\n",
    "    optimizer = optim.SGD(model.parameters(), lr=lr, weight_decay=wd , momentum=0.9)\n",
    "    print(f'LR={lr}, WD={wd}')\n",
    "\n",
    "    for epoch in range(num_epochs):\n",
    "      model, _loss, _acc, _f1 = train_one_step_tqdm_withF1(model, train_loader, loss_fn, optimizer,device, epoch, is_binary=False, num_classes=2)\n",
    "\n",
    "\n",
    "    print()"
   ]
  },
  {
   "cell_type": "markdown",
   "metadata": {},
   "source": [
    "## Step 5: train more epochs"
   ]
  },
  {
   "cell_type": "code",
   "execution_count": 119,
   "metadata": {},
   "outputs": [],
   "source": [
    "# model = TCNet_Fusion(input_size= dataset[0][0].shape , \\\n",
    "#                     n_classes= 2, channels= dataset[0][0].shape[1],\\\n",
    "#                     sampling_rate= 128).to(device)\n",
    "\n",
    "# model = ATCNet(dataset[0][0].shape, dataset[0][0].shape[1] , n_classes=2, n_windows=8,\n",
    "#                 eegn_F1=24, eegn_D=2, eegn_kernelSize=50, eegn_poolSize=1, eegn_dropout=0.3, num_heads=2,\n",
    "#                 tcn_depth=2, tcn_kernelSize=4, tcn_filters=32, tcn_dropout=0.3, fuse='average',activation='elu').to(device)\n",
    "\n",
    "model = DGCNN(in_channels= 128, # 5 : DE-Feature, 128: Time Feature\n",
    "              num_electrodes= 14, # 32 , 14\n",
    "              num_layers= 2,\n",
    "              hid_channels= 32,\n",
    "              num_classes= 2).to(device)"
   ]
  },
  {
   "cell_type": "code",
   "execution_count": 120,
   "metadata": {},
   "outputs": [],
   "source": [
    "lr = 0.1 # 0.2 -> 0.02\n",
    "wd = 1e-4\n",
    "optimizer = optim.SGD(model.parameters(), lr=lr, weight_decay=wd, momentum=0.9)\n",
    "\n",
    "loss_fn = nn.CrossEntropyLoss()"
   ]
  },
  {
   "cell_type": "code",
   "execution_count": 121,
   "metadata": {},
   "outputs": [],
   "source": [
    "loss_train_hist = []\n",
    "loss_valid_hist = []\n",
    "\n",
    "acc_train_hist = []\n",
    "acc_valid_hist = []\n",
    "\n",
    "f1_train_hist = []\n",
    "f1_valid_hist = [] \n",
    "\n",
    "best_loss_valid = torch.inf\n",
    "epoch_counter = 0"
   ]
  },
  {
   "cell_type": "code",
   "execution_count": 122,
   "metadata": {},
   "outputs": [
    {
     "name": "stderr",
     "output_type": "stream",
     "text": [
      "Epoch: 0: 100%|██████████| 120/120 [00:47<00:00,  2.53batch/s, F1=0.735, accuracy=60, loss=0.7]    \n",
      "Validation - : 100%|██████████| 14/14 [00:04<00:00,  3.00batch/s, F1=0.755, accuracy=60.8, loss=0.667]\n"
     ]
    },
    {
     "name": "stdout",
     "output_type": "stream",
     "text": [
      "Valid: Loss = 0.6672, Acc = 0.6085, F1= 0.7555\n",
      "Model Saved!\n",
      "\n"
     ]
    },
    {
     "name": "stderr",
     "output_type": "stream",
     "text": [
      "Epoch: 1: 100%|██████████| 120/120 [00:43<00:00,  2.74batch/s, F1=0.756, accuracy=61.1, loss=0.666]\n",
      "Validation - : 100%|██████████| 14/14 [00:04<00:00,  3.07batch/s, F1=0.757, accuracy=61, loss=0.666]  \n"
     ]
    },
    {
     "name": "stdout",
     "output_type": "stream",
     "text": [
      "Valid: Loss = 0.666, Acc = 0.6102, F1= 0.7565\n",
      "Model Saved!\n",
      "\n"
     ]
    },
    {
     "name": "stderr",
     "output_type": "stream",
     "text": [
      "Epoch: 2: 100%|██████████| 120/120 [00:43<00:00,  2.77batch/s, F1=0.756, accuracy=61.3, loss=0.663]\n",
      "Validation - : 100%|██████████| 14/14 [00:04<00:00,  3.01batch/s, F1=0.756, accuracy=61.3, loss=0.664]\n"
     ]
    },
    {
     "name": "stdout",
     "output_type": "stream",
     "text": [
      "Valid: Loss = 0.6641, Acc = 0.6126, F1= 0.7563\n",
      "Model Saved!\n",
      "\n"
     ]
    },
    {
     "name": "stderr",
     "output_type": "stream",
     "text": [
      "Epoch: 3: 100%|██████████| 120/120 [00:43<00:00,  2.77batch/s, F1=0.754, accuracy=61.6, loss=0.658]\n",
      "Validation - : 100%|██████████| 14/14 [00:04<00:00,  3.07batch/s, F1=0.753, accuracy=61.2, loss=0.665]\n"
     ]
    },
    {
     "name": "stdout",
     "output_type": "stream",
     "text": [
      "Valid: Loss = 0.6652, Acc = 0.6121, F1= 0.7527\n",
      "\n"
     ]
    },
    {
     "name": "stderr",
     "output_type": "stream",
     "text": [
      "Epoch: 4: 100%|██████████| 120/120 [00:42<00:00,  2.79batch/s, F1=0.754, accuracy=62.3, loss=0.653]\n",
      "Validation - : 100%|██████████| 14/14 [00:04<00:00,  3.07batch/s, F1=0.752, accuracy=61.1, loss=0.667]\n"
     ]
    },
    {
     "name": "stdout",
     "output_type": "stream",
     "text": [
      "Valid: Loss = 0.6665, Acc = 0.6109, F1= 0.7515\n",
      "\n"
     ]
    },
    {
     "name": "stderr",
     "output_type": "stream",
     "text": [
      "Epoch: 5: 100%|██████████| 120/120 [00:43<00:00,  2.76batch/s, F1=0.754, accuracy=63, loss=0.647]  \n",
      "Validation - : 100%|██████████| 14/14 [00:04<00:00,  3.07batch/s, F1=0.739, accuracy=60.7, loss=0.665]\n"
     ]
    },
    {
     "name": "stdout",
     "output_type": "stream",
     "text": [
      "Valid: Loss = 0.6648, Acc = 0.6072, F1= 0.7385\n",
      "\n"
     ]
    },
    {
     "name": "stderr",
     "output_type": "stream",
     "text": [
      "Epoch: 6: 100%|██████████| 120/120 [00:43<00:00,  2.77batch/s, F1=0.754, accuracy=63.9, loss=0.637]\n",
      "Validation - : 100%|██████████| 14/14 [00:04<00:00,  3.09batch/s, F1=0.734, accuracy=60.7, loss=0.669]\n"
     ]
    },
    {
     "name": "stdout",
     "output_type": "stream",
     "text": [
      "Valid: Loss = 0.6691, Acc = 0.6067, F1= 0.7338\n",
      "\n"
     ]
    },
    {
     "name": "stderr",
     "output_type": "stream",
     "text": [
      "Epoch: 7: 100%|██████████| 120/120 [00:43<00:00,  2.77batch/s, F1=0.755, accuracy=64.4, loss=0.633]\n",
      "Validation - : 100%|██████████| 14/14 [00:04<00:00,  3.08batch/s, F1=0.722, accuracy=60.4, loss=0.67] \n"
     ]
    },
    {
     "name": "stdout",
     "output_type": "stream",
     "text": [
      "Valid: Loss = 0.6701, Acc = 0.6038, F1= 0.7221\n",
      "\n"
     ]
    },
    {
     "name": "stderr",
     "output_type": "stream",
     "text": [
      "Epoch: 8: 100%|██████████| 120/120 [00:43<00:00,  2.79batch/s, F1=0.756, accuracy=65, loss=0.626]  \n",
      "Validation - : 100%|██████████| 14/14 [00:04<00:00,  3.10batch/s, F1=0.736, accuracy=60.8, loss=0.673]\n"
     ]
    },
    {
     "name": "stdout",
     "output_type": "stream",
     "text": [
      "Valid: Loss = 0.6727, Acc = 0.6081, F1= 0.7358\n",
      "\n"
     ]
    },
    {
     "name": "stderr",
     "output_type": "stream",
     "text": [
      "Epoch: 9: 100%|██████████| 120/120 [00:43<00:00,  2.77batch/s, F1=0.76, accuracy=66, loss=0.617]  \n",
      "Validation - : 100%|██████████| 14/14 [00:04<00:00,  3.09batch/s, F1=0.725, accuracy=60.2, loss=0.683]\n"
     ]
    },
    {
     "name": "stdout",
     "output_type": "stream",
     "text": [
      "Valid: Loss = 0.683, Acc = 0.6021, F1= 0.7248\n",
      "\n"
     ]
    },
    {
     "name": "stderr",
     "output_type": "stream",
     "text": [
      "Epoch: 10: 100%|██████████| 120/120 [00:43<00:00,  2.78batch/s, F1=0.764, accuracy=67, loss=0.608]  \n",
      "Validation - : 100%|██████████| 14/14 [00:04<00:00,  3.05batch/s, F1=0.721, accuracy=60.3, loss=0.685]\n"
     ]
    },
    {
     "name": "stdout",
     "output_type": "stream",
     "text": [
      "Valid: Loss = 0.685, Acc = 0.6034, F1= 0.7207\n",
      "\n"
     ]
    },
    {
     "name": "stderr",
     "output_type": "stream",
     "text": [
      "Epoch: 11: 100%|██████████| 120/120 [00:45<00:00,  2.66batch/s, F1=0.765, accuracy=67.5, loss=0.603]\n",
      "Validation - : 100%|██████████| 14/14 [00:05<00:00,  2.69batch/s, F1=0.69, accuracy=58.6, loss=0.689] \n"
     ]
    },
    {
     "name": "stdout",
     "output_type": "stream",
     "text": [
      "Valid: Loss = 0.6894, Acc = 0.5859, F1= 0.6899\n",
      "\n"
     ]
    },
    {
     "name": "stderr",
     "output_type": "stream",
     "text": [
      "Epoch: 12: 100%|██████████| 120/120 [00:50<00:00,  2.39batch/s, F1=0.768, accuracy=68, loss=0.596]  \n",
      "Validation - : 100%|██████████| 14/14 [00:05<00:00,  2.60batch/s, F1=0.69, accuracy=58.7, loss=0.692] \n"
     ]
    },
    {
     "name": "stdout",
     "output_type": "stream",
     "text": [
      "Valid: Loss = 0.6919, Acc = 0.587, F1= 0.6897\n",
      "\n"
     ]
    },
    {
     "name": "stderr",
     "output_type": "stream",
     "text": [
      "Epoch: 13: 100%|██████████| 120/120 [00:48<00:00,  2.49batch/s, F1=0.772, accuracy=68.8, loss=0.591]\n",
      "Validation - : 100%|██████████| 14/14 [00:04<00:00,  2.85batch/s, F1=0.709, accuracy=59.8, loss=0.701]\n"
     ]
    },
    {
     "name": "stdout",
     "output_type": "stream",
     "text": [
      "Valid: Loss = 0.7011, Acc = 0.5978, F1= 0.7086\n",
      "\n"
     ]
    },
    {
     "name": "stderr",
     "output_type": "stream",
     "text": [
      "Epoch: 14: 100%|██████████| 120/120 [00:45<00:00,  2.62batch/s, F1=0.774, accuracy=69.5, loss=0.58] \n",
      "Validation - : 100%|██████████| 14/14 [00:04<00:00,  2.90batch/s, F1=0.689, accuracy=58.9, loss=0.711]\n"
     ]
    },
    {
     "name": "stdout",
     "output_type": "stream",
     "text": [
      "Valid: Loss = 0.7105, Acc = 0.589, F1= 0.6887\n",
      "\n"
     ]
    },
    {
     "name": "stderr",
     "output_type": "stream",
     "text": [
      "Epoch: 15: 100%|██████████| 120/120 [00:45<00:00,  2.63batch/s, F1=0.776, accuracy=70, loss=0.574]  \n",
      "Validation - : 100%|██████████| 14/14 [00:04<00:00,  2.87batch/s, F1=0.724, accuracy=60.5, loss=0.705]\n"
     ]
    },
    {
     "name": "stdout",
     "output_type": "stream",
     "text": [
      "Valid: Loss = 0.7046, Acc = 0.6047, F1= 0.7242\n",
      "\n"
     ]
    },
    {
     "name": "stderr",
     "output_type": "stream",
     "text": [
      "Epoch: 16: 100%|██████████| 120/120 [00:45<00:00,  2.63batch/s, F1=0.782, accuracy=70.7, loss=0.568]\n",
      "Validation - : 100%|██████████| 14/14 [00:04<00:00,  2.89batch/s, F1=0.69, accuracy=58.7, loss=0.742]\n"
     ]
    },
    {
     "name": "stdout",
     "output_type": "stream",
     "text": [
      "Valid: Loss = 0.7417, Acc = 0.5866, F1= 0.6903\n",
      "\n"
     ]
    },
    {
     "name": "stderr",
     "output_type": "stream",
     "text": [
      "Epoch: 17: 100%|██████████| 120/120 [00:44<00:00,  2.67batch/s, F1=0.79, accuracy=72.2, loss=0.55] \n",
      "Validation - : 100%|██████████| 14/14 [00:04<00:00,  3.09batch/s, F1=0.694, accuracy=59.2, loss=0.744]\n"
     ]
    },
    {
     "name": "stdout",
     "output_type": "stream",
     "text": [
      "Valid: Loss = 0.7444, Acc = 0.5923, F1= 0.6941\n",
      "\n"
     ]
    },
    {
     "name": "stderr",
     "output_type": "stream",
     "text": [
      "Epoch: 18: 100%|██████████| 120/120 [00:43<00:00,  2.78batch/s, F1=0.793, accuracy=72.8, loss=0.542]\n",
      "Validation - : 100%|██████████| 14/14 [00:04<00:00,  3.08batch/s, F1=0.685, accuracy=59, loss=0.749]  \n"
     ]
    },
    {
     "name": "stdout",
     "output_type": "stream",
     "text": [
      "Valid: Loss = 0.749, Acc = 0.5902, F1= 0.6849\n",
      "\n"
     ]
    },
    {
     "name": "stderr",
     "output_type": "stream",
     "text": [
      "Epoch: 19: 100%|██████████| 120/120 [00:43<00:00,  2.79batch/s, F1=0.796, accuracy=73.1, loss=0.536]\n",
      "Validation - : 100%|██████████| 14/14 [00:04<00:00,  3.06batch/s, F1=0.684, accuracy=58.6, loss=0.745]"
     ]
    },
    {
     "name": "stdout",
     "output_type": "stream",
     "text": [
      "Valid: Loss = 0.7455, Acc = 0.5863, F1= 0.6845\n",
      "\n"
     ]
    },
    {
     "name": "stderr",
     "output_type": "stream",
     "text": [
      "\n"
     ]
    }
   ],
   "source": [
    "num_epochs = 20\n",
    "\n",
    "for epoch in range(num_epochs):\n",
    "  # Train\n",
    "  model, loss_train, acc_train , f1_train = train_one_step_tqdm_withF1(model, train_loader, loss_fn, optimizer,device, epoch, is_binary=False, num_classes=2)\n",
    "\n",
    "  # Validation\n",
    "  loss_valid, acc_valid , f1_valid = validation_with_tqdm_withF1(model, val_loader, loss_fn, device=device, is_binary=False, num_classes=2)\n",
    "\n",
    "  loss_train_hist.append(loss_train)\n",
    "  loss_valid_hist.append(loss_valid)\n",
    "\n",
    "  acc_train_hist.append(acc_train)\n",
    "  acc_valid_hist.append(acc_valid)\n",
    "  \n",
    "  f1_train_hist.append(f1_train)\n",
    "  f1_valid_hist.append(f1_valid)\n",
    "\n",
    "  print(f'Valid: Loss = {loss_valid:.4}, Acc = {acc_valid:.4}, F1= {f1_valid:.4}')\n",
    "\n",
    "  if loss_valid < best_loss_valid:\n",
    "    torch.save(model, 'model.pt')\n",
    "    best_loss_valid = loss_valid\n",
    "    print('Model Saved!')\n",
    "\n",
    "  print()\n",
    "  epoch_counter += 1"
   ]
  },
  {
   "cell_type": "markdown",
   "metadata": {},
   "source": [
    "# Step 6: plots"
   ]
  },
  {
   "cell_type": "code",
   "execution_count": 123,
   "metadata": {},
   "outputs": [
    {
     "data": {
      "text/plain": [
       "<matplotlib.legend.Legend at 0x2263ab9a880>"
      ]
     },
     "execution_count": 123,
     "metadata": {},
     "output_type": "execute_result"
    },
    {
     "data": {
      "image/png": "[encoded data removed]",
      "text/plain": [
       "<Figure size 640x480 with 1 Axes>"
      ]
     },
     "metadata": {},
     "output_type": "display_data"
    }
   ],
   "source": [
    "plt.plot(range(epoch_counter), loss_train_hist, 'r-', label='Train')\n",
    "plt.plot(range(epoch_counter), loss_valid_hist, 'b-', label='Validation')\n",
    "\n",
    "plt.xlabel('Epoch')\n",
    "plt.ylabel('loss')\n",
    "plt.grid(True)\n",
    "plt.legend()"
   ]
  },
  {
   "cell_type": "code",
   "execution_count": 124,
   "metadata": {},
   "outputs": [
    {
     "data": {
      "text/plain": [
       "<matplotlib.legend.Legend at 0x2268cac8b80>"
      ]
     },
     "execution_count": 124,
     "metadata": {},
     "output_type": "execute_result"
    },
    {
     "data": {
      "image/png": "[encoded data removed]",
      "text/plain": [
       "<Figure size 640x480 with 1 Axes>"
      ]
     },
     "metadata": {},
     "output_type": "display_data"
    }
   ],
   "source": [
    "plt.plot(range(epoch_counter), acc_train_hist, 'r-', label='Train')\n",
    "plt.plot(range(epoch_counter), acc_valid_hist, 'b-', label='Validation')\n",
    "\n",
    "plt.xlabel('Epoch')\n",
    "plt.ylabel('Acc')\n",
    "plt.grid(True)\n",
    "plt.legend()"
   ]
  },
  {
   "cell_type": "code",
   "execution_count": null,
   "metadata": {},
   "outputs": [],
   "source": []
  },
  {
   "cell_type": "code",
   "execution_count": null,
   "metadata": {},
   "outputs": [],
   "source": []
  }
 ],
 "metadata": {
  "kernelspec": {
   "display_name": "Pytorch_EEG",
   "language": "python",
   "name": "python3"
  },
  "language_info": {
   "codemirror_mode": {
    "name": "ipython",
    "version": 3
   },
   "file_extension": ".py",
   "mimetype": "text/x-python",
   "name": "python",
   "nbconvert_exporter": "python",
   "pygments_lexer": "ipython3",
   "version": "3.9.19"
  }
 },
 "nbformat": 4,
 "nbformat_minor": 2
}
