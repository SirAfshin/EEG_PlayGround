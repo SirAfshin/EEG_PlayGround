{
 "cells": [
  {
   "cell_type": "markdown",
   "metadata": {},
   "source": [
    "# Imports"
   ]
  },
  {
   "cell_type": "code",
   "execution_count": 1,
   "metadata": {},
   "outputs": [],
   "source": [
    "import sys\n",
    "import os\n",
    "\n",
    "# Dynamically add the root directory to sys.path\n",
    "# Assumes that 'models' and 'utils' are in the same project root directory\n",
    "project_root = os.path.abspath(os.path.join(os.path.dirname('.'), '..'))\n",
    "sys.path.insert(0, project_root)\n"
   ]
  },
  {
   "cell_type": "code",
   "execution_count": 2,
   "metadata": {},
   "outputs": [],
   "source": [
    "# sklearn\n",
    "from sklearn.metrics import accuracy_score\n",
    "\n",
    "# torch\n",
    "import torch \n",
    "import torch.nn as nn\n",
    "import torch.optim as optim\n",
    "import torch.nn.functional as F\n",
    "\n",
    "# torch eeg library\n",
    "from torcheeg import transforms\n",
    "from torch.utils.data import DataLoader\n",
    "from torcheeg.datasets.constants import DREAMER_CHANNEL_LOCATION_DICT\n",
    "from torcheeg.datasets import DREAMERDataset\n",
    "from torcheeg.model_selection import KFoldGroupbyTrial\n",
    "from torcheeg.model_selection import train_test_split_groupby_trial\n",
    "\n",
    "# Other\n",
    "import math\n",
    "from tqdm import tqdm\n",
    "import matplotlib.pyplot as plt\n",
    "\n",
    "# Ignore warnings\n",
    "import warnings\n",
    "warnings.filterwarnings('ignore')\n",
    "\n",
    "# Local Imports\n",
    "from utils.checkpoint import train_and_save\n",
    "from utils.log import get_logger\n",
    "from utils.utils import print_var, train_one_epoch, train_one_epoch_lstm, get_num_params, train_one_step_tqdm\n",
    "from models.cnn import Two_Layer_CNN, Two_Layer_CNN_Pro, Simplified_CNN\n",
    "from models.rnns import LSTM"
   ]
  },
  {
   "cell_type": "code",
   "execution_count": 12,
   "metadata": {},
   "outputs": [],
   "source": [
    "from torcheeg.models import TSCeption\n"
   ]
  },
  {
   "cell_type": "code",
   "execution_count": null,
   "metadata": {},
   "outputs": [],
   "source": [
    "# nice label transform\n",
    "label_transform=transforms.Compose([\n",
    "    transforms.Select(['valence', 'arousal']),\n",
    "    transforms.Binary(5.0),\n",
    "    transforms.BinariesToCategory()])"
   ]
  },
  {
   "cell_type": "markdown",
   "metadata": {},
   "source": [
    "# Read Data"
   ]
  },
  {
   "cell_type": "markdown",
   "metadata": {},
   "source": [
    "## load data"
   ]
  },
  {
   "cell_type": "code",
   "execution_count": 41,
   "metadata": {},
   "outputs": [
    {
     "name": "stderr",
     "output_type": "stream",
     "text": [
      "[2024-11-26 19:13:07] INFO (torcheeg/MainThread) 🔍 | Detected cached processing results, reading cache from ../saves/datasets/Dreamer_time_series_01.\n"
     ]
    }
   ],
   "source": [
    "dataset_name = 'Dreamer_time_series_01'\n",
    "emotion_dim = 'valence'  # valence, dominance, or arousal\n",
    "\n",
    "mat_path = '../raw_data/DREAMER.mat'  # path to the DREAMER.mat file\n",
    "io_path = f'../saves/datasets/{dataset_name}'  # IO path to store the dataset\n",
    "\n",
    "# Import data\n",
    "dataset = DREAMERDataset(io_path=f\"{io_path}\",\n",
    "                        mat_path=mat_path,\n",
    "                        offline_transform=transforms.Compose([\n",
    "                            transforms.MeanStdNormalize(),#MeanStdNormalize() , MinMaxNormalize()\n",
    "                        ]),\n",
    "                        online_transform=transforms.Compose([\n",
    "                            transforms.ToTensor(),\n",
    "                        ]),\n",
    "                        label_transform=transforms.Compose([\n",
    "                            transforms.Select(emotion_dim),\n",
    "                            transforms.Binary(threshold=2.5),\n",
    "                             \n",
    "                        ]),\n",
    "                        chunk_size=128,\n",
    "                        baseline_chunk_size=128,\n",
    "                        num_baseline=61,\n",
    "                        num_worker=4)\n",
    "\n"
   ]
  },
  {
   "cell_type": "code",
   "execution_count": 39,
   "metadata": {},
   "outputs": [
    {
     "name": "stderr",
     "output_type": "stream",
     "text": [
      "[2024-11-26 19:12:50] INFO (torcheeg/MainThread) 🔍 | Detected cached processing results, reading cache from ../saves/datasets/Dreamer_2D_1.\n"
     ]
    }
   ],
   "source": [
    "# To 2D for tsception\n",
    "\n",
    "dataset_name = 'Dreamer_2D_1'\n",
    "emotion_dim = 'valence'  # valence, dominance, or arousal\n",
    "\n",
    "mat_path = '../raw_data/DREAMER.mat'  # path to the DREAMER.mat file\n",
    "io_path = f'../saves/datasets/{dataset_name}'  # IO path to store the dataset\n",
    "\n",
    "dataset = DREAMERDataset(io_path=f\"{io_path}\",\n",
    "                         mat_path=mat_path,\n",
    "                         offline_transform=transforms.Compose([\n",
    "                             transforms.BaselineRemoval(),\n",
    "                             transforms.MeanStdNormalize(),\n",
    "                             transforms.To2d()\n",
    "                         ]),\n",
    "                         online_transform=transforms.ToTensor(),\n",
    "                         label_transform=transforms.Compose([\n",
    "                             transforms.Select('valence'),\n",
    "                             transforms.Binary(3.0)\n",
    "                         ]),\n",
    "                         chunk_size=128,\n",
    "                         baseline_chunk_size=128,\n",
    "                         num_baseline=61,\n",
    "                         num_worker=4)"
   ]
  },
  {
   "cell_type": "code",
   "execution_count": 40,
   "metadata": {},
   "outputs": [
    {
     "data": {
      "text/plain": [
       "torch.Size([1, 14, 128])"
      ]
     },
     "execution_count": 40,
     "metadata": {},
     "output_type": "execute_result"
    }
   ],
   "source": [
    "dataset[0][0].shape"
   ]
  },
  {
   "cell_type": "code",
   "execution_count": 5,
   "metadata": {},
   "outputs": [
    {
     "ename": "IndexError",
     "evalue": "index 1 is out of bounds for dimension 0 with size 1",
     "output_type": "error",
     "traceback": [
      "\u001b[0;31m---------------------------------------------------------------------------\u001b[0m",
      "\u001b[0;31mIndexError\u001b[0m                                Traceback (most recent call last)",
      "Cell \u001b[0;32mIn[5], line 2\u001b[0m\n\u001b[1;32m      1\u001b[0m \u001b[38;5;28;01mfor\u001b[39;00m i \u001b[38;5;129;01min\u001b[39;00m \u001b[38;5;28mrange\u001b[39m(\u001b[38;5;241m14\u001b[39m):\n\u001b[0;32m----> 2\u001b[0m     plt\u001b[38;5;241m.\u001b[39mhist(\u001b[43mdataset\u001b[49m\u001b[43m[\u001b[49m\u001b[38;5;241;43m100\u001b[39;49m\u001b[43m]\u001b[49m\u001b[43m[\u001b[49m\u001b[38;5;241;43m0\u001b[39;49m\u001b[43m]\u001b[49m\u001b[43m[\u001b[49m\u001b[43mi\u001b[49m\u001b[43m,\u001b[49m\u001b[43m:\u001b[49m\u001b[43m]\u001b[49m)\n",
      "\u001b[0;31mIndexError\u001b[0m: index 1 is out of bounds for dimension 0 with size 1"
     ]
    },
    {
     "data": {
      "image/png": "[encoded data removed]",
      "text/plain": [
       "<Figure size 640x480 with 1 Axes>"
      ]
     },
     "metadata": {},
     "output_type": "display_data"
    }
   ],
   "source": [
    "for i in range(14):\n",
    "    plt.hist(dataset[100][0][i,:])\n"
   ]
  },
  {
   "cell_type": "markdown",
   "metadata": {},
   "source": [
    "## Split data"
   ]
  },
  {
   "cell_type": "code",
   "execution_count": 42,
   "metadata": {},
   "outputs": [
    {
     "name": "stderr",
     "output_type": "stream",
     "text": [
      "[2024-11-26 19:13:13] INFO (torcheeg/MainThread) 📊 | Create the split of train and test set.\n",
      "[2024-11-26 19:13:13] INFO (torcheeg/MainThread) 😊 | Please set \u001b[92msplit_path\u001b[0m to \u001b[92m.torcheeg/model_selection_1732635793577_16LC4\u001b[0m for the next run, if you want to use the same setting for the experiment.\n",
      "[2024-11-26 19:13:14] INFO (torcheeg/MainThread) 📊 | Create the split of train and test set.\n",
      "[2024-11-26 19:13:14] INFO (torcheeg/MainThread) 😊 | Please set \u001b[92msplit_path\u001b[0m to \u001b[92m.torcheeg/model_selection_1732635794622_YLb6S\u001b[0m for the next run, if you want to use the same setting for the experiment.\n"
     ]
    }
   ],
   "source": [
    "rng_num = 122\n",
    "train_dataset, test_dataset = train_test_split_groupby_trial(dataset= dataset, test_size = 0.2, shuffle= True, random_state= rng_num)\n",
    "train_dataset, val_dataset = train_test_split_groupby_trial(dataset= train_dataset, test_size = 0.2, shuffle=True, random_state= rng_num)"
   ]
  },
  {
   "cell_type": "code",
   "execution_count": 43,
   "metadata": {},
   "outputs": [
    {
     "data": {
      "text/plain": [
       "(54533, 13869, 17342, 85744)"
      ]
     },
     "execution_count": 43,
     "metadata": {},
     "output_type": "execute_result"
    }
   ],
   "source": [
    "len(train_dataset),len(val_dataset) , len(test_dataset), len(dataset)"
   ]
  },
  {
   "cell_type": "markdown",
   "metadata": {},
   "source": [
    "## create dataloader"
   ]
  },
  {
   "cell_type": "code",
   "execution_count": 44,
   "metadata": {},
   "outputs": [],
   "source": [
    "train_loader = DataLoader(train_dataset, batch_size= 256, shuffle=True)\n",
    "val_loader = DataLoader(val_dataset, batch_size= 256, shuffle=True)\n",
    "test_loader = DataLoader(test_dataset, batch_size= 256, shuffle=False)"
   ]
  },
  {
   "cell_type": "markdown",
   "metadata": {},
   "source": [
    "# Define model"
   ]
  },
  {
   "cell_type": "code",
   "execution_count": null,
   "metadata": {},
   "outputs": [
    {
     "data": {
      "text/plain": [
       "torch.Size([256, 1, 14, 128])"
      ]
     },
     "execution_count": 52,
     "metadata": {},
     "output_type": "execute_result"
    }
   ],
   "source": [
    "next(iter(train_loader))[0].shape"
   ]
  },
  {
   "cell_type": "code",
   "execution_count": 23,
   "metadata": {},
   "outputs": [],
   "source": [
    "class LSTM_CNN_Model(nn.Module):\n",
    "    def __init__(self,in_channel=14, hidden_size1=64, hidden_size2= 128, hidden_size_lstm= 256, num_layers= 1, num_classes=1, dropout_prob=0.5):\n",
    "        super().__init__()\n",
    "        \n",
    "        self.dropout = nn.Dropout(dropout_prob)\n",
    "        self.af = nn.ReLU()\n",
    "        \n",
    "        # CNN\n",
    "        self.conv1 = nn.Conv1d(in_channels= in_channel, out_channels=hidden_size1 , kernel_size= 3 ,padding=1)\n",
    "        self.bn1 = nn.BatchNorm1d(num_features= hidden_size1)\n",
    "        self.max_pool1 = nn.MaxPool1d(2)\n",
    "\n",
    "        self.conv2 = nn.Conv1d(in_channels= hidden_size1, out_channels=hidden_size2 , kernel_size= 3 ,padding=1)\n",
    "        self.bn2 = nn.BatchNorm1d(num_features= hidden_size2)\n",
    "        self.max_pool2 = nn.MaxPool1d(4)\n",
    "\n",
    "        # LSTM\n",
    "        self.num_layers = num_layers\n",
    "        self.hidden_size_lstm = hidden_size_lstm\n",
    "        self.lstm = nn.LSTM(hidden_size2, hidden_size_lstm, num_layers, batch_first=True)\n",
    "\n",
    "\n",
    "        # fully connected\n",
    "        self.fc = nn.LazyLinear(num_classes)\n",
    "\n",
    "\n",
    "    def forward(self, x): # [batch, 14, 128]\n",
    "        x = self.conv1(x) # [batch, 64, 64]\n",
    "        x = self.bn1(x)\n",
    "        x = self.af(x)\n",
    "        x = self.dropout(x)\n",
    "        x = self.max_pool1(x) # [batch, 64, 32]\n",
    "\n",
    "        x = self.max_pool2(self.dropout(self.af(self.bn2(self.conv2(x))))) # [batch, 128, 16] -> F x L\n",
    "\n",
    "        # lstm section\n",
    "        x = x.permute(0, 2, 1) # (Batch, Length, features = 128 channels)\n",
    "        # Initialize hidden state and cell state with random values\n",
    "        h0 = torch.randn(self.num_layers, x.size(0), self.hidden_size_lstm).to(x.device)\n",
    "        c0 = torch.randn(self.num_layers, x.size(0), self.hidden_size_lstm).to(x.device)\n",
    "\n",
    "        # Forward propagate the LSTM\n",
    "        out, (_,_) = self.lstm(x, (h0, c0)) #\n",
    "\n",
    "        # x = self.fc(out[:, -1, :])\n",
    "        x = self.fc(out.flatten(1))\n",
    "        x = nn.functional.sigmoid(x)\n",
    "\n",
    "        return x\n"
   ]
  },
  {
   "cell_type": "code",
   "execution_count": null,
   "metadata": {},
   "outputs": [],
   "source": []
  },
  {
   "cell_type": "code",
   "execution_count": null,
   "metadata": {},
   "outputs": [
    {
     "data": {
      "text/plain": [
       "2048"
      ]
     },
     "execution_count": 210,
     "metadata": {},
     "output_type": "execute_result"
    }
   ],
   "source": []
  },
  {
   "cell_type": "markdown",
   "metadata": {},
   "source": [
    "# Test model with little data"
   ]
  },
  {
   "cell_type": "code",
   "execution_count": 279,
   "metadata": {},
   "outputs": [
    {
     "name": "stdout",
     "output_type": "stream",
     "text": [
      "torch.Size([256, 1])\n",
      "423361.0\n"
     ]
    }
   ],
   "source": [
    "x, y = next(iter(train_loader))\n",
    "model = LSTM_CNN_Model()\n",
    "print(model(x).shape)\n",
    "print(get_num_params(model,1))"
   ]
  },
  {
   "cell_type": "code",
   "execution_count": null,
   "metadata": {},
   "outputs": [
    {
     "ename": "RuntimeError",
     "evalue": "Expected 3D (unbatched) or 4D (batched) input to conv2d, but got input of size: [14, 128]",
     "output_type": "error",
     "traceback": [
      "\u001b[0;31m---------------------------------------------------------------------------\u001b[0m",
      "\u001b[0;31mRuntimeError\u001b[0m                              Traceback (most recent call last)",
      "Cell \u001b[0;32mIn[296], line 11\u001b[0m\n\u001b[1;32m      2\u001b[0m \u001b[38;5;66;03m# TSCeption config for DREAMER\u001b[39;00m\n\u001b[1;32m      3\u001b[0m model \u001b[38;5;241m=\u001b[39m TSCeption(num_electrodes\u001b[38;5;241m=\u001b[39m\u001b[38;5;241m14\u001b[39m,\n\u001b[1;32m      4\u001b[0m                     num_classes\u001b[38;5;241m=\u001b[39m\u001b[38;5;241m2\u001b[39m,\n\u001b[1;32m      5\u001b[0m                     num_T\u001b[38;5;241m=\u001b[39m\u001b[38;5;241m15\u001b[39m,\n\u001b[0;32m   (...)\u001b[0m\n\u001b[1;32m      9\u001b[0m                     sampling_rate\u001b[38;5;241m=\u001b[39m\u001b[38;5;241m128\u001b[39m,\n\u001b[1;32m     10\u001b[0m                     dropout\u001b[38;5;241m=\u001b[39m\u001b[38;5;241m0.5\u001b[39m)\n\u001b[0;32m---> 11\u001b[0m \u001b[43mmodel\u001b[49m\u001b[43m(\u001b[49m\u001b[38;5;28;43mnext\u001b[39;49m\u001b[43m(\u001b[49m\u001b[38;5;28;43miter\u001b[39;49m\u001b[43m(\u001b[49m\u001b[43mdataset\u001b[49m\u001b[43m)\u001b[49m\u001b[43m)\u001b[49m\u001b[43m[\u001b[49m\u001b[38;5;241;43m0\u001b[39;49m\u001b[43m]\u001b[49m\u001b[38;5;241;43m.\u001b[39;49m\u001b[43msqueeze\u001b[49m\u001b[43m(\u001b[49m\u001b[43m)\u001b[49m\u001b[43m)\u001b[49m\n",
      "File \u001b[0;32m~/SA_FILES/Bayat_env/torcheeg_SA_3/lib/python3.9/site-packages/torch/nn/modules/module.py:1110\u001b[0m, in \u001b[0;36mModule._call_impl\u001b[0;34m(self, *input, **kwargs)\u001b[0m\n\u001b[1;32m   1106\u001b[0m \u001b[38;5;66;03m# If we don't have any hooks, we want to skip the rest of the logic in\u001b[39;00m\n\u001b[1;32m   1107\u001b[0m \u001b[38;5;66;03m# this function, and just call forward.\u001b[39;00m\n\u001b[1;32m   1108\u001b[0m \u001b[38;5;28;01mif\u001b[39;00m \u001b[38;5;129;01mnot\u001b[39;00m (\u001b[38;5;28mself\u001b[39m\u001b[38;5;241m.\u001b[39m_backward_hooks \u001b[38;5;129;01mor\u001b[39;00m \u001b[38;5;28mself\u001b[39m\u001b[38;5;241m.\u001b[39m_forward_hooks \u001b[38;5;129;01mor\u001b[39;00m \u001b[38;5;28mself\u001b[39m\u001b[38;5;241m.\u001b[39m_forward_pre_hooks \u001b[38;5;129;01mor\u001b[39;00m _global_backward_hooks\n\u001b[1;32m   1109\u001b[0m         \u001b[38;5;129;01mor\u001b[39;00m _global_forward_hooks \u001b[38;5;129;01mor\u001b[39;00m _global_forward_pre_hooks):\n\u001b[0;32m-> 1110\u001b[0m     \u001b[38;5;28;01mreturn\u001b[39;00m \u001b[43mforward_call\u001b[49m\u001b[43m(\u001b[49m\u001b[38;5;241;43m*\u001b[39;49m\u001b[38;5;28;43minput\u001b[39;49m\u001b[43m,\u001b[49m\u001b[43m \u001b[49m\u001b[38;5;241;43m*\u001b[39;49m\u001b[38;5;241;43m*\u001b[39;49m\u001b[43mkwargs\u001b[49m\u001b[43m)\u001b[49m\n\u001b[1;32m   1111\u001b[0m \u001b[38;5;66;03m# Do not call functions when jit is used\u001b[39;00m\n\u001b[1;32m   1112\u001b[0m full_backward_hooks, non_full_backward_hooks \u001b[38;5;241m=\u001b[39m [], []\n",
      "File \u001b[0;32m~/SA_FILES/Bayat_env/torcheeg_SA_3/lib/python3.9/site-packages/torcheeg/models/cnn/tsception.py:132\u001b[0m, in \u001b[0;36mTSCeption.forward\u001b[0;34m(self, x)\u001b[0m\n\u001b[1;32m    124\u001b[0m \u001b[38;5;28;01mdef\u001b[39;00m \u001b[38;5;21mforward\u001b[39m(\u001b[38;5;28mself\u001b[39m, x: torch\u001b[38;5;241m.\u001b[39mTensor) \u001b[38;5;241m-\u001b[39m\u001b[38;5;241m>\u001b[39m torch\u001b[38;5;241m.\u001b[39mTensor:\n\u001b[1;32m    125\u001b[0m \u001b[38;5;250m    \u001b[39m\u001b[38;5;124mr\u001b[39m\u001b[38;5;124;03m'''\u001b[39;00m\n\u001b[1;32m    126\u001b[0m \u001b[38;5;124;03m    Args:\u001b[39;00m\n\u001b[1;32m    127\u001b[0m \u001b[38;5;124;03m        x (torch.Tensor): EEG signal representation, the ideal input shape is :obj:`[n, 1, 28, 512]`. Here, :obj:`n` corresponds to the batch size, :obj:`1` corresponds to number of channels for convolution, :obj:`28` corresponds to :obj:`num_electrodes`, and :obj:`512` corresponds to the input dimension for each electrode.\u001b[39;00m\n\u001b[0;32m   (...)\u001b[0m\n\u001b[1;32m    130\u001b[0m \u001b[38;5;124;03m        torch.Tensor[number of sample, number of classes]: the predicted probability that the samples belong to the classes.\u001b[39;00m\n\u001b[1;32m    131\u001b[0m \u001b[38;5;124;03m    '''\u001b[39;00m\n\u001b[0;32m--> 132\u001b[0m     y \u001b[38;5;241m=\u001b[39m \u001b[38;5;28;43mself\u001b[39;49m\u001b[38;5;241;43m.\u001b[39;49m\u001b[43mTception1\u001b[49m\u001b[43m(\u001b[49m\u001b[43mx\u001b[49m\u001b[43m)\u001b[49m\n\u001b[1;32m    133\u001b[0m     out \u001b[38;5;241m=\u001b[39m y\n\u001b[1;32m    134\u001b[0m     y \u001b[38;5;241m=\u001b[39m \u001b[38;5;28mself\u001b[39m\u001b[38;5;241m.\u001b[39mTception2(x)\n",
      "File \u001b[0;32m~/SA_FILES/Bayat_env/torcheeg_SA_3/lib/python3.9/site-packages/torch/nn/modules/module.py:1110\u001b[0m, in \u001b[0;36mModule._call_impl\u001b[0;34m(self, *input, **kwargs)\u001b[0m\n\u001b[1;32m   1106\u001b[0m \u001b[38;5;66;03m# If we don't have any hooks, we want to skip the rest of the logic in\u001b[39;00m\n\u001b[1;32m   1107\u001b[0m \u001b[38;5;66;03m# this function, and just call forward.\u001b[39;00m\n\u001b[1;32m   1108\u001b[0m \u001b[38;5;28;01mif\u001b[39;00m \u001b[38;5;129;01mnot\u001b[39;00m (\u001b[38;5;28mself\u001b[39m\u001b[38;5;241m.\u001b[39m_backward_hooks \u001b[38;5;129;01mor\u001b[39;00m \u001b[38;5;28mself\u001b[39m\u001b[38;5;241m.\u001b[39m_forward_hooks \u001b[38;5;129;01mor\u001b[39;00m \u001b[38;5;28mself\u001b[39m\u001b[38;5;241m.\u001b[39m_forward_pre_hooks \u001b[38;5;129;01mor\u001b[39;00m _global_backward_hooks\n\u001b[1;32m   1109\u001b[0m         \u001b[38;5;129;01mor\u001b[39;00m _global_forward_hooks \u001b[38;5;129;01mor\u001b[39;00m _global_forward_pre_hooks):\n\u001b[0;32m-> 1110\u001b[0m     \u001b[38;5;28;01mreturn\u001b[39;00m \u001b[43mforward_call\u001b[49m\u001b[43m(\u001b[49m\u001b[38;5;241;43m*\u001b[39;49m\u001b[38;5;28;43minput\u001b[39;49m\u001b[43m,\u001b[49m\u001b[43m \u001b[49m\u001b[38;5;241;43m*\u001b[39;49m\u001b[38;5;241;43m*\u001b[39;49m\u001b[43mkwargs\u001b[49m\u001b[43m)\u001b[49m\n\u001b[1;32m   1111\u001b[0m \u001b[38;5;66;03m# Do not call functions when jit is used\u001b[39;00m\n\u001b[1;32m   1112\u001b[0m full_backward_hooks, non_full_backward_hooks \u001b[38;5;241m=\u001b[39m [], []\n",
      "File \u001b[0;32m~/SA_FILES/Bayat_env/torcheeg_SA_3/lib/python3.9/site-packages/torch/nn/modules/container.py:141\u001b[0m, in \u001b[0;36mSequential.forward\u001b[0;34m(self, input)\u001b[0m\n\u001b[1;32m    139\u001b[0m \u001b[38;5;28;01mdef\u001b[39;00m \u001b[38;5;21mforward\u001b[39m(\u001b[38;5;28mself\u001b[39m, \u001b[38;5;28minput\u001b[39m):\n\u001b[1;32m    140\u001b[0m     \u001b[38;5;28;01mfor\u001b[39;00m module \u001b[38;5;129;01min\u001b[39;00m \u001b[38;5;28mself\u001b[39m:\n\u001b[0;32m--> 141\u001b[0m         \u001b[38;5;28minput\u001b[39m \u001b[38;5;241m=\u001b[39m \u001b[43mmodule\u001b[49m\u001b[43m(\u001b[49m\u001b[38;5;28;43minput\u001b[39;49m\u001b[43m)\u001b[49m\n\u001b[1;32m    142\u001b[0m     \u001b[38;5;28;01mreturn\u001b[39;00m \u001b[38;5;28minput\u001b[39m\n",
      "File \u001b[0;32m~/SA_FILES/Bayat_env/torcheeg_SA_3/lib/python3.9/site-packages/torch/nn/modules/module.py:1110\u001b[0m, in \u001b[0;36mModule._call_impl\u001b[0;34m(self, *input, **kwargs)\u001b[0m\n\u001b[1;32m   1106\u001b[0m \u001b[38;5;66;03m# If we don't have any hooks, we want to skip the rest of the logic in\u001b[39;00m\n\u001b[1;32m   1107\u001b[0m \u001b[38;5;66;03m# this function, and just call forward.\u001b[39;00m\n\u001b[1;32m   1108\u001b[0m \u001b[38;5;28;01mif\u001b[39;00m \u001b[38;5;129;01mnot\u001b[39;00m (\u001b[38;5;28mself\u001b[39m\u001b[38;5;241m.\u001b[39m_backward_hooks \u001b[38;5;129;01mor\u001b[39;00m \u001b[38;5;28mself\u001b[39m\u001b[38;5;241m.\u001b[39m_forward_hooks \u001b[38;5;129;01mor\u001b[39;00m \u001b[38;5;28mself\u001b[39m\u001b[38;5;241m.\u001b[39m_forward_pre_hooks \u001b[38;5;129;01mor\u001b[39;00m _global_backward_hooks\n\u001b[1;32m   1109\u001b[0m         \u001b[38;5;129;01mor\u001b[39;00m _global_forward_hooks \u001b[38;5;129;01mor\u001b[39;00m _global_forward_pre_hooks):\n\u001b[0;32m-> 1110\u001b[0m     \u001b[38;5;28;01mreturn\u001b[39;00m \u001b[43mforward_call\u001b[49m\u001b[43m(\u001b[49m\u001b[38;5;241;43m*\u001b[39;49m\u001b[38;5;28;43minput\u001b[39;49m\u001b[43m,\u001b[49m\u001b[43m \u001b[49m\u001b[38;5;241;43m*\u001b[39;49m\u001b[38;5;241;43m*\u001b[39;49m\u001b[43mkwargs\u001b[49m\u001b[43m)\u001b[49m\n\u001b[1;32m   1111\u001b[0m \u001b[38;5;66;03m# Do not call functions when jit is used\u001b[39;00m\n\u001b[1;32m   1112\u001b[0m full_backward_hooks, non_full_backward_hooks \u001b[38;5;241m=\u001b[39m [], []\n",
      "File \u001b[0;32m~/SA_FILES/Bayat_env/torcheeg_SA_3/lib/python3.9/site-packages/torch/nn/modules/conv.py:447\u001b[0m, in \u001b[0;36mConv2d.forward\u001b[0;34m(self, input)\u001b[0m\n\u001b[1;32m    446\u001b[0m \u001b[38;5;28;01mdef\u001b[39;00m \u001b[38;5;21mforward\u001b[39m(\u001b[38;5;28mself\u001b[39m, \u001b[38;5;28minput\u001b[39m: Tensor) \u001b[38;5;241m-\u001b[39m\u001b[38;5;241m>\u001b[39m Tensor:\n\u001b[0;32m--> 447\u001b[0m     \u001b[38;5;28;01mreturn\u001b[39;00m \u001b[38;5;28;43mself\u001b[39;49m\u001b[38;5;241;43m.\u001b[39;49m\u001b[43m_conv_forward\u001b[49m\u001b[43m(\u001b[49m\u001b[38;5;28;43minput\u001b[39;49m\u001b[43m,\u001b[49m\u001b[43m \u001b[49m\u001b[38;5;28;43mself\u001b[39;49m\u001b[38;5;241;43m.\u001b[39;49m\u001b[43mweight\u001b[49m\u001b[43m,\u001b[49m\u001b[43m \u001b[49m\u001b[38;5;28;43mself\u001b[39;49m\u001b[38;5;241;43m.\u001b[39;49m\u001b[43mbias\u001b[49m\u001b[43m)\u001b[49m\n",
      "File \u001b[0;32m~/SA_FILES/Bayat_env/torcheeg_SA_3/lib/python3.9/site-packages/torch/nn/modules/conv.py:443\u001b[0m, in \u001b[0;36mConv2d._conv_forward\u001b[0;34m(self, input, weight, bias)\u001b[0m\n\u001b[1;32m    439\u001b[0m \u001b[38;5;28;01mif\u001b[39;00m \u001b[38;5;28mself\u001b[39m\u001b[38;5;241m.\u001b[39mpadding_mode \u001b[38;5;241m!=\u001b[39m \u001b[38;5;124m'\u001b[39m\u001b[38;5;124mzeros\u001b[39m\u001b[38;5;124m'\u001b[39m:\n\u001b[1;32m    440\u001b[0m     \u001b[38;5;28;01mreturn\u001b[39;00m F\u001b[38;5;241m.\u001b[39mconv2d(F\u001b[38;5;241m.\u001b[39mpad(\u001b[38;5;28minput\u001b[39m, \u001b[38;5;28mself\u001b[39m\u001b[38;5;241m.\u001b[39m_reversed_padding_repeated_twice, mode\u001b[38;5;241m=\u001b[39m\u001b[38;5;28mself\u001b[39m\u001b[38;5;241m.\u001b[39mpadding_mode),\n\u001b[1;32m    441\u001b[0m                     weight, bias, \u001b[38;5;28mself\u001b[39m\u001b[38;5;241m.\u001b[39mstride,\n\u001b[1;32m    442\u001b[0m                     _pair(\u001b[38;5;241m0\u001b[39m), \u001b[38;5;28mself\u001b[39m\u001b[38;5;241m.\u001b[39mdilation, \u001b[38;5;28mself\u001b[39m\u001b[38;5;241m.\u001b[39mgroups)\n\u001b[0;32m--> 443\u001b[0m \u001b[38;5;28;01mreturn\u001b[39;00m \u001b[43mF\u001b[49m\u001b[38;5;241;43m.\u001b[39;49m\u001b[43mconv2d\u001b[49m\u001b[43m(\u001b[49m\u001b[38;5;28;43minput\u001b[39;49m\u001b[43m,\u001b[49m\u001b[43m \u001b[49m\u001b[43mweight\u001b[49m\u001b[43m,\u001b[49m\u001b[43m \u001b[49m\u001b[43mbias\u001b[49m\u001b[43m,\u001b[49m\u001b[43m \u001b[49m\u001b[38;5;28;43mself\u001b[39;49m\u001b[38;5;241;43m.\u001b[39;49m\u001b[43mstride\u001b[49m\u001b[43m,\u001b[49m\n\u001b[1;32m    444\u001b[0m \u001b[43m                \u001b[49m\u001b[38;5;28;43mself\u001b[39;49m\u001b[38;5;241;43m.\u001b[39;49m\u001b[43mpadding\u001b[49m\u001b[43m,\u001b[49m\u001b[43m \u001b[49m\u001b[38;5;28;43mself\u001b[39;49m\u001b[38;5;241;43m.\u001b[39;49m\u001b[43mdilation\u001b[49m\u001b[43m,\u001b[49m\u001b[43m \u001b[49m\u001b[38;5;28;43mself\u001b[39;49m\u001b[38;5;241;43m.\u001b[39;49m\u001b[43mgroups\u001b[49m\u001b[43m)\u001b[49m\n",
      "\u001b[0;31mRuntimeError\u001b[0m: Expected 3D (unbatched) or 4D (batched) input to conv2d, but got input of size: [14, 128]"
     ]
    }
   ],
   "source": [
    "from torcheeg.models import TSCeption\n",
    "# TSCeption config for DREAMER\n",
    "model = TSCeption(num_electrodes=14,\n",
    "                    num_classes=2,\n",
    "                    num_T=15,\n",
    "                    num_S=15,\n",
    "                    in_channels=1,\n",
    "                    hid_channels=32,\n",
    "                    sampling_rate=128,\n",
    "                    dropout=0.5)\n",
    "model(next(iter(dataset))[0])"
   ]
  },
  {
   "cell_type": "code",
   "execution_count": null,
   "metadata": {},
   "outputs": [],
   "source": []
  },
  {
   "cell_type": "markdown",
   "metadata": {},
   "source": [
    "# Optimize learning parameters"
   ]
  },
  {
   "cell_type": "code",
   "execution_count": null,
   "metadata": {},
   "outputs": [],
   "source": []
  },
  {
   "cell_type": "markdown",
   "metadata": {},
   "source": [
    "# Train"
   ]
  },
  {
   "cell_type": "code",
   "execution_count": 28,
   "metadata": {},
   "outputs": [
    {
     "name": "stdout",
     "output_type": "stream",
     "text": [
      "Using device: cuda\n",
      "Start training LSTM_CNN_Model for 400 epoch\n"
     ]
    },
    {
     "name": "stderr",
     "output_type": "stream",
     "text": [
      "  0%|          | 0/214 [00:00<?, ?batch/s]"
     ]
    },
    {
     "name": "stderr",
     "output_type": "stream",
     "text": [
      "Epoch: 0: 100%|██████████| 214/214 [00:11<00:00, 19.17batch/s, accuracy=54.8, loss=0.654]\n",
      "Epoch: 1: 100%|██████████| 214/214 [00:11<00:00, 19.23batch/s, accuracy=59.1, loss=0.641]\n",
      "Epoch: 2: 100%|██████████| 214/214 [00:10<00:00, 19.68batch/s, accuracy=61.5, loss=0.634]\n",
      "Epoch: 3: 100%|██████████| 214/214 [00:10<00:00, 19.91batch/s, accuracy=62, loss=0.629]  \n",
      "Epoch: 4: 100%|██████████| 214/214 [00:10<00:00, 20.05batch/s, accuracy=64.4, loss=0.623]\n",
      "Epoch: 5: 100%|██████████| 214/214 [00:10<00:00, 20.31batch/s, accuracy=62, loss=0.631]  \n",
      "Epoch: 6: 100%|██████████| 214/214 [00:10<00:00, 20.26batch/s, accuracy=65, loss=0.62]   \n",
      "Epoch: 7: 100%|██████████| 214/214 [00:10<00:00, 19.99batch/s, accuracy=65.5, loss=0.618]\n",
      "Epoch: 8: 100%|██████████| 214/214 [00:10<00:00, 20.20batch/s, accuracy=66, loss=0.616]  \n",
      "Epoch: 9: 100%|██████████| 214/214 [00:10<00:00, 20.12batch/s, accuracy=66.7, loss=0.612]\n",
      "Epoch: 10: 100%|██████████| 214/214 [00:10<00:00, 20.40batch/s, accuracy=66.8, loss=0.612]\n",
      "Epoch: 11: 100%|██████████| 214/214 [00:10<00:00, 19.95batch/s, accuracy=68, loss=0.608]  \n",
      "Epoch: 12: 100%|██████████| 214/214 [00:11<00:00, 19.12batch/s, accuracy=67.8, loss=0.609]\n",
      "Epoch: 13: 100%|██████████| 214/214 [00:10<00:00, 19.67batch/s, accuracy=68.7, loss=0.605]\n",
      "Epoch: 14: 100%|██████████| 214/214 [00:10<00:00, 19.55batch/s, accuracy=69.4, loss=0.604]\n",
      "Epoch: 15: 100%|██████████| 214/214 [00:11<00:00, 19.36batch/s, accuracy=69.1, loss=0.603]\n",
      "Epoch: 16: 100%|██████████| 214/214 [00:10<00:00, 19.56batch/s, accuracy=69.6, loss=0.599]\n",
      "Epoch: 17: 100%|██████████| 214/214 [00:10<00:00, 19.66batch/s, accuracy=70.5, loss=0.597]\n",
      "Epoch: 18: 100%|██████████| 214/214 [00:10<00:00, 20.20batch/s, accuracy=70.9, loss=0.596]\n",
      "Epoch: 19: 100%|██████████| 214/214 [00:11<00:00, 19.21batch/s, accuracy=70.8, loss=0.596]\n",
      "Epoch: 20: 100%|██████████| 214/214 [00:12<00:00, 17.13batch/s, accuracy=71, loss=0.594]  \n",
      "Epoch: 21: 100%|██████████| 214/214 [00:12<00:00, 17.45batch/s, accuracy=71.6, loss=0.592]\n",
      "Epoch: 22: 100%|██████████| 214/214 [00:12<00:00, 16.88batch/s, accuracy=71.9, loss=0.592]\n",
      "Epoch: 23: 100%|██████████| 214/214 [00:12<00:00, 17.31batch/s, accuracy=72.3, loss=0.59] \n",
      "Epoch: 24: 100%|██████████| 214/214 [00:13<00:00, 16.28batch/s, accuracy=72.3, loss=0.589]\n",
      "Epoch: 25: 100%|██████████| 214/214 [00:13<00:00, 16.39batch/s, accuracy=72.8, loss=0.586]\n",
      "Epoch: 26: 100%|██████████| 214/214 [00:13<00:00, 16.37batch/s, accuracy=72.6, loss=0.589]\n",
      "Epoch: 27: 100%|██████████| 214/214 [00:12<00:00, 16.71batch/s, accuracy=73.6, loss=0.583]\n",
      "Epoch: 28: 100%|██████████| 214/214 [00:12<00:00, 16.70batch/s, accuracy=72.9, loss=0.586]\n",
      "Epoch: 29: 100%|██████████| 214/214 [00:13<00:00, 16.31batch/s, accuracy=73.8, loss=0.584]\n",
      "Epoch: 30: 100%|██████████| 214/214 [00:12<00:00, 16.97batch/s, accuracy=74.2, loss=0.581]\n",
      "Epoch: 31: 100%|██████████| 214/214 [00:12<00:00, 17.56batch/s, accuracy=73.9, loss=0.582]\n",
      "Epoch: 32: 100%|██████████| 214/214 [00:12<00:00, 17.50batch/s, accuracy=74.5, loss=0.58] \n",
      "Epoch: 33: 100%|██████████| 214/214 [00:11<00:00, 18.20batch/s, accuracy=74.8, loss=0.577]\n",
      "Epoch: 34: 100%|██████████| 214/214 [00:11<00:00, 18.13batch/s, accuracy=74.9, loss=0.578]\n",
      "Epoch: 35: 100%|██████████| 214/214 [00:11<00:00, 18.23batch/s, accuracy=75.8, loss=0.573]\n",
      "Epoch: 36: 100%|██████████| 214/214 [00:11<00:00, 18.41batch/s, accuracy=76.2, loss=0.572]\n",
      "Epoch: 37: 100%|██████████| 214/214 [00:11<00:00, 18.20batch/s, accuracy=76.5, loss=0.57] \n",
      "Epoch: 38: 100%|██████████| 214/214 [00:11<00:00, 18.20batch/s, accuracy=76.4, loss=0.571]\n",
      "Epoch: 39: 100%|██████████| 214/214 [00:11<00:00, 18.28batch/s, accuracy=75.3, loss=0.575]\n",
      "Epoch: 40: 100%|██████████| 214/214 [00:11<00:00, 18.25batch/s, accuracy=77.1, loss=0.568]\n",
      "Epoch: 41: 100%|██████████| 214/214 [00:11<00:00, 18.21batch/s, accuracy=77.7, loss=0.566]\n",
      "Epoch: 42: 100%|██████████| 214/214 [00:11<00:00, 18.20batch/s, accuracy=77.5, loss=0.567]\n",
      "Epoch: 43: 100%|██████████| 214/214 [00:11<00:00, 18.27batch/s, accuracy=78, loss=0.563]  \n",
      "Epoch: 44: 100%|██████████| 214/214 [00:11<00:00, 18.26batch/s, accuracy=77.7, loss=0.565]\n",
      "Epoch: 45: 100%|██████████| 214/214 [00:11<00:00, 18.22batch/s, accuracy=77.4, loss=0.565]\n",
      "Epoch: 46: 100%|██████████| 214/214 [00:11<00:00, 18.38batch/s, accuracy=78.4, loss=0.562]\n",
      "Epoch: 47: 100%|██████████| 214/214 [00:11<00:00, 18.28batch/s, accuracy=78.8, loss=0.56] \n",
      "Epoch: 48: 100%|██████████| 214/214 [00:11<00:00, 18.33batch/s, accuracy=78.3, loss=0.562]\n",
      "Epoch: 49: 100%|██████████| 214/214 [00:11<00:00, 18.22batch/s, accuracy=79.1, loss=0.558]\n",
      "Epoch: 50: 100%|██████████| 214/214 [00:11<00:00, 18.21batch/s, accuracy=79.2, loss=0.558]\n",
      "Epoch: 51: 100%|██████████| 214/214 [00:11<00:00, 18.09batch/s, accuracy=79.7, loss=0.556]\n",
      "Epoch: 52: 100%|██████████| 214/214 [00:11<00:00, 18.26batch/s, accuracy=79.9, loss=0.556]\n",
      "Epoch: 53: 100%|██████████| 214/214 [00:11<00:00, 18.32batch/s, accuracy=80.5, loss=0.553]\n",
      "Epoch: 54: 100%|██████████| 214/214 [00:11<00:00, 18.15batch/s, accuracy=80.3, loss=0.554]\n",
      "Epoch: 55: 100%|██████████| 214/214 [00:11<00:00, 18.34batch/s, accuracy=80.4, loss=0.553]\n",
      "Epoch: 56: 100%|██████████| 214/214 [00:11<00:00, 18.25batch/s, accuracy=81.2, loss=0.549]\n",
      "Epoch: 57: 100%|██████████| 214/214 [00:11<00:00, 18.20batch/s, accuracy=81.2, loss=0.55] \n",
      "Epoch: 58: 100%|██████████| 214/214 [00:11<00:00, 18.24batch/s, accuracy=81.8, loss=0.547]\n",
      "Epoch: 59: 100%|██████████| 214/214 [00:11<00:00, 18.09batch/s, accuracy=81.7, loss=0.546]\n",
      "Epoch: 60: 100%|██████████| 214/214 [00:11<00:00, 18.12batch/s, accuracy=81.9, loss=0.546]\n",
      "Epoch: 61: 100%|██████████| 214/214 [00:11<00:00, 18.21batch/s, accuracy=81.9, loss=0.545]\n",
      "Epoch: 62: 100%|██████████| 214/214 [00:11<00:00, 18.10batch/s, accuracy=82, loss=0.545]  \n",
      "Epoch: 63: 100%|██████████| 214/214 [00:11<00:00, 18.17batch/s, accuracy=82.1, loss=0.545]\n",
      "Epoch: 64: 100%|██████████| 214/214 [00:11<00:00, 18.23batch/s, accuracy=82.3, loss=0.544]\n",
      "Epoch: 65: 100%|██████████| 214/214 [00:11<00:00, 18.44batch/s, accuracy=83, loss=0.541]  \n",
      "Epoch: 66: 100%|██████████| 214/214 [00:11<00:00, 18.32batch/s, accuracy=82.5, loss=0.542]\n",
      "Epoch: 67: 100%|██████████| 214/214 [00:11<00:00, 18.36batch/s, accuracy=83.1, loss=0.541]\n",
      "Epoch: 68: 100%|██████████| 214/214 [00:11<00:00, 18.23batch/s, accuracy=83.1, loss=0.543]\n",
      "Epoch: 69: 100%|██████████| 214/214 [00:11<00:00, 18.24batch/s, accuracy=83.4, loss=0.54] \n",
      "Epoch: 70: 100%|██████████| 214/214 [00:11<00:00, 18.21batch/s, accuracy=83.6, loss=0.539]\n",
      "Epoch: 71: 100%|██████████| 214/214 [00:11<00:00, 18.32batch/s, accuracy=82.8, loss=0.541]\n",
      "Epoch: 72: 100%|██████████| 214/214 [00:11<00:00, 18.06batch/s, accuracy=83.8, loss=0.539]\n",
      "Epoch: 73: 100%|██████████| 214/214 [00:11<00:00, 18.22batch/s, accuracy=82.5, loss=0.543]\n",
      "Epoch: 74: 100%|██████████| 214/214 [00:11<00:00, 18.24batch/s, accuracy=84.2, loss=0.536]\n",
      "Epoch: 75: 100%|██████████| 214/214 [00:11<00:00, 18.17batch/s, accuracy=84.5, loss=0.535]\n",
      "Epoch: 76: 100%|██████████| 214/214 [00:11<00:00, 18.34batch/s, accuracy=83.9, loss=0.538]\n",
      "Epoch: 77: 100%|██████████| 214/214 [00:11<00:00, 18.35batch/s, accuracy=84.9, loss=0.532]\n",
      "Epoch: 78: 100%|██████████| 214/214 [00:11<00:00, 18.03batch/s, accuracy=84.6, loss=0.534]\n",
      "Epoch: 79: 100%|██████████| 214/214 [00:11<00:00, 18.00batch/s, accuracy=85, loss=0.531]  \n",
      "Epoch: 80: 100%|██████████| 214/214 [00:11<00:00, 18.46batch/s, accuracy=85.6, loss=0.53] \n",
      "Epoch: 81: 100%|██████████| 214/214 [00:11<00:00, 18.06batch/s, accuracy=84.9, loss=0.532]\n",
      "Epoch: 82: 100%|██████████| 214/214 [00:11<00:00, 18.38batch/s, accuracy=85.3, loss=0.531]\n",
      "Epoch: 83: 100%|██████████| 214/214 [00:11<00:00, 18.38batch/s, accuracy=85.3, loss=0.532]\n",
      "Epoch: 84: 100%|██████████| 214/214 [00:11<00:00, 18.34batch/s, accuracy=84.8, loss=0.532]\n",
      "Epoch: 85: 100%|██████████| 214/214 [00:11<00:00, 18.22batch/s, accuracy=86.1, loss=0.527]\n",
      "Epoch: 86: 100%|██████████| 214/214 [00:11<00:00, 18.35batch/s, accuracy=85.6, loss=0.529]\n",
      "Epoch: 87: 100%|██████████| 214/214 [00:11<00:00, 18.36batch/s, accuracy=86, loss=0.528]  \n",
      "Epoch: 88: 100%|██████████| 214/214 [00:11<00:00, 18.05batch/s, accuracy=85.2, loss=0.532]\n",
      "Epoch: 89: 100%|██████████| 214/214 [00:11<00:00, 18.17batch/s, accuracy=85.1, loss=0.53] \n",
      "Epoch: 90: 100%|██████████| 214/214 [00:11<00:00, 18.07batch/s, accuracy=86.3, loss=0.526]\n",
      "Epoch: 91: 100%|██████████| 214/214 [00:11<00:00, 18.43batch/s, accuracy=86, loss=0.528]  \n",
      "Epoch: 92: 100%|██████████| 214/214 [00:11<00:00, 18.24batch/s, accuracy=86.5, loss=0.524]\n",
      "Epoch: 93: 100%|██████████| 214/214 [00:11<00:00, 18.41batch/s, accuracy=86.8, loss=0.525]\n",
      "Epoch: 94: 100%|██████████| 214/214 [00:11<00:00, 18.21batch/s, accuracy=86.7, loss=0.524]\n",
      "Epoch: 95: 100%|██████████| 214/214 [00:11<00:00, 18.21batch/s, accuracy=86.4, loss=0.524]\n",
      "Epoch: 96: 100%|██████████| 214/214 [00:11<00:00, 18.40batch/s, accuracy=87.1, loss=0.522]\n",
      "Epoch: 97: 100%|██████████| 214/214 [00:11<00:00, 18.37batch/s, accuracy=87.3, loss=0.521]\n",
      "Epoch: 98: 100%|██████████| 214/214 [00:11<00:00, 18.25batch/s, accuracy=86.7, loss=0.525]\n",
      "Epoch: 99: 100%|██████████| 214/214 [00:11<00:00, 18.45batch/s, accuracy=87.4, loss=0.521]\n",
      "Epoch: 100: 100%|██████████| 214/214 [00:11<00:00, 18.19batch/s, accuracy=87.3, loss=0.521]\n",
      "Epoch: 101: 100%|██████████| 214/214 [00:11<00:00, 18.33batch/s, accuracy=87.8, loss=0.52] \n",
      "Epoch: 102: 100%|██████████| 214/214 [00:11<00:00, 18.40batch/s, accuracy=87, loss=0.521]  \n",
      "Epoch: 103: 100%|██████████| 214/214 [00:11<00:00, 18.16batch/s, accuracy=87.6, loss=0.519]\n",
      "Epoch: 104: 100%|██████████| 214/214 [00:11<00:00, 18.31batch/s, accuracy=87.9, loss=0.519]\n",
      "Epoch: 105: 100%|██████████| 214/214 [00:11<00:00, 18.10batch/s, accuracy=88, loss=0.519]  \n",
      "Epoch: 106: 100%|██████████| 214/214 [00:11<00:00, 18.37batch/s, accuracy=87.1, loss=0.522]\n",
      "Epoch: 107: 100%|██████████| 214/214 [00:11<00:00, 18.21batch/s, accuracy=87.8, loss=0.519]\n",
      "Epoch: 108: 100%|██████████| 214/214 [00:11<00:00, 18.53batch/s, accuracy=88.4, loss=0.517]\n",
      "Epoch: 109: 100%|██████████| 214/214 [00:11<00:00, 18.10batch/s, accuracy=88, loss=0.518]  \n",
      "Epoch: 110: 100%|██████████| 214/214 [00:11<00:00, 18.09batch/s, accuracy=88.7, loss=0.515]\n",
      "Epoch: 111: 100%|██████████| 214/214 [00:11<00:00, 18.09batch/s, accuracy=87.8, loss=0.52] \n",
      "Epoch: 112: 100%|██████████| 214/214 [00:11<00:00, 18.16batch/s, accuracy=87.5, loss=0.519]\n",
      "Epoch: 113: 100%|██████████| 214/214 [00:11<00:00, 18.19batch/s, accuracy=88.5, loss=0.516]\n",
      "Epoch: 114: 100%|██████████| 214/214 [00:11<00:00, 18.02batch/s, accuracy=88.8, loss=0.515]\n",
      "Epoch: 115: 100%|██████████| 214/214 [00:11<00:00, 18.36batch/s, accuracy=88.9, loss=0.515]\n",
      "Epoch: 116: 100%|██████████| 214/214 [00:11<00:00, 18.33batch/s, accuracy=87.7, loss=0.52] \n",
      "Epoch: 117: 100%|██████████| 214/214 [00:11<00:00, 18.20batch/s, accuracy=87.7, loss=0.519]\n",
      "Epoch: 118: 100%|██████████| 214/214 [00:11<00:00, 18.17batch/s, accuracy=89, loss=0.514]  \n",
      "Epoch: 119: 100%|██████████| 214/214 [00:11<00:00, 18.18batch/s, accuracy=89, loss=0.513]  \n",
      "Epoch: 120: 100%|██████████| 214/214 [00:11<00:00, 18.30batch/s, accuracy=89.2, loss=0.513]\n",
      "Epoch: 121: 100%|██████████| 214/214 [00:11<00:00, 18.31batch/s, accuracy=89.6, loss=0.511]\n",
      "Epoch: 122: 100%|██████████| 214/214 [00:11<00:00, 18.27batch/s, accuracy=89.5, loss=0.511]\n",
      "Epoch: 123: 100%|██████████| 214/214 [00:11<00:00, 18.20batch/s, accuracy=89, loss=0.515]  \n",
      "Epoch: 124: 100%|██████████| 214/214 [00:11<00:00, 18.37batch/s, accuracy=89.4, loss=0.513]\n",
      "Epoch: 125: 100%|██████████| 214/214 [00:11<00:00, 17.93batch/s, accuracy=88.3, loss=0.516]\n",
      "Epoch: 126: 100%|██████████| 214/214 [00:11<00:00, 18.28batch/s, accuracy=88.8, loss=0.514]\n",
      "Epoch: 127: 100%|██████████| 214/214 [00:11<00:00, 18.14batch/s, accuracy=89.4, loss=0.512]\n",
      "Epoch: 128: 100%|██████████| 214/214 [00:11<00:00, 18.02batch/s, accuracy=89.7, loss=0.51] \n",
      "Epoch: 129: 100%|██████████| 214/214 [00:11<00:00, 18.26batch/s, accuracy=89.6, loss=0.511]\n",
      "Epoch: 130: 100%|██████████| 214/214 [00:11<00:00, 18.12batch/s, accuracy=89.5, loss=0.513]\n",
      "Epoch: 131: 100%|██████████| 214/214 [00:11<00:00, 17.98batch/s, accuracy=88.8, loss=0.514]\n",
      "Epoch: 132: 100%|██████████| 214/214 [00:11<00:00, 17.99batch/s, accuracy=89.5, loss=0.512]\n",
      "Epoch: 133: 100%|██████████| 214/214 [00:11<00:00, 18.33batch/s, accuracy=89, loss=0.513]  \n",
      "Epoch: 134: 100%|██████████| 214/214 [00:11<00:00, 18.06batch/s, accuracy=90.2, loss=0.509]\n",
      "Epoch: 135: 100%|██████████| 214/214 [00:11<00:00, 18.35batch/s, accuracy=90, loss=0.508]  \n",
      "Epoch: 136: 100%|██████████| 214/214 [00:11<00:00, 18.06batch/s, accuracy=89.8, loss=0.509]\n",
      "Epoch: 137: 100%|██████████| 214/214 [00:11<00:00, 18.25batch/s, accuracy=89.1, loss=0.512]\n",
      "Epoch: 138: 100%|██████████| 214/214 [00:11<00:00, 18.24batch/s, accuracy=89.7, loss=0.51] \n",
      "Epoch: 139: 100%|██████████| 214/214 [00:11<00:00, 18.44batch/s, accuracy=90.4, loss=0.508]\n",
      "Epoch: 140: 100%|██████████| 214/214 [00:11<00:00, 18.32batch/s, accuracy=90.4, loss=0.508]\n",
      "Epoch: 141: 100%|██████████| 214/214 [00:11<00:00, 18.07batch/s, accuracy=90.4, loss=0.508]\n",
      "Epoch: 142: 100%|██████████| 214/214 [00:11<00:00, 18.43batch/s, accuracy=90.8, loss=0.507]\n",
      "Epoch: 143: 100%|██████████| 214/214 [00:11<00:00, 18.25batch/s, accuracy=89.4, loss=0.513]\n",
      "Epoch: 144: 100%|██████████| 214/214 [00:11<00:00, 18.42batch/s, accuracy=90.7, loss=0.506]\n",
      "Epoch: 145: 100%|██████████| 214/214 [00:11<00:00, 18.22batch/s, accuracy=90.2, loss=0.509]\n",
      "Epoch: 146: 100%|██████████| 214/214 [00:11<00:00, 18.37batch/s, accuracy=89.7, loss=0.51] \n",
      "Epoch: 147: 100%|██████████| 214/214 [00:11<00:00, 18.32batch/s, accuracy=89.4, loss=0.511]\n",
      "Epoch: 148: 100%|██████████| 214/214 [00:11<00:00, 18.22batch/s, accuracy=90.8, loss=0.505]\n",
      "Epoch: 149: 100%|██████████| 214/214 [00:11<00:00, 18.27batch/s, accuracy=90.8, loss=0.505]\n",
      "Epoch: 150: 100%|██████████| 214/214 [00:11<00:00, 18.22batch/s, accuracy=91, loss=0.504]  \n",
      "Epoch: 151: 100%|██████████| 214/214 [00:11<00:00, 18.12batch/s, accuracy=91.1, loss=0.504]\n",
      "Epoch: 152: 100%|██████████| 214/214 [00:11<00:00, 18.02batch/s, accuracy=91.1, loss=0.503]\n",
      "Epoch: 153: 100%|██████████| 214/214 [00:11<00:00, 18.59batch/s, accuracy=91, loss=0.505]  \n",
      "Epoch: 154: 100%|██████████| 214/214 [00:11<00:00, 18.24batch/s, accuracy=91.1, loss=0.505]\n",
      "Epoch: 155: 100%|██████████| 214/214 [00:11<00:00, 18.35batch/s, accuracy=91, loss=0.504]  \n",
      "Epoch: 156: 100%|██████████| 214/214 [00:11<00:00, 18.32batch/s, accuracy=91, loss=0.504]  \n",
      "Epoch: 157: 100%|██████████| 214/214 [00:11<00:00, 18.07batch/s, accuracy=90.3, loss=0.509]\n",
      "Epoch: 158: 100%|██████████| 214/214 [00:11<00:00, 18.17batch/s, accuracy=91, loss=0.504]  \n",
      "Epoch: 159: 100%|██████████| 214/214 [00:11<00:00, 18.26batch/s, accuracy=91, loss=0.505]  \n",
      "Epoch: 160: 100%|██████████| 214/214 [00:11<00:00, 18.31batch/s, accuracy=91.3, loss=0.502]\n",
      "Epoch: 161: 100%|██████████| 214/214 [00:11<00:00, 17.97batch/s, accuracy=91.6, loss=0.502]\n",
      "Epoch: 162: 100%|██████████| 214/214 [00:11<00:00, 18.30batch/s, accuracy=91.3, loss=0.503]\n",
      "Epoch: 163: 100%|██████████| 214/214 [00:11<00:00, 18.22batch/s, accuracy=91.2, loss=0.503]\n",
      "Epoch: 164: 100%|██████████| 214/214 [00:11<00:00, 18.14batch/s, accuracy=91.6, loss=0.501]\n",
      "Epoch: 165: 100%|██████████| 214/214 [00:11<00:00, 18.31batch/s, accuracy=91.5, loss=0.503]\n",
      "Epoch: 166: 100%|██████████| 214/214 [00:11<00:00, 18.34batch/s, accuracy=91, loss=0.504]  \n",
      "Epoch: 167: 100%|██████████| 214/214 [00:11<00:00, 18.22batch/s, accuracy=90.8, loss=0.505]\n",
      "Epoch: 168: 100%|██████████| 214/214 [00:11<00:00, 18.28batch/s, accuracy=91.7, loss=0.502]\n",
      "Epoch: 169: 100%|██████████| 214/214 [00:11<00:00, 18.12batch/s, accuracy=90.4, loss=0.506]\n",
      "Epoch: 170: 100%|██████████| 214/214 [00:11<00:00, 18.09batch/s, accuracy=91.8, loss=0.5]  \n",
      "Epoch: 171: 100%|██████████| 214/214 [00:11<00:00, 18.41batch/s, accuracy=91.9, loss=0.501]\n",
      "Epoch: 172: 100%|██████████| 214/214 [00:11<00:00, 18.19batch/s, accuracy=91.8, loss=0.501]\n",
      "Epoch: 173: 100%|██████████| 214/214 [00:11<00:00, 18.33batch/s, accuracy=92, loss=0.5]    \n",
      "Epoch: 174: 100%|██████████| 214/214 [00:11<00:00, 18.00batch/s, accuracy=92, loss=0.499]  \n",
      "Epoch: 175: 100%|██████████| 214/214 [00:11<00:00, 18.02batch/s, accuracy=91.9, loss=0.501]\n",
      "Epoch: 176: 100%|██████████| 214/214 [00:11<00:00, 18.21batch/s, accuracy=91.9, loss=0.501]\n",
      "Epoch: 177: 100%|██████████| 214/214 [00:11<00:00, 18.37batch/s, accuracy=89.5, loss=0.512]\n",
      "Epoch: 178: 100%|██████████| 214/214 [00:11<00:00, 18.12batch/s, accuracy=91.8, loss=0.503]\n",
      "Epoch: 179: 100%|██████████| 214/214 [00:11<00:00, 18.40batch/s, accuracy=91.9, loss=0.5]  \n",
      "Epoch: 180: 100%|██████████| 214/214 [00:11<00:00, 18.19batch/s, accuracy=90.9, loss=0.504]\n",
      "Epoch: 181: 100%|██████████| 214/214 [00:11<00:00, 18.19batch/s, accuracy=91.8, loss=0.501]\n",
      "Epoch: 182: 100%|██████████| 214/214 [00:11<00:00, 18.28batch/s, accuracy=90.7, loss=0.506]\n",
      "Epoch: 183: 100%|██████████| 214/214 [00:11<00:00, 18.22batch/s, accuracy=92.1, loss=0.5]  \n",
      "Epoch: 184: 100%|██████████| 214/214 [00:11<00:00, 18.19batch/s, accuracy=92.4, loss=0.498]\n",
      "Epoch: 185: 100%|██████████| 214/214 [00:11<00:00, 18.05batch/s, accuracy=92.4, loss=0.497]\n",
      "Epoch: 186: 100%|██████████| 214/214 [00:11<00:00, 18.41batch/s, accuracy=92.4, loss=0.497]\n",
      "Epoch: 187: 100%|██████████| 214/214 [00:11<00:00, 18.20batch/s, accuracy=92.3, loss=0.498]\n",
      "Epoch: 188: 100%|██████████| 214/214 [00:11<00:00, 18.17batch/s, accuracy=91.5, loss=0.503]\n",
      "Epoch: 189: 100%|██████████| 214/214 [00:11<00:00, 18.27batch/s, accuracy=92.3, loss=0.499]\n",
      "Epoch: 190: 100%|██████████| 214/214 [00:11<00:00, 18.34batch/s, accuracy=92.3, loss=0.499]\n",
      "Epoch: 191: 100%|██████████| 214/214 [00:11<00:00, 18.22batch/s, accuracy=92.8, loss=0.496]\n",
      "Epoch: 192: 100%|██████████| 214/214 [00:11<00:00, 18.05batch/s, accuracy=92.6, loss=0.497]\n",
      "Epoch: 193: 100%|██████████| 214/214 [00:11<00:00, 18.20batch/s, accuracy=92.8, loss=0.498]\n",
      "Epoch: 194: 100%|██████████| 214/214 [00:11<00:00, 18.32batch/s, accuracy=92.8, loss=0.497]\n",
      "Epoch: 195: 100%|██████████| 214/214 [00:11<00:00, 18.27batch/s, accuracy=92.4, loss=0.499]\n",
      "Epoch: 196: 100%|██████████| 214/214 [00:11<00:00, 18.35batch/s, accuracy=90.1, loss=0.509]\n",
      "Epoch: 197: 100%|██████████| 214/214 [00:11<00:00, 18.22batch/s, accuracy=90.6, loss=0.506]\n",
      "Epoch: 198: 100%|██████████| 214/214 [00:11<00:00, 18.20batch/s, accuracy=92, loss=0.5]   \n",
      "Epoch: 199: 100%|██████████| 214/214 [00:11<00:00, 18.04batch/s, accuracy=91.9, loss=0.501]\n",
      "Epoch: 200: 100%|██████████| 214/214 [00:11<00:00, 17.98batch/s, accuracy=92.5, loss=0.497]\n",
      "Epoch: 201: 100%|██████████| 214/214 [00:11<00:00, 18.23batch/s, accuracy=92.3, loss=0.499]\n",
      "Epoch: 202: 100%|██████████| 214/214 [00:11<00:00, 18.36batch/s, accuracy=91.9, loss=0.501]\n",
      "Epoch: 203: 100%|██████████| 214/214 [00:11<00:00, 17.97batch/s, accuracy=92.9, loss=0.495]\n",
      "Epoch: 204: 100%|██████████| 214/214 [00:11<00:00, 18.01batch/s, accuracy=91.7, loss=0.501]\n",
      "Epoch: 205: 100%|██████████| 214/214 [00:11<00:00, 18.19batch/s, accuracy=92.6, loss=0.498]\n",
      "Epoch: 206: 100%|██████████| 214/214 [00:11<00:00, 18.14batch/s, accuracy=89.7, loss=0.508]\n",
      "Epoch: 207: 100%|██████████| 214/214 [00:11<00:00, 18.22batch/s, accuracy=92.2, loss=0.498]\n",
      "Epoch: 208: 100%|██████████| 214/214 [00:11<00:00, 18.28batch/s, accuracy=92.6, loss=0.497]\n",
      "Epoch: 209: 100%|██████████| 214/214 [00:11<00:00, 18.27batch/s, accuracy=92.6, loss=0.498]\n",
      "Epoch: 210: 100%|██████████| 214/214 [00:11<00:00, 18.09batch/s, accuracy=93, loss=0.495]  \n",
      "Epoch: 211: 100%|██████████| 214/214 [00:11<00:00, 18.28batch/s, accuracy=91.5, loss=0.501]\n",
      "Epoch: 212: 100%|██████████| 214/214 [00:11<00:00, 18.34batch/s, accuracy=92, loss=0.501]  \n",
      "Epoch: 213: 100%|██████████| 214/214 [00:11<00:00, 18.47batch/s, accuracy=92.6, loss=0.497]\n",
      "Epoch: 214: 100%|██████████| 214/214 [00:11<00:00, 18.20batch/s, accuracy=92.8, loss=0.496]\n",
      "Epoch: 215: 100%|██████████| 214/214 [00:11<00:00, 18.16batch/s, accuracy=93.2, loss=0.494]\n",
      "Epoch: 216: 100%|██████████| 214/214 [00:11<00:00, 18.37batch/s, accuracy=93.1, loss=0.495]\n",
      "Epoch: 217: 100%|██████████| 214/214 [00:11<00:00, 18.03batch/s, accuracy=93.1, loss=0.494]\n",
      "Epoch: 218: 100%|██████████| 214/214 [00:11<00:00, 18.06batch/s, accuracy=93.3, loss=0.495]\n",
      "Epoch: 219: 100%|██████████| 214/214 [00:11<00:00, 18.25batch/s, accuracy=93, loss=0.495]  \n",
      "Epoch: 220: 100%|██████████| 214/214 [00:11<00:00, 18.04batch/s, accuracy=93.1, loss=0.494]\n",
      "Epoch: 221: 100%|██████████| 214/214 [00:11<00:00, 18.30batch/s, accuracy=93.2, loss=0.495]\n",
      "Epoch: 222: 100%|██████████| 214/214 [00:11<00:00, 18.03batch/s, accuracy=93.2, loss=0.494]\n",
      "Epoch: 223: 100%|██████████| 214/214 [00:11<00:00, 18.12batch/s, accuracy=92.9, loss=0.497]\n",
      "Epoch: 224: 100%|██████████| 214/214 [00:11<00:00, 18.30batch/s, accuracy=92.8, loss=0.496]\n",
      "Epoch: 225: 100%|██████████| 214/214 [00:11<00:00, 18.24batch/s, accuracy=93.3, loss=0.493]\n",
      "Epoch: 226: 100%|██████████| 214/214 [00:11<00:00, 18.11batch/s, accuracy=92.8, loss=0.496]\n",
      "Epoch: 227: 100%|██████████| 214/214 [00:11<00:00, 18.23batch/s, accuracy=92.7, loss=0.498]\n",
      "Epoch: 228: 100%|██████████| 214/214 [00:11<00:00, 18.27batch/s, accuracy=92, loss=0.501]  \n",
      "Epoch: 229: 100%|██████████| 214/214 [00:11<00:00, 18.14batch/s, accuracy=92.8, loss=0.495]\n",
      "Epoch: 230: 100%|██████████| 214/214 [00:11<00:00, 18.24batch/s, accuracy=93.3, loss=0.493]\n",
      "Epoch: 231: 100%|██████████| 214/214 [00:11<00:00, 18.36batch/s, accuracy=93.5, loss=0.494]\n",
      "Epoch: 232: 100%|██████████| 214/214 [00:11<00:00, 18.05batch/s, accuracy=93.6, loss=0.492]\n",
      "Epoch: 233: 100%|██████████| 214/214 [00:11<00:00, 18.20batch/s, accuracy=93.3, loss=0.494]\n",
      "Epoch: 234: 100%|██████████| 214/214 [00:11<00:00, 18.00batch/s, accuracy=92.3, loss=0.499]\n",
      "Epoch: 235: 100%|██████████| 214/214 [00:11<00:00, 18.14batch/s, accuracy=93.2, loss=0.494]\n",
      "Epoch: 236: 100%|██████████| 214/214 [00:11<00:00, 18.20batch/s, accuracy=93.1, loss=0.496]\n",
      "Epoch: 237: 100%|██████████| 214/214 [00:11<00:00, 18.20batch/s, accuracy=92.8, loss=0.497]\n",
      "Epoch: 238: 100%|██████████| 214/214 [00:11<00:00, 18.15batch/s, accuracy=92.3, loss=0.499]\n",
      "Epoch: 239: 100%|██████████| 214/214 [00:11<00:00, 18.19batch/s, accuracy=93.4, loss=0.494]\n",
      "Epoch: 240: 100%|██████████| 214/214 [00:11<00:00, 18.32batch/s, accuracy=93.5, loss=0.493]\n",
      "Epoch: 241: 100%|██████████| 214/214 [00:11<00:00, 18.21batch/s, accuracy=91.7, loss=0.5]  \n",
      "Epoch: 242: 100%|██████████| 214/214 [00:11<00:00, 18.23batch/s, accuracy=92.9, loss=0.499]\n",
      "Epoch: 243: 100%|██████████| 214/214 [00:11<00:00, 18.04batch/s, accuracy=93.5, loss=0.493]\n",
      "Epoch: 244: 100%|██████████| 214/214 [00:11<00:00, 17.98batch/s, accuracy=92.8, loss=0.497]\n",
      "Epoch: 245: 100%|██████████| 214/214 [00:11<00:00, 18.11batch/s, accuracy=93.1, loss=0.496]\n",
      "Epoch: 246: 100%|██████████| 214/214 [00:11<00:00, 18.17batch/s, accuracy=93.6, loss=0.493]\n",
      "Epoch: 247: 100%|██████████| 214/214 [00:11<00:00, 18.11batch/s, accuracy=93.6, loss=0.493]\n",
      "Epoch: 248: 100%|██████████| 214/214 [00:11<00:00, 18.09batch/s, accuracy=93.1, loss=0.495]\n",
      "Epoch: 249: 100%|██████████| 214/214 [00:11<00:00, 18.00batch/s, accuracy=93, loss=0.495]  \n",
      "Epoch: 250: 100%|██████████| 214/214 [00:11<00:00, 18.17batch/s, accuracy=93.5, loss=0.493]\n",
      "Epoch: 251: 100%|██████████| 214/214 [00:11<00:00, 18.04batch/s, accuracy=92.7, loss=0.497]\n",
      "Epoch: 252: 100%|██████████| 214/214 [00:11<00:00, 18.06batch/s, accuracy=93.4, loss=0.494]\n",
      "Epoch: 253: 100%|██████████| 214/214 [00:11<00:00, 18.13batch/s, accuracy=93.4, loss=0.493]\n",
      "Epoch: 254: 100%|██████████| 214/214 [00:11<00:00, 18.02batch/s, accuracy=93.7, loss=0.492]\n",
      "Epoch: 255: 100%|██████████| 214/214 [00:11<00:00, 18.20batch/s, accuracy=94, loss=0.491]  \n",
      "Epoch: 256: 100%|██████████| 214/214 [00:11<00:00, 18.14batch/s, accuracy=93.8, loss=0.493]\n",
      "Epoch: 257: 100%|██████████| 214/214 [00:11<00:00, 18.18batch/s, accuracy=93.7, loss=0.492]\n",
      "Epoch: 258: 100%|██████████| 214/214 [00:11<00:00, 18.14batch/s, accuracy=92.4, loss=0.498]\n",
      "Epoch: 259: 100%|██████████| 214/214 [00:11<00:00, 18.09batch/s, accuracy=93.3, loss=0.493]\n",
      "Epoch: 260: 100%|██████████| 214/214 [00:11<00:00, 18.38batch/s, accuracy=93.5, loss=0.494]\n",
      "Epoch: 261: 100%|██████████| 214/214 [00:11<00:00, 18.12batch/s, accuracy=93.5, loss=0.493]\n",
      "Epoch: 262: 100%|██████████| 214/214 [00:11<00:00, 18.00batch/s, accuracy=93.8, loss=0.491]\n",
      "Epoch: 263: 100%|██████████| 214/214 [00:11<00:00, 17.92batch/s, accuracy=93.9, loss=0.493]\n",
      "Epoch: 264: 100%|██████████| 214/214 [00:11<00:00, 18.03batch/s, accuracy=94, loss=0.492]  \n",
      "Epoch: 265: 100%|██████████| 214/214 [00:11<00:00, 18.09batch/s, accuracy=93.8, loss=0.492]\n",
      "Epoch: 266: 100%|██████████| 214/214 [00:11<00:00, 18.07batch/s, accuracy=93.5, loss=0.494]\n",
      "Epoch: 267: 100%|██████████| 214/214 [00:11<00:00, 18.21batch/s, accuracy=94, loss=0.491]  \n",
      "Epoch: 268: 100%|██████████| 214/214 [00:11<00:00, 18.12batch/s, accuracy=93.9, loss=0.492]\n",
      "Epoch: 269: 100%|██████████| 214/214 [00:11<00:00, 17.99batch/s, accuracy=93.9, loss=0.491]\n",
      "Epoch: 270: 100%|██████████| 214/214 [00:11<00:00, 18.10batch/s, accuracy=93.4, loss=0.494]\n",
      "Epoch: 271: 100%|██████████| 214/214 [00:11<00:00, 18.41batch/s, accuracy=93.7, loss=0.494]\n",
      "Epoch: 272: 100%|██████████| 214/214 [00:11<00:00, 18.11batch/s, accuracy=93.9, loss=0.491]\n",
      "Epoch: 273: 100%|██████████| 214/214 [00:11<00:00, 18.32batch/s, accuracy=94, loss=0.491]  \n",
      "Epoch: 274: 100%|██████████| 214/214 [00:11<00:00, 18.12batch/s, accuracy=94, loss=0.492]  \n",
      "Epoch: 275: 100%|██████████| 214/214 [00:11<00:00, 18.10batch/s, accuracy=93.2, loss=0.494]\n",
      "Epoch: 276: 100%|██████████| 214/214 [00:11<00:00, 18.01batch/s, accuracy=94, loss=0.49]  \n",
      "Epoch: 277: 100%|██████████| 214/214 [00:11<00:00, 18.18batch/s, accuracy=93.8, loss=0.492]\n",
      "Epoch: 278: 100%|██████████| 214/214 [00:11<00:00, 18.18batch/s, accuracy=94, loss=0.489]  \n",
      "Epoch: 279: 100%|██████████| 214/214 [00:11<00:00, 18.04batch/s, accuracy=93.9, loss=0.493]\n",
      "Epoch: 280: 100%|██████████| 214/214 [00:11<00:00, 18.09batch/s, accuracy=94.2, loss=0.489]\n",
      "Epoch: 281: 100%|██████████| 214/214 [00:11<00:00, 18.21batch/s, accuracy=94.2, loss=0.492]\n",
      "Epoch: 282: 100%|██████████| 214/214 [00:11<00:00, 18.11batch/s, accuracy=94, loss=0.492]  \n",
      "Epoch: 283: 100%|██████████| 214/214 [00:11<00:00, 18.01batch/s, accuracy=93.6, loss=0.492]\n",
      "Epoch: 284: 100%|██████████| 214/214 [00:11<00:00, 18.23batch/s, accuracy=93.9, loss=0.491]\n",
      "Epoch: 285: 100%|██████████| 214/214 [00:11<00:00, 18.13batch/s, accuracy=94.4, loss=0.489]\n",
      "Epoch: 286: 100%|██████████| 214/214 [00:11<00:00, 18.27batch/s, accuracy=93.1, loss=0.496]\n",
      "Epoch: 287: 100%|██████████| 214/214 [00:11<00:00, 18.08batch/s, accuracy=93.8, loss=0.493]\n",
      "Epoch: 288: 100%|██████████| 214/214 [00:11<00:00, 17.98batch/s, accuracy=93.3, loss=0.494]\n",
      "Epoch: 289: 100%|██████████| 214/214 [00:11<00:00, 18.31batch/s, accuracy=93.7, loss=0.494]\n",
      "Epoch: 290: 100%|██████████| 214/214 [00:11<00:00, 17.97batch/s, accuracy=93.6, loss=0.492]\n",
      "Epoch: 291: 100%|██████████| 214/214 [00:11<00:00, 18.36batch/s, accuracy=94.1, loss=0.492]\n",
      "Epoch: 292: 100%|██████████| 214/214 [00:11<00:00, 18.11batch/s, accuracy=94.2, loss=0.49] \n",
      "Epoch: 293: 100%|██████████| 214/214 [00:11<00:00, 17.90batch/s, accuracy=94.1, loss=0.49] \n",
      "Epoch: 294: 100%|██████████| 214/214 [00:11<00:00, 17.98batch/s, accuracy=94.2, loss=0.491]\n",
      "Epoch: 295: 100%|██████████| 214/214 [00:11<00:00, 18.09batch/s, accuracy=93.4, loss=0.494]\n",
      "Epoch: 296: 100%|██████████| 214/214 [00:11<00:00, 18.06batch/s, accuracy=94, loss=0.49]   \n",
      "Epoch: 297: 100%|██████████| 214/214 [00:11<00:00, 18.12batch/s, accuracy=94, loss=0.491]  \n",
      "Epoch: 298: 100%|██████████| 214/214 [00:11<00:00, 18.05batch/s, accuracy=94.5, loss=0.489]\n",
      "Epoch: 299: 100%|██████████| 214/214 [00:11<00:00, 18.28batch/s, accuracy=94.3, loss=0.49] \n",
      "Epoch: 300: 100%|██████████| 214/214 [00:11<00:00, 18.11batch/s, accuracy=94.5, loss=0.488]\n",
      "Epoch: 301: 100%|██████████| 214/214 [00:11<00:00, 18.03batch/s, accuracy=94.5, loss=0.489]\n",
      "Epoch: 302: 100%|██████████| 214/214 [00:11<00:00, 17.94batch/s, accuracy=94.2, loss=0.489]\n",
      "Epoch: 303: 100%|██████████| 214/214 [00:11<00:00, 18.02batch/s, accuracy=94.1, loss=0.49] \n",
      "Epoch: 304: 100%|██████████| 214/214 [00:11<00:00, 18.21batch/s, accuracy=94.3, loss=0.49] \n",
      "Epoch: 305: 100%|██████████| 214/214 [00:11<00:00, 17.93batch/s, accuracy=94, loss=0.49]   \n",
      "Epoch: 306: 100%|██████████| 214/214 [00:11<00:00, 18.14batch/s, accuracy=94.1, loss=0.49] \n",
      "Epoch: 307: 100%|██████████| 214/214 [00:11<00:00, 18.03batch/s, accuracy=94.3, loss=0.49] \n",
      "Epoch: 308: 100%|██████████| 214/214 [00:11<00:00, 17.98batch/s, accuracy=94.3, loss=0.488]\n",
      "Epoch: 309: 100%|██████████| 214/214 [00:11<00:00, 18.13batch/s, accuracy=94.3, loss=0.49] \n",
      "Epoch: 310: 100%|██████████| 214/214 [00:11<00:00, 18.22batch/s, accuracy=93.9, loss=0.49] \n",
      "Epoch: 311: 100%|██████████| 214/214 [00:11<00:00, 18.15batch/s, accuracy=94.3, loss=0.49] \n",
      "Epoch: 312: 100%|██████████| 214/214 [00:11<00:00, 17.89batch/s, accuracy=94.5, loss=0.488]\n",
      "Epoch: 313: 100%|██████████| 214/214 [00:11<00:00, 18.28batch/s, accuracy=94.3, loss=0.49] \n",
      "Epoch: 314: 100%|██████████| 214/214 [00:11<00:00, 18.00batch/s, accuracy=93.6, loss=0.493]\n",
      "Epoch: 315: 100%|██████████| 214/214 [00:11<00:00, 18.18batch/s, accuracy=94.2, loss=0.49] \n",
      "Epoch: 316: 100%|██████████| 214/214 [00:11<00:00, 18.27batch/s, accuracy=94.2, loss=0.492]\n",
      "Epoch: 317: 100%|██████████| 214/214 [00:11<00:00, 18.09batch/s, accuracy=94.5, loss=0.488]\n",
      "Epoch: 318: 100%|██████████| 214/214 [00:11<00:00, 17.89batch/s, accuracy=94.8, loss=0.489]\n",
      "Epoch: 319: 100%|██████████| 214/214 [00:11<00:00, 17.97batch/s, accuracy=94.9, loss=0.488]\n",
      "Epoch: 320: 100%|██████████| 214/214 [00:11<00:00, 18.08batch/s, accuracy=93.8, loss=0.491]\n",
      "Epoch: 321: 100%|██████████| 214/214 [00:11<00:00, 18.15batch/s, accuracy=94.3, loss=0.49] \n",
      "Epoch: 322: 100%|██████████| 214/214 [00:11<00:00, 18.07batch/s, accuracy=94.6, loss=0.488]\n",
      "Epoch: 323: 100%|██████████| 214/214 [00:11<00:00, 18.48batch/s, accuracy=94.5, loss=0.488]\n",
      "Epoch: 324: 100%|██████████| 214/214 [00:11<00:00, 18.14batch/s, accuracy=94.5, loss=0.489]\n",
      "Epoch: 325: 100%|██████████| 214/214 [00:11<00:00, 18.21batch/s, accuracy=94.5, loss=0.488]\n",
      "Epoch: 326: 100%|██████████| 214/214 [00:11<00:00, 18.18batch/s, accuracy=94.7, loss=0.487]\n",
      "Epoch: 327: 100%|██████████| 214/214 [00:11<00:00, 18.27batch/s, accuracy=94.6, loss=0.488]\n",
      "Epoch: 328: 100%|██████████| 214/214 [00:11<00:00, 18.09batch/s, accuracy=94.7, loss=0.488]\n",
      "Epoch: 329: 100%|██████████| 214/214 [00:11<00:00, 18.29batch/s, accuracy=94.2, loss=0.491]\n",
      "Epoch: 330: 100%|██████████| 214/214 [00:11<00:00, 18.07batch/s, accuracy=94.2, loss=0.49] \n",
      "Epoch: 331: 100%|██████████| 214/214 [00:11<00:00, 18.04batch/s, accuracy=94.6, loss=0.489]\n",
      "Epoch: 332: 100%|██████████| 214/214 [00:11<00:00, 18.10batch/s, accuracy=94.6, loss=0.488]\n",
      "Epoch: 333: 100%|██████████| 214/214 [00:11<00:00, 18.19batch/s, accuracy=93.6, loss=0.493]\n",
      "Epoch: 334: 100%|██████████| 214/214 [00:11<00:00, 17.92batch/s, accuracy=94.3, loss=0.49] \n",
      "Epoch: 335: 100%|██████████| 214/214 [00:11<00:00, 18.02batch/s, accuracy=94.5, loss=0.487]\n",
      "Epoch: 336: 100%|██████████| 214/214 [00:11<00:00, 18.18batch/s, accuracy=94.6, loss=0.487]\n",
      "Epoch: 337: 100%|██████████| 214/214 [00:11<00:00, 17.92batch/s, accuracy=93.4, loss=0.495]\n",
      "Epoch: 338: 100%|██████████| 214/214 [00:11<00:00, 18.17batch/s, accuracy=94.2, loss=0.49] \n",
      "Epoch: 339: 100%|██████████| 214/214 [00:11<00:00, 18.10batch/s, accuracy=93.9, loss=0.49] \n",
      "Epoch: 340: 100%|██████████| 214/214 [00:11<00:00, 18.09batch/s, accuracy=94.7, loss=0.486]\n",
      "Epoch: 341: 100%|██████████| 214/214 [00:11<00:00, 18.15batch/s, accuracy=94.8, loss=0.486]\n",
      "Epoch: 342: 100%|██████████| 214/214 [00:11<00:00, 18.07batch/s, accuracy=94.6, loss=0.487]\n",
      "Epoch: 343: 100%|██████████| 214/214 [00:11<00:00, 18.04batch/s, accuracy=94.8, loss=0.487]\n",
      "Epoch: 344: 100%|██████████| 214/214 [00:11<00:00, 18.11batch/s, accuracy=95, loss=0.486]  \n",
      "Epoch: 345: 100%|██████████| 214/214 [00:11<00:00, 17.92batch/s, accuracy=94.5, loss=0.488]\n",
      "Epoch: 346: 100%|██████████| 214/214 [00:11<00:00, 18.11batch/s, accuracy=94.7, loss=0.488]\n",
      "Epoch: 347: 100%|██████████| 214/214 [00:11<00:00, 18.06batch/s, accuracy=94.9, loss=0.488]\n",
      "Epoch: 348: 100%|██████████| 214/214 [00:11<00:00, 18.30batch/s, accuracy=94.9, loss=0.489]\n",
      "Epoch: 349: 100%|██████████| 214/214 [00:11<00:00, 18.11batch/s, accuracy=94.9, loss=0.487]\n",
      "Epoch: 350: 100%|██████████| 214/214 [00:11<00:00, 18.10batch/s, accuracy=95, loss=0.485]  \n",
      "Epoch: 351: 100%|██████████| 214/214 [00:11<00:00, 18.14batch/s, accuracy=94.9, loss=0.486]\n",
      "Epoch: 352: 100%|██████████| 214/214 [00:11<00:00, 18.13batch/s, accuracy=94.9, loss=0.487]\n",
      "Epoch: 353: 100%|██████████| 214/214 [00:11<00:00, 17.84batch/s, accuracy=94.9, loss=0.489]\n",
      "Epoch: 354: 100%|██████████| 214/214 [00:11<00:00, 18.20batch/s, accuracy=94.2, loss=0.49] \n",
      "Epoch: 355: 100%|██████████| 214/214 [00:11<00:00, 18.14batch/s, accuracy=94.8, loss=0.488]\n",
      "Epoch: 356: 100%|██████████| 214/214 [00:11<00:00, 18.13batch/s, accuracy=94.5, loss=0.488]\n",
      "Epoch: 357: 100%|██████████| 214/214 [00:11<00:00, 18.03batch/s, accuracy=94.9, loss=0.486]\n",
      "Epoch: 358: 100%|██████████| 214/214 [00:11<00:00, 18.02batch/s, accuracy=95, loss=0.486]  \n",
      "Epoch: 359: 100%|██████████| 214/214 [00:11<00:00, 17.93batch/s, accuracy=95, loss=0.486]  \n",
      "Epoch: 360: 100%|██████████| 214/214 [00:11<00:00, 18.15batch/s, accuracy=95.1, loss=0.485]\n",
      "Epoch: 361: 100%|██████████| 214/214 [00:11<00:00, 18.06batch/s, accuracy=95.1, loss=0.486]\n",
      "Epoch: 362: 100%|██████████| 214/214 [00:11<00:00, 17.91batch/s, accuracy=94.9, loss=0.488]\n",
      "Epoch: 363: 100%|██████████| 214/214 [00:11<00:00, 18.07batch/s, accuracy=94.5, loss=0.489]\n",
      "Epoch: 364: 100%|██████████| 214/214 [00:11<00:00, 18.06batch/s, accuracy=94.9, loss=0.486]\n",
      "Epoch: 365: 100%|██████████| 214/214 [00:11<00:00, 17.83batch/s, accuracy=94.9, loss=0.487]\n",
      "Epoch: 366: 100%|██████████| 214/214 [00:11<00:00, 18.08batch/s, accuracy=94.2, loss=0.49] \n",
      "Epoch: 367: 100%|██████████| 214/214 [00:11<00:00, 17.99batch/s, accuracy=94.5, loss=0.489]\n",
      "Epoch: 368: 100%|██████████| 214/214 [00:11<00:00, 17.85batch/s, accuracy=94.7, loss=0.487]\n",
      "Epoch: 369: 100%|██████████| 214/214 [00:11<00:00, 18.04batch/s, accuracy=94.1, loss=0.491]\n",
      "Epoch: 370: 100%|██████████| 214/214 [00:11<00:00, 17.86batch/s, accuracy=95, loss=0.486]  \n",
      "Epoch: 371: 100%|██████████| 214/214 [00:11<00:00, 17.90batch/s, accuracy=95.1, loss=0.486]\n",
      "Epoch: 372: 100%|██████████| 214/214 [00:11<00:00, 17.86batch/s, accuracy=94.9, loss=0.486]\n",
      "Epoch: 373: 100%|██████████| 214/214 [00:12<00:00, 17.82batch/s, accuracy=95, loss=0.487]  \n",
      "Epoch: 374: 100%|██████████| 214/214 [00:11<00:00, 17.99batch/s, accuracy=94.7, loss=0.488]\n",
      "Epoch: 375: 100%|██████████| 214/214 [00:11<00:00, 18.07batch/s, accuracy=95.1, loss=0.485]\n",
      "Epoch: 376: 100%|██████████| 214/214 [00:11<00:00, 17.99batch/s, accuracy=95.2, loss=0.485]\n",
      "Epoch: 377: 100%|██████████| 214/214 [00:11<00:00, 18.08batch/s, accuracy=94.5, loss=0.488]\n",
      "Epoch: 378: 100%|██████████| 214/214 [00:11<00:00, 17.85batch/s, accuracy=94.6, loss=0.488]\n",
      "Epoch: 379: 100%|██████████| 214/214 [00:11<00:00, 17.96batch/s, accuracy=94.2, loss=0.491]\n",
      "Epoch: 380: 100%|██████████| 214/214 [00:11<00:00, 18.01batch/s, accuracy=94.4, loss=0.489]\n",
      "Epoch: 381: 100%|██████████| 214/214 [00:11<00:00, 17.84batch/s, accuracy=94.8, loss=0.486]\n",
      "Epoch: 382: 100%|██████████| 214/214 [00:11<00:00, 17.90batch/s, accuracy=95, loss=0.485]  \n",
      "Epoch: 383: 100%|██████████| 214/214 [00:11<00:00, 18.01batch/s, accuracy=94.9, loss=0.487]\n",
      "Epoch: 384: 100%|██████████| 214/214 [00:11<00:00, 18.17batch/s, accuracy=95.2, loss=0.486]\n",
      "Epoch: 385: 100%|██████████| 214/214 [00:11<00:00, 18.04batch/s, accuracy=95.1, loss=0.485]\n",
      "Epoch: 386: 100%|██████████| 214/214 [00:11<00:00, 18.06batch/s, accuracy=94.2, loss=0.49] \n",
      "Epoch: 387: 100%|██████████| 214/214 [00:11<00:00, 18.11batch/s, accuracy=94.1, loss=0.489]\n",
      "Epoch: 388: 100%|██████████| 214/214 [00:11<00:00, 18.08batch/s, accuracy=95, loss=0.486]  \n",
      "Epoch: 389: 100%|██████████| 214/214 [00:11<00:00, 17.86batch/s, accuracy=94.8, loss=0.488]\n",
      "Epoch: 390: 100%|██████████| 214/214 [00:11<00:00, 17.97batch/s, accuracy=95, loss=0.485]  \n",
      "Epoch: 391: 100%|██████████| 214/214 [00:11<00:00, 18.01batch/s, accuracy=95.1, loss=0.484]\n",
      "Epoch: 392: 100%|██████████| 214/214 [00:11<00:00, 17.96batch/s, accuracy=95.3, loss=0.485]\n",
      "Epoch: 393: 100%|██████████| 214/214 [00:11<00:00, 18.00batch/s, accuracy=95.3, loss=0.485]\n",
      "Epoch: 394: 100%|██████████| 214/214 [00:12<00:00, 17.83batch/s, accuracy=95.5, loss=0.484]\n",
      "Epoch: 395: 100%|██████████| 214/214 [00:11<00:00, 17.91batch/s, accuracy=95.4, loss=0.486]\n",
      "Epoch: 396: 100%|██████████| 214/214 [00:11<00:00, 18.17batch/s, accuracy=95, loss=0.485]  \n",
      "Epoch: 397: 100%|██████████| 214/214 [00:11<00:00, 17.97batch/s, accuracy=95.1, loss=0.485]\n",
      "Epoch: 398: 100%|██████████| 214/214 [00:11<00:00, 17.90batch/s, accuracy=95.3, loss=0.484]\n",
      "Epoch: 399: 100%|██████████| 214/214 [00:11<00:00, 18.04batch/s, accuracy=95.2, loss=0.486]"
     ]
    },
    {
     "name": "stdout",
     "output_type": "stream",
     "text": [
      "Training process is done!\n"
     ]
    },
    {
     "name": "stderr",
     "output_type": "stream",
     "text": [
      "\n"
     ]
    }
   ],
   "source": [
    "model = LSTM_CNN_Model()\n",
    "# model = TSCeption(num_electrodes=14,\n",
    "#                     num_classes=1,\n",
    "#                     num_T=15,\n",
    "#                     num_S=15,\n",
    "#                     in_channels=1,\n",
    "#                     hid_channels=32,\n",
    "#                     sampling_rate=128,\n",
    "#                     dropout=0.5)\n",
    "\n",
    "loss_fn = nn.BCEWithLogitsLoss()\n",
    "# loss_fn = nn.MSELoss()\n",
    "optimizer = optim.Adam(model.parameters(), lr=0.001) # lr = 0.0001\n",
    "\n",
    "device = torch.device(\"cuda\" if torch.cuda.is_available() else \"cpu\")\n",
    "print(f\"Using device: {device}\")\n",
    "\n",
    "model = model.to(device)\n",
    "\n",
    "num_epochs = 400 # 300\n",
    "model_name = model.__class__.__name__\n",
    "print(f\"Start training {model_name} for {num_epochs} epoch\")\n",
    "\n",
    "# Lists to store loss and accuracy values\n",
    "loss_hist = []\n",
    "acc_hist = []\n",
    "\n",
    "# Initialize the best loss variable to track the least loss\n",
    "best_loss = float('inf')  # Set to infinity initially to ensure it gets updated in the first epoch\n",
    "\n",
    "\n",
    "for epoch in range(num_epochs):\n",
    "    # Model training (assuming train_one_step_tqdm is implemented)\n",
    "    model, loss, acc = train_one_step_tqdm(model, train_loader, loss_fn, optimizer, device, epoch, True)\n",
    "    \n",
    "    loss_hist.append(loss)\n",
    "    acc_hist.append(acc)\n",
    "\n",
    "print(\"Training process is done!\")\n",
    "\n"
   ]
  },
  {
   "cell_type": "code",
   "execution_count": 29,
   "metadata": {},
   "outputs": [
    {
     "data": {
      "text/plain": [
       "[<matplotlib.lines.Line2D at 0x7fab504314c0>]"
      ]
     },
     "execution_count": 29,
     "metadata": {},
     "output_type": "execute_result"
    },
    {
     "data": {
      "image/png": "[encoded data removed]",
      "text/plain": [
       "<Figure size 640x480 with 1 Axes>"
      ]
     },
     "metadata": {},
     "output_type": "display_data"
    }
   ],
   "source": [
    "plt.plot(loss_hist)"
   ]
  },
  {
   "cell_type": "code",
   "execution_count": 30,
   "metadata": {},
   "outputs": [
    {
     "data": {
      "text/plain": [
       "[<matplotlib.lines.Line2D at 0x7fab505cef70>]"
      ]
     },
     "execution_count": 30,
     "metadata": {},
     "output_type": "execute_result"
    },
    {
     "data": {
      "image/png": "[encoded data removed]",
      "text/plain": [
       "<Figure size 640x480 with 1 Axes>"
      ]
     },
     "metadata": {},
     "output_type": "display_data"
    }
   ],
   "source": [
    "plt.plot(acc_hist)"
   ]
  },
  {
   "cell_type": "markdown",
   "metadata": {},
   "source": [
    "# TSCeption\n"
   ]
  },
  {
   "cell_type": "code",
   "execution_count": null,
   "metadata": {},
   "outputs": [
    {
     "name": "stdout",
     "output_type": "stream",
     "text": [
      "Using device: cuda\n",
      "Start training TSCEPTIONModel for 10 epoch\n"
     ]
    },
    {
     "name": "stderr",
     "output_type": "stream",
     "text": [
      "Epoch: 0:   1%|          | 2/214 [00:00<00:17, 12.13batch/s, accuracy=45.7, loss=0.712]"
     ]
    },
    {
     "name": "stdout",
     "output_type": "stream",
     "text": [
      "torch.Size([256, 1, 14, 128])\n",
      "torch.Size([256, 1, 14, 128])\n"
     ]
    },
    {
     "name": "stderr",
     "output_type": "stream",
     "text": [
      "Epoch: 0:   1%|          | 2/214 [00:00<00:17, 12.13batch/s, accuracy=44.9, loss=0.711]"
     ]
    },
    {
     "name": "stdout",
     "output_type": "stream",
     "text": [
      "torch.Size([256, 1, 14, 128])\n"
     ]
    },
    {
     "name": "stderr",
     "output_type": "stream",
     "text": [
      "Epoch: 0:   2%|▏         | 4/214 [00:00<00:15, 13.49batch/s, accuracy=45.4, loss=0.707]"
     ]
    },
    {
     "name": "stdout",
     "output_type": "stream",
     "text": [
      "torch.Size([256, 1, 14, 128])\n",
      "torch.Size([256, 1, 14, 128])\n"
     ]
    },
    {
     "name": "stderr",
     "output_type": "stream",
     "text": [
      "Epoch: 0:   3%|▎         | 6/214 [00:00<00:14, 14.15batch/s, accuracy=45.7, loss=0.705]"
     ]
    },
    {
     "name": "stdout",
     "output_type": "stream",
     "text": [
      "torch.Size([256, 1, 14, 128])\n"
     ]
    },
    {
     "name": "stderr",
     "output_type": "stream",
     "text": [
      "Epoch: 0:   4%|▎         | 8/214 [00:00<00:14, 14.17batch/s, accuracy=46.3, loss=0.704]"
     ]
    },
    {
     "name": "stdout",
     "output_type": "stream",
     "text": [
      "torch.Size([256, 1, 14, 128])\n",
      "torch.Size([256, 1, 14, 128])\n"
     ]
    },
    {
     "name": "stderr",
     "output_type": "stream",
     "text": [
      "Epoch: 0:   4%|▎         | 8/214 [00:00<00:14, 14.17batch/s, accuracy=45.9, loss=0.703]"
     ]
    },
    {
     "name": "stdout",
     "output_type": "stream",
     "text": [
      "torch.Size([256, 1, 14, 128])\n"
     ]
    },
    {
     "name": "stderr",
     "output_type": "stream",
     "text": [
      "Epoch: 0:   5%|▍         | 10/214 [00:00<00:14, 14.46batch/s, accuracy=46.4, loss=0.702]"
     ]
    },
    {
     "name": "stdout",
     "output_type": "stream",
     "text": [
      "torch.Size([256, 1, 14, 128])\n",
      "torch.Size([256, 1, 14, 128])\n"
     ]
    },
    {
     "name": "stderr",
     "output_type": "stream",
     "text": [
      "Epoch: 0:   6%|▌         | 12/214 [00:00<00:13, 14.60batch/s, accuracy=46.7, loss=0.701]"
     ]
    },
    {
     "name": "stdout",
     "output_type": "stream",
     "text": [
      "torch.Size([256, 1, 14, 128])\n"
     ]
    },
    {
     "name": "stderr",
     "output_type": "stream",
     "text": [
      "Epoch: 0:   7%|▋         | 14/214 [00:01<00:13, 14.75batch/s, accuracy=47.2, loss=0.701]"
     ]
    },
    {
     "name": "stdout",
     "output_type": "stream",
     "text": [
      "torch.Size([256, 1, 14, 128])\n",
      "torch.Size([256, 1, 14, 128])\n",
      "torch.Size([256, 1, 14, 128])\n"
     ]
    },
    {
     "name": "stderr",
     "output_type": "stream",
     "text": [
      "Epoch: 0:   8%|▊         | 18/214 [00:01<00:13, 14.91batch/s, accuracy=48.2, loss=0.699]"
     ]
    },
    {
     "name": "stdout",
     "output_type": "stream",
     "text": [
      "torch.Size([256, 1, 14, 128])\n",
      "torch.Size([256, 1, 14, 128])\n",
      "torch.Size([256, 1, 14, 128])\n",
      "torch.Size([256, 1, 14, 128])\n"
     ]
    },
    {
     "name": "stderr",
     "output_type": "stream",
     "text": [
      "Epoch: 0:  10%|█         | 22/214 [00:01<00:12, 14.94batch/s, accuracy=49.3, loss=0.696]"
     ]
    },
    {
     "name": "stdout",
     "output_type": "stream",
     "text": [
      "torch.Size([256, 1, 14, 128])\n",
      "torch.Size([256, 1, 14, 128])\n",
      "torch.Size([256, 1, 14, 128])\n",
      "torch.Size([256, 1, 14, 128])\n"
     ]
    },
    {
     "name": "stderr",
     "output_type": "stream",
     "text": [
      "Epoch: 0:  12%|█▏        | 26/214 [00:01<00:12, 15.04batch/s, accuracy=50.4, loss=0.695]"
     ]
    },
    {
     "name": "stdout",
     "output_type": "stream",
     "text": [
      "torch.Size([256, 1, 14, 128])\n",
      "torch.Size([256, 1, 14, 128])\n",
      "torch.Size([256, 1, 14, 128])\n",
      "torch.Size([256, 1, 14, 128])\n"
     ]
    },
    {
     "name": "stderr",
     "output_type": "stream",
     "text": [
      "Epoch: 0:  14%|█▍        | 30/214 [00:02<00:12, 15.01batch/s, accuracy=51, loss=0.694]  "
     ]
    },
    {
     "name": "stdout",
     "output_type": "stream",
     "text": [
      "torch.Size([256, 1, 14, 128])\n",
      "torch.Size([256, 1, 14, 128])\n",
      "torch.Size([256, 1, 14, 128])\n"
     ]
    },
    {
     "name": "stderr",
     "output_type": "stream",
     "text": [
      "Epoch: 0:  15%|█▍        | 32/214 [00:02<00:12, 14.91batch/s, accuracy=52.1, loss=0.692]"
     ]
    },
    {
     "name": "stdout",
     "output_type": "stream",
     "text": [
      "torch.Size([256, 1, 14, 128])\n",
      "torch.Size([256, 1, 14, 128])\n",
      "torch.Size([256, 1, 14, 128])\n",
      "torch.Size([256, 1, 14, 128])\n"
     ]
    },
    {
     "name": "stderr",
     "output_type": "stream",
     "text": [
      "Epoch: 0:  17%|█▋        | 36/214 [00:02<00:11, 15.01batch/s, accuracy=53.1, loss=0.69] "
     ]
    },
    {
     "name": "stdout",
     "output_type": "stream",
     "text": [
      "torch.Size([256, 1, 14, 128])\n",
      "torch.Size([256, 1, 14, 128])\n",
      "torch.Size([256, 1, 14, 128])\n",
      "torch.Size([256, 1, 14, 128])\n"
     ]
    },
    {
     "name": "stderr",
     "output_type": "stream",
     "text": [
      "Epoch: 0:  19%|█▊        | 40/214 [00:02<00:11, 14.97batch/s, accuracy=53.6, loss=0.689]"
     ]
    },
    {
     "name": "stdout",
     "output_type": "stream",
     "text": [
      "torch.Size([256, 1, 14, 128])\n",
      "torch.Size([256, 1, 14, 128])\n",
      "torch.Size([256, 1, 14, 128])\n",
      "torch.Size([256, 1, 14, 128])\n"
     ]
    },
    {
     "name": "stderr",
     "output_type": "stream",
     "text": [
      "Epoch: 0:  21%|██        | 44/214 [00:03<00:11, 14.97batch/s, accuracy=54.1, loss=0.688]"
     ]
    },
    {
     "name": "stdout",
     "output_type": "stream",
     "text": [
      "torch.Size([256, 1, 14, 128])\n",
      "torch.Size([256, 1, 14, 128])\n",
      "torch.Size([256, 1, 14, 128])\n",
      "torch.Size([256, 1, 14, 128])\n"
     ]
    },
    {
     "name": "stderr",
     "output_type": "stream",
     "text": [
      "Epoch: 0:  22%|██▏       | 48/214 [00:03<00:11, 15.01batch/s, accuracy=54.5, loss=0.687]"
     ]
    },
    {
     "name": "stdout",
     "output_type": "stream",
     "text": [
      "torch.Size([256, 1, 14, 128])\n",
      "torch.Size([256, 1, 14, 128])\n",
      "torch.Size([256, 1, 14, 128])\n",
      "torch.Size([256, 1, 14, 128])\n"
     ]
    },
    {
     "name": "stderr",
     "output_type": "stream",
     "text": [
      "Epoch: 0:  24%|██▍       | 52/214 [00:03<00:10, 15.07batch/s, accuracy=54.8, loss=0.686]"
     ]
    },
    {
     "name": "stdout",
     "output_type": "stream",
     "text": [
      "torch.Size([256, 1, 14, 128])\n",
      "torch.Size([256, 1, 14, 128])\n",
      "torch.Size([256, 1, 14, 128])\n",
      "torch.Size([256, 1, 14, 128])\n"
     ]
    },
    {
     "name": "stderr",
     "output_type": "stream",
     "text": [
      "Epoch: 0:  25%|██▌       | 54/214 [00:03<00:10, 14.72batch/s, accuracy=54.9, loss=0.685]\n"
     ]
    },
    {
     "ename": "KeyboardInterrupt",
     "evalue": "",
     "output_type": "error",
     "traceback": [
      "\u001b[0;31m---------------------------------------------------------------------------\u001b[0m",
      "\u001b[0;31mKeyboardInterrupt\u001b[0m                         Traceback (most recent call last)",
      "Cell \u001b[0;32mIn[55], line 44\u001b[0m\n\u001b[1;32m     39\u001b[0m best_loss \u001b[38;5;241m=\u001b[39m \u001b[38;5;28mfloat\u001b[39m(\u001b[38;5;124m'\u001b[39m\u001b[38;5;124minf\u001b[39m\u001b[38;5;124m'\u001b[39m)  \u001b[38;5;66;03m# Set to infinity initially to ensure it gets updated in the first epoch\u001b[39;00m\n\u001b[1;32m     42\u001b[0m \u001b[38;5;28;01mfor\u001b[39;00m epoch \u001b[38;5;129;01min\u001b[39;00m \u001b[38;5;28mrange\u001b[39m(num_epochs):\n\u001b[1;32m     43\u001b[0m     \u001b[38;5;66;03m# Model training (assuming train_one_step_tqdm is implemented)\u001b[39;00m\n\u001b[0;32m---> 44\u001b[0m     model, loss, acc \u001b[38;5;241m=\u001b[39m \u001b[43mtrain_one_step_tqdm\u001b[49m\u001b[43m(\u001b[49m\u001b[43mmodel\u001b[49m\u001b[43m,\u001b[49m\u001b[43m \u001b[49m\u001b[43mtrain_loader\u001b[49m\u001b[43m,\u001b[49m\u001b[43m \u001b[49m\u001b[43mloss_fn\u001b[49m\u001b[43m,\u001b[49m\u001b[43m \u001b[49m\u001b[43moptimizer\u001b[49m\u001b[43m,\u001b[49m\u001b[43m \u001b[49m\u001b[43mdevice\u001b[49m\u001b[43m,\u001b[49m\u001b[43m \u001b[49m\u001b[43mepoch\u001b[49m\u001b[43m,\u001b[49m\u001b[43m \u001b[49m\u001b[38;5;28;43;01mTrue\u001b[39;49;00m\u001b[43m)\u001b[49m\n\u001b[1;32m     46\u001b[0m     loss_hist\u001b[38;5;241m.\u001b[39mappend(loss)\n\u001b[1;32m     47\u001b[0m     acc_hist\u001b[38;5;241m.\u001b[39mappend(acc)\n",
      "File \u001b[0;32m~/SA_FILES/codes/SirAfshin/EEG_PlayGround/utils/utils.py:74\u001b[0m, in \u001b[0;36mtrain_one_step_tqdm\u001b[0;34m(model, train_loader, loss_fn, optimizer, device, epoch, is_binary)\u001b[0m\n\u001b[1;32m     71\u001b[0m     acc_train \u001b[38;5;241m=\u001b[39m Accuracy()\u001b[38;5;241m.\u001b[39mto(device)\n\u001b[1;32m     73\u001b[0m \u001b[38;5;28;01mwith\u001b[39;00m tqdm(train_loader, unit\u001b[38;5;241m=\u001b[39m\u001b[38;5;124m'\u001b[39m\u001b[38;5;124mbatch\u001b[39m\u001b[38;5;124m'\u001b[39m) \u001b[38;5;28;01mas\u001b[39;00m tepoch:\n\u001b[0;32m---> 74\u001b[0m     \u001b[38;5;28;01mfor\u001b[39;00m inputs, targets \u001b[38;5;129;01min\u001b[39;00m tepoch:\n\u001b[1;32m     75\u001b[0m         \u001b[38;5;28;01mif\u001b[39;00m epoch \u001b[38;5;241m!=\u001b[39m \u001b[38;5;28;01mNone\u001b[39;00m:\n\u001b[1;32m     76\u001b[0m             tepoch\u001b[38;5;241m.\u001b[39mset_description(\u001b[38;5;124mf\u001b[39m\u001b[38;5;124m\"\u001b[39m\u001b[38;5;124mEpoch: \u001b[39m\u001b[38;5;132;01m{\u001b[39;00mepoch\u001b[38;5;132;01m}\u001b[39;00m\u001b[38;5;124m\"\u001b[39m)\n",
      "File \u001b[0;32m~/SA_FILES/Bayat_env/torcheeg_SA_3/lib/python3.9/site-packages/tqdm/std.py:1181\u001b[0m, in \u001b[0;36mtqdm.__iter__\u001b[0;34m(self)\u001b[0m\n\u001b[1;32m   1178\u001b[0m time \u001b[38;5;241m=\u001b[39m \u001b[38;5;28mself\u001b[39m\u001b[38;5;241m.\u001b[39m_time\n\u001b[1;32m   1180\u001b[0m \u001b[38;5;28;01mtry\u001b[39;00m:\n\u001b[0;32m-> 1181\u001b[0m     \u001b[38;5;28;01mfor\u001b[39;00m obj \u001b[38;5;129;01min\u001b[39;00m iterable:\n\u001b[1;32m   1182\u001b[0m         \u001b[38;5;28;01myield\u001b[39;00m obj\n\u001b[1;32m   1183\u001b[0m         \u001b[38;5;66;03m# Update and possibly print the progressbar.\u001b[39;00m\n\u001b[1;32m   1184\u001b[0m         \u001b[38;5;66;03m# Note: does not call self.update(1) for speed optimisation.\u001b[39;00m\n",
      "File \u001b[0;32m~/SA_FILES/Bayat_env/torcheeg_SA_3/lib/python3.9/site-packages/torch/utils/data/dataloader.py:530\u001b[0m, in \u001b[0;36m_BaseDataLoaderIter.__next__\u001b[0;34m(self)\u001b[0m\n\u001b[1;32m    528\u001b[0m \u001b[38;5;28;01mif\u001b[39;00m \u001b[38;5;28mself\u001b[39m\u001b[38;5;241m.\u001b[39m_sampler_iter \u001b[38;5;129;01mis\u001b[39;00m \u001b[38;5;28;01mNone\u001b[39;00m:\n\u001b[1;32m    529\u001b[0m     \u001b[38;5;28mself\u001b[39m\u001b[38;5;241m.\u001b[39m_reset()\n\u001b[0;32m--> 530\u001b[0m data \u001b[38;5;241m=\u001b[39m \u001b[38;5;28;43mself\u001b[39;49m\u001b[38;5;241;43m.\u001b[39;49m\u001b[43m_next_data\u001b[49m\u001b[43m(\u001b[49m\u001b[43m)\u001b[49m\n\u001b[1;32m    531\u001b[0m \u001b[38;5;28mself\u001b[39m\u001b[38;5;241m.\u001b[39m_num_yielded \u001b[38;5;241m+\u001b[39m\u001b[38;5;241m=\u001b[39m \u001b[38;5;241m1\u001b[39m\n\u001b[1;32m    532\u001b[0m \u001b[38;5;28;01mif\u001b[39;00m \u001b[38;5;28mself\u001b[39m\u001b[38;5;241m.\u001b[39m_dataset_kind \u001b[38;5;241m==\u001b[39m _DatasetKind\u001b[38;5;241m.\u001b[39mIterable \u001b[38;5;129;01mand\u001b[39;00m \\\n\u001b[1;32m    533\u001b[0m         \u001b[38;5;28mself\u001b[39m\u001b[38;5;241m.\u001b[39m_IterableDataset_len_called \u001b[38;5;129;01mis\u001b[39;00m \u001b[38;5;129;01mnot\u001b[39;00m \u001b[38;5;28;01mNone\u001b[39;00m \u001b[38;5;129;01mand\u001b[39;00m \\\n\u001b[1;32m    534\u001b[0m         \u001b[38;5;28mself\u001b[39m\u001b[38;5;241m.\u001b[39m_num_yielded \u001b[38;5;241m>\u001b[39m \u001b[38;5;28mself\u001b[39m\u001b[38;5;241m.\u001b[39m_IterableDataset_len_called:\n",
      "File \u001b[0;32m~/SA_FILES/Bayat_env/torcheeg_SA_3/lib/python3.9/site-packages/torch/utils/data/dataloader.py:570\u001b[0m, in \u001b[0;36m_SingleProcessDataLoaderIter._next_data\u001b[0;34m(self)\u001b[0m\n\u001b[1;32m    568\u001b[0m \u001b[38;5;28;01mdef\u001b[39;00m \u001b[38;5;21m_next_data\u001b[39m(\u001b[38;5;28mself\u001b[39m):\n\u001b[1;32m    569\u001b[0m     index \u001b[38;5;241m=\u001b[39m \u001b[38;5;28mself\u001b[39m\u001b[38;5;241m.\u001b[39m_next_index()  \u001b[38;5;66;03m# may raise StopIteration\u001b[39;00m\n\u001b[0;32m--> 570\u001b[0m     data \u001b[38;5;241m=\u001b[39m \u001b[38;5;28;43mself\u001b[39;49m\u001b[38;5;241;43m.\u001b[39;49m\u001b[43m_dataset_fetcher\u001b[49m\u001b[38;5;241;43m.\u001b[39;49m\u001b[43mfetch\u001b[49m\u001b[43m(\u001b[49m\u001b[43mindex\u001b[49m\u001b[43m)\u001b[49m  \u001b[38;5;66;03m# may raise StopIteration\u001b[39;00m\n\u001b[1;32m    571\u001b[0m     \u001b[38;5;28;01mif\u001b[39;00m \u001b[38;5;28mself\u001b[39m\u001b[38;5;241m.\u001b[39m_pin_memory:\n\u001b[1;32m    572\u001b[0m         data \u001b[38;5;241m=\u001b[39m _utils\u001b[38;5;241m.\u001b[39mpin_memory\u001b[38;5;241m.\u001b[39mpin_memory(data)\n",
      "File \u001b[0;32m~/SA_FILES/Bayat_env/torcheeg_SA_3/lib/python3.9/site-packages/torch/utils/data/_utils/fetch.py:49\u001b[0m, in \u001b[0;36m_MapDatasetFetcher.fetch\u001b[0;34m(self, possibly_batched_index)\u001b[0m\n\u001b[1;32m     47\u001b[0m \u001b[38;5;28;01mdef\u001b[39;00m \u001b[38;5;21mfetch\u001b[39m(\u001b[38;5;28mself\u001b[39m, possibly_batched_index):\n\u001b[1;32m     48\u001b[0m     \u001b[38;5;28;01mif\u001b[39;00m \u001b[38;5;28mself\u001b[39m\u001b[38;5;241m.\u001b[39mauto_collation:\n\u001b[0;32m---> 49\u001b[0m         data \u001b[38;5;241m=\u001b[39m [\u001b[38;5;28mself\u001b[39m\u001b[38;5;241m.\u001b[39mdataset[idx] \u001b[38;5;28;01mfor\u001b[39;00m idx \u001b[38;5;129;01min\u001b[39;00m possibly_batched_index]\n\u001b[1;32m     50\u001b[0m     \u001b[38;5;28;01melse\u001b[39;00m:\n\u001b[1;32m     51\u001b[0m         data \u001b[38;5;241m=\u001b[39m \u001b[38;5;28mself\u001b[39m\u001b[38;5;241m.\u001b[39mdataset[possibly_batched_index]\n",
      "File \u001b[0;32m~/SA_FILES/Bayat_env/torcheeg_SA_3/lib/python3.9/site-packages/torch/utils/data/_utils/fetch.py:49\u001b[0m, in \u001b[0;36m<listcomp>\u001b[0;34m(.0)\u001b[0m\n\u001b[1;32m     47\u001b[0m \u001b[38;5;28;01mdef\u001b[39;00m \u001b[38;5;21mfetch\u001b[39m(\u001b[38;5;28mself\u001b[39m, possibly_batched_index):\n\u001b[1;32m     48\u001b[0m     \u001b[38;5;28;01mif\u001b[39;00m \u001b[38;5;28mself\u001b[39m\u001b[38;5;241m.\u001b[39mauto_collation:\n\u001b[0;32m---> 49\u001b[0m         data \u001b[38;5;241m=\u001b[39m [\u001b[38;5;28;43mself\u001b[39;49m\u001b[38;5;241;43m.\u001b[39;49m\u001b[43mdataset\u001b[49m\u001b[43m[\u001b[49m\u001b[43midx\u001b[49m\u001b[43m]\u001b[49m \u001b[38;5;28;01mfor\u001b[39;00m idx \u001b[38;5;129;01min\u001b[39;00m possibly_batched_index]\n\u001b[1;32m     50\u001b[0m     \u001b[38;5;28;01melse\u001b[39;00m:\n\u001b[1;32m     51\u001b[0m         data \u001b[38;5;241m=\u001b[39m \u001b[38;5;28mself\u001b[39m\u001b[38;5;241m.\u001b[39mdataset[possibly_batched_index]\n",
      "File \u001b[0;32m~/SA_FILES/Bayat_env/torcheeg_SA_3/lib/python3.9/site-packages/torcheeg/datasets/module/emotion_recognition/dreamer.py:270\u001b[0m, in \u001b[0;36mDREAMERDataset.__getitem__\u001b[0;34m(self, index)\u001b[0m\n\u001b[1;32m    269\u001b[0m \u001b[38;5;28;01mdef\u001b[39;00m \u001b[38;5;21m__getitem__\u001b[39m(\u001b[38;5;28mself\u001b[39m, index: \u001b[38;5;28mint\u001b[39m) \u001b[38;5;241m-\u001b[39m\u001b[38;5;241m>\u001b[39m Tuple:\n\u001b[0;32m--> 270\u001b[0m     info \u001b[38;5;241m=\u001b[39m \u001b[38;5;28;43mself\u001b[39;49m\u001b[38;5;241;43m.\u001b[39;49m\u001b[43mread_info\u001b[49m\u001b[43m(\u001b[49m\u001b[43mindex\u001b[49m\u001b[43m)\u001b[49m\n\u001b[1;32m    272\u001b[0m     eeg_index \u001b[38;5;241m=\u001b[39m \u001b[38;5;28mstr\u001b[39m(info[\u001b[38;5;124m'\u001b[39m\u001b[38;5;124mclip_id\u001b[39m\u001b[38;5;124m'\u001b[39m])\n\u001b[1;32m    273\u001b[0m     eeg_record \u001b[38;5;241m=\u001b[39m \u001b[38;5;28mstr\u001b[39m(info[\u001b[38;5;124m'\u001b[39m\u001b[38;5;124m_record_id\u001b[39m\u001b[38;5;124m'\u001b[39m])\n",
      "File \u001b[0;32m~/SA_FILES/Bayat_env/torcheeg_SA_3/lib/python3.9/site-packages/torcheeg/datasets/module/base_dataset.py:435\u001b[0m, in \u001b[0;36mBaseDataset.read_info\u001b[0;34m(self, index)\u001b[0m\n\u001b[1;32m    423\u001b[0m \u001b[38;5;28;01mdef\u001b[39;00m \u001b[38;5;21mread_info\u001b[39m(\u001b[38;5;28mself\u001b[39m, index: \u001b[38;5;28mint\u001b[39m) \u001b[38;5;241m-\u001b[39m\u001b[38;5;241m>\u001b[39m Dict:\n\u001b[1;32m    424\u001b[0m \u001b[38;5;250m    \u001b[39m\u001b[38;5;124mr\u001b[39m\u001b[38;5;124;03m'''\u001b[39;00m\n\u001b[1;32m    425\u001b[0m \u001b[38;5;124;03m    Query the corresponding meta information in the MetaInfoIO according to the the given :obj:`index`.\u001b[39;00m\n\u001b[1;32m    426\u001b[0m \n\u001b[0;32m   (...)\u001b[0m\n\u001b[1;32m    433\u001b[0m \u001b[38;5;124;03m        dict: The meta information.\u001b[39;00m\n\u001b[1;32m    434\u001b[0m \u001b[38;5;124;03m    '''\u001b[39;00m\n\u001b[0;32m--> 435\u001b[0m     \u001b[38;5;28;01mreturn\u001b[39;00m \u001b[38;5;28;43mself\u001b[39;49m\u001b[38;5;241;43m.\u001b[39;49m\u001b[43minfo\u001b[49m\u001b[38;5;241;43m.\u001b[39;49m\u001b[43miloc\u001b[49m\u001b[43m[\u001b[49m\u001b[43mindex\u001b[49m\u001b[43m]\u001b[49m\u001b[38;5;241m.\u001b[39mto_dict()\n",
      "File \u001b[0;32m~/SA_FILES/Bayat_env/torcheeg_SA_3/lib/python3.9/site-packages/pandas/core/indexing.py:1191\u001b[0m, in \u001b[0;36m_LocationIndexer.__getitem__\u001b[0;34m(self, key)\u001b[0m\n\u001b[1;32m   1189\u001b[0m maybe_callable \u001b[38;5;241m=\u001b[39m com\u001b[38;5;241m.\u001b[39mapply_if_callable(key, \u001b[38;5;28mself\u001b[39m\u001b[38;5;241m.\u001b[39mobj)\n\u001b[1;32m   1190\u001b[0m maybe_callable \u001b[38;5;241m=\u001b[39m \u001b[38;5;28mself\u001b[39m\u001b[38;5;241m.\u001b[39m_check_deprecated_callable_usage(key, maybe_callable)\n\u001b[0;32m-> 1191\u001b[0m \u001b[38;5;28;01mreturn\u001b[39;00m \u001b[38;5;28;43mself\u001b[39;49m\u001b[38;5;241;43m.\u001b[39;49m\u001b[43m_getitem_axis\u001b[49m\u001b[43m(\u001b[49m\u001b[43mmaybe_callable\u001b[49m\u001b[43m,\u001b[49m\u001b[43m \u001b[49m\u001b[43maxis\u001b[49m\u001b[38;5;241;43m=\u001b[39;49m\u001b[43maxis\u001b[49m\u001b[43m)\u001b[49m\n",
      "File \u001b[0;32m~/SA_FILES/Bayat_env/torcheeg_SA_3/lib/python3.9/site-packages/pandas/core/indexing.py:1754\u001b[0m, in \u001b[0;36m_iLocIndexer._getitem_axis\u001b[0;34m(self, key, axis)\u001b[0m\n\u001b[1;32m   1751\u001b[0m \u001b[38;5;66;03m# validate the location\u001b[39;00m\n\u001b[1;32m   1752\u001b[0m \u001b[38;5;28mself\u001b[39m\u001b[38;5;241m.\u001b[39m_validate_integer(key, axis)\n\u001b[0;32m-> 1754\u001b[0m \u001b[38;5;28;01mreturn\u001b[39;00m \u001b[38;5;28;43mself\u001b[39;49m\u001b[38;5;241;43m.\u001b[39;49m\u001b[43mobj\u001b[49m\u001b[38;5;241;43m.\u001b[39;49m\u001b[43m_ixs\u001b[49m\u001b[43m(\u001b[49m\u001b[43mkey\u001b[49m\u001b[43m,\u001b[49m\u001b[43m \u001b[49m\u001b[43maxis\u001b[49m\u001b[38;5;241;43m=\u001b[39;49m\u001b[43maxis\u001b[49m\u001b[43m)\u001b[49m\n",
      "File \u001b[0;32m~/SA_FILES/Bayat_env/torcheeg_SA_3/lib/python3.9/site-packages/pandas/core/frame.py:3996\u001b[0m, in \u001b[0;36mDataFrame._ixs\u001b[0;34m(self, i, axis)\u001b[0m\n\u001b[1;32m   3994\u001b[0m \u001b[38;5;66;03m# irow\u001b[39;00m\n\u001b[1;32m   3995\u001b[0m \u001b[38;5;28;01mif\u001b[39;00m axis \u001b[38;5;241m==\u001b[39m \u001b[38;5;241m0\u001b[39m:\n\u001b[0;32m-> 3996\u001b[0m     new_mgr \u001b[38;5;241m=\u001b[39m \u001b[38;5;28;43mself\u001b[39;49m\u001b[38;5;241;43m.\u001b[39;49m\u001b[43m_mgr\u001b[49m\u001b[38;5;241;43m.\u001b[39;49m\u001b[43mfast_xs\u001b[49m\u001b[43m(\u001b[49m\u001b[43mi\u001b[49m\u001b[43m)\u001b[49m\n\u001b[1;32m   3998\u001b[0m     \u001b[38;5;66;03m# if we are a copy, mark as such\u001b[39;00m\n\u001b[1;32m   3999\u001b[0m     copy \u001b[38;5;241m=\u001b[39m \u001b[38;5;28misinstance\u001b[39m(new_mgr\u001b[38;5;241m.\u001b[39marray, np\u001b[38;5;241m.\u001b[39mndarray) \u001b[38;5;129;01mand\u001b[39;00m new_mgr\u001b[38;5;241m.\u001b[39marray\u001b[38;5;241m.\u001b[39mbase \u001b[38;5;129;01mis\u001b[39;00m \u001b[38;5;28;01mNone\u001b[39;00m\n",
      "File \u001b[0;32m~/SA_FILES/Bayat_env/torcheeg_SA_3/lib/python3.9/site-packages/pandas/core/internals/managers.py:1010\u001b[0m, in \u001b[0;36mBlockManager.fast_xs\u001b[0;34m(self, loc)\u001b[0m\n\u001b[1;32m   1008\u001b[0m bp \u001b[38;5;241m=\u001b[39m BlockPlacement(\u001b[38;5;28mslice\u001b[39m(\u001b[38;5;241m0\u001b[39m, \u001b[38;5;28mlen\u001b[39m(result)))\n\u001b[1;32m   1009\u001b[0m block \u001b[38;5;241m=\u001b[39m new_block(result, placement\u001b[38;5;241m=\u001b[39mbp, ndim\u001b[38;5;241m=\u001b[39m\u001b[38;5;241m1\u001b[39m)\n\u001b[0;32m-> 1010\u001b[0m \u001b[38;5;28;01mreturn\u001b[39;00m \u001b[43mSingleBlockManager\u001b[49m\u001b[43m(\u001b[49m\u001b[43mblock\u001b[49m\u001b[43m,\u001b[49m\u001b[43m \u001b[49m\u001b[38;5;28;43mself\u001b[39;49m\u001b[38;5;241;43m.\u001b[39;49m\u001b[43maxes\u001b[49m\u001b[43m[\u001b[49m\u001b[38;5;241;43m0\u001b[39;49m\u001b[43m]\u001b[49m\u001b[43m)\u001b[49m\n",
      "File \u001b[0;32m~/SA_FILES/Bayat_env/torcheeg_SA_3/lib/python3.9/site-packages/pandas/core/internals/managers.py:1837\u001b[0m, in \u001b[0;36mSingleBlockManager.__init__\u001b[0;34m(self, block, axis, verify_integrity)\u001b[0m\n\u001b[1;32m   1834\u001b[0m \u001b[38;5;18m__slots__\u001b[39m \u001b[38;5;241m=\u001b[39m ()\n\u001b[1;32m   1835\u001b[0m is_single_block \u001b[38;5;241m=\u001b[39m \u001b[38;5;28;01mTrue\u001b[39;00m\n\u001b[0;32m-> 1837\u001b[0m \u001b[38;5;28;01mdef\u001b[39;00m \u001b[38;5;21m__init__\u001b[39m(\n\u001b[1;32m   1838\u001b[0m     \u001b[38;5;28mself\u001b[39m,\n\u001b[1;32m   1839\u001b[0m     block: Block,\n\u001b[1;32m   1840\u001b[0m     axis: Index,\n\u001b[1;32m   1841\u001b[0m     verify_integrity: \u001b[38;5;28mbool\u001b[39m \u001b[38;5;241m=\u001b[39m \u001b[38;5;28;01mFalse\u001b[39;00m,\n\u001b[1;32m   1842\u001b[0m ) \u001b[38;5;241m-\u001b[39m\u001b[38;5;241m>\u001b[39m \u001b[38;5;28;01mNone\u001b[39;00m:\n\u001b[1;32m   1843\u001b[0m     \u001b[38;5;66;03m# Assertions disabled for performance\u001b[39;00m\n\u001b[1;32m   1844\u001b[0m     \u001b[38;5;66;03m# assert isinstance(block, Block), type(block)\u001b[39;00m\n\u001b[1;32m   1845\u001b[0m     \u001b[38;5;66;03m# assert isinstance(axis, Index), type(axis)\u001b[39;00m\n\u001b[1;32m   1847\u001b[0m     \u001b[38;5;28mself\u001b[39m\u001b[38;5;241m.\u001b[39maxes \u001b[38;5;241m=\u001b[39m [axis]\n\u001b[1;32m   1848\u001b[0m     \u001b[38;5;28mself\u001b[39m\u001b[38;5;241m.\u001b[39mblocks \u001b[38;5;241m=\u001b[39m (block,)\n",
      "\u001b[0;31mKeyboardInterrupt\u001b[0m: "
     ]
    }
   ],
   "source": [
    "class TSCEPTIONModel(nn.Module):\n",
    "    def __init__(self):\n",
    "        super().__init__()\n",
    "        self.tsception = TSCeption(num_electrodes=14,\n",
    "                        num_classes=1,\n",
    "                        num_T=15,\n",
    "                        num_S=15,\n",
    "                        in_channels=1,\n",
    "                        hid_channels=32,\n",
    "                        sampling_rate=128,\n",
    "                        dropout=0.5)\n",
    "        \n",
    "    def forward(self, x):\n",
    "        x = x.unsqueeze(1)\n",
    "        x = self.tsception(x)\n",
    "        return x\n",
    "\n",
    "model = TSCEPTIONModel()\n",
    "\n",
    "loss_fn = nn.BCEWithLogitsLoss()\n",
    "# loss_fn = nn.MSELoss()\n",
    "optimizer = optim.Adam(model.parameters(), lr=0.001) # lr = 0.0001\n",
    "\n",
    "device = torch.device(\"cuda\" if torch.cuda.is_available() else \"cpu\")\n",
    "print(f\"Using device: {device}\")\n",
    "\n",
    "model = model.to(device)\n",
    "\n",
    "num_epochs = 10 # 300\n",
    "model_name = model.__class__.__name__\n",
    "print(f\"Start training {model_name} for {num_epochs} epoch\")\n",
    "\n",
    "# Lists to store loss and accuracy values\n",
    "loss_hist = []\n",
    "acc_hist = []\n",
    "\n",
    "# Initialize the best loss variable to track the least loss\n",
    "best_loss = float('inf')  # Set to infinity initially to ensure it gets updated in the first epoch\n",
    "\n",
    "\n",
    "for epoch in range(num_epochs):\n",
    "    # Model training (assuming train_one_step_tqdm is implemented)\n",
    "    model, loss, acc = train_one_step_tqdm(model, train_loader, loss_fn, optimizer, device, epoch, True)\n",
    "    \n",
    "    loss_hist.append(loss)\n",
    "    acc_hist.append(acc)\n",
    "\n",
    "print(\"Training process is done!\")\n",
    "\n"
   ]
  },
  {
   "cell_type": "code",
   "execution_count": null,
   "metadata": {},
   "outputs": [],
   "source": []
  },
  {
   "cell_type": "code",
   "execution_count": null,
   "metadata": {},
   "outputs": [],
   "source": []
  },
  {
   "cell_type": "code",
   "execution_count": null,
   "metadata": {},
   "outputs": [],
   "source": []
  }
 ],
 "metadata": {
  "kernelspec": {
   "display_name": "Python 3",
   "language": "python",
   "name": "python3"
  },
  "language_info": {
   "codemirror_mode": {
    "name": "ipython",
    "version": 3
   },
   "file_extension": ".py",
   "mimetype": "text/x-python",
   "name": "python",
   "nbconvert_exporter": "python",
   "pygments_lexer": "ipython3",
   "version": "3.9.19"
  }
 },
 "nbformat": 4,
 "nbformat_minor": 2
}
